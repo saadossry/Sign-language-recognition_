{
  "cells": [
    {
      "cell_type": "markdown",
      "source": [
        "# **Importing basic libraries required for the project and define function to load datasets**"
      ],
      "metadata": {
        "id": "VCyjEGFfSBGh"
      }
    },
    {
      "cell_type": "code",
      "execution_count": null,
      "metadata": {
        "id": "ND-5sxK0Dg6o"
      },
      "outputs": [],
      "source": [
        "from sklearn.datasets import load_files       \n",
        "from keras.utils import np_utils\n",
        "import numpy as np\n",
        "from glob import glob\n",
        "from sklearn.model_selection import train_test_split\n",
        "\n",
        "\n",
        "# define function to load datasets\n",
        "def load_dataset(path):\n",
        "    data = load_files(path)\n",
        "    files = np.array(data['filenames'])\n",
        "    targets = np_utils.to_categorical(np.array(data['target']), 36) \n",
        "\n",
        "    return files, targets"
      ]
    },
    {
      "cell_type": "markdown",
      "source": [
        "# **Mounting google drive to download a dataset from there**"
      ],
      "metadata": {
        "id": "Crt6Xmk8SVfr"
      }
    },
    {
      "cell_type": "code",
      "execution_count": null,
      "metadata": {
        "colab": {
          "base_uri": "https://localhost:8080/"
        },
        "id": "hRF3AKQnvxMP",
        "outputId": "01963d76-08d6-477f-9f6c-35456ebffb86"
      },
      "outputs": [
        {
          "output_type": "stream",
          "name": "stdout",
          "text": [
            "Drive already mounted at /content/drive; to attempt to forcibly remount, call drive.mount(\"/content/drive\", force_remount=True).\n"
          ]
        }
      ],
      "source": [
        "from google.colab import drive\n",
        "drive.mount('/content/drive')"
      ]
    },
    {
      "cell_type": "markdown",
      "source": [
        "# **Load train, test, and validation datasets**"
      ],
      "metadata": {
        "id": "WpX7qYelScau"
      }
    },
    {
      "cell_type": "code",
      "execution_count": null,
      "metadata": {
        "id": "2sJSQ2KUoIPF"
      },
      "outputs": [],
      "source": [
        "\n",
        "data_files, data_targets = load_dataset('/content/drive/MyDrive/ASL_FingerSpelling_Dataset') \n",
        "# load list of names\n",
        "names = [item[17:19] for item in sorted(glob(\"/content/drive/MyDrive/ASL_FingerSpelling_Dataset/*/\"))]\n",
        "\n",
        "X_train, X_test, y_train, y_test = train_test_split(data_files, data_targets, test_size=0.2, random_state=42) "
      ]
    },
    {
      "cell_type": "markdown",
      "source": [
        "# **Print statistics about the dataset**\n",
        "\n"
      ],
      "metadata": {
        "id": "6DmnCYGDTd6H"
      }
    },
    {
      "cell_type": "code",
      "execution_count": null,
      "metadata": {
        "colab": {
          "base_uri": "https://localhost:8080/"
        },
        "id": "jtqc0GiFKNHf",
        "outputId": "77cb6d71-2ef9-4b9f-b6ac-e6969cc5f872"
      },
      "outputs": [
        {
          "output_type": "stream",
          "name": "stdout",
          "text": [
            "There are 2515 total images.\n",
            "\n",
            "There are 2012 training images.\n",
            "There are 36 total categories.\n",
            "There are 503 testing images.\n"
          ]
        }
      ],
      "source": [
        "\n",
        "print('There are %s total images.\\n' % len(np.hstack([X_train, X_test])))\n",
        "print('There are %d training images.' % len(X_train))\n",
        "print('There are %d total categories.' % len(names))\n",
        "print('There are %d testing images.' % len(X_test))\n"
      ]
    },
    {
      "cell_type": "markdown",
      "source": [
        "# **Pre-process the Data**"
      ],
      "metadata": {
        "id": "sM6tqhsRTmCU"
      }
    },
    {
      "cell_type": "code",
      "execution_count": null,
      "metadata": {
        "id": "gKwJvjPfJrJO",
        "colab": {
          "base_uri": "https://localhost:8080/"
        },
        "outputId": "3f5086f1-196b-46c8-a958-b4c9139e26ae"
      },
      "outputs": [
        {
          "output_type": "stream",
          "name": "stdout",
          "text": [
            "Looking in indexes: https://pypi.org/simple, https://us-python.pkg.dev/colab-wheels/public/simple/\n",
            "Requirement already satisfied: keras_preprocessing in /usr/local/lib/python3.9/dist-packages (1.1.2)\n",
            "Requirement already satisfied: six>=1.9.0 in /usr/local/lib/python3.9/dist-packages (from keras_preprocessing) (1.15.0)\n",
            "Requirement already satisfied: numpy>=1.9.1 in /usr/local/lib/python3.9/dist-packages (from keras_preprocessing) (1.22.4)\n"
          ]
        }
      ],
      "source": [
        "# Pre-process the Data\n",
        "!pip install keras_preprocessing\n",
        "\n",
        "from keras_preprocessing import image                  ## ready the image \n",
        "from tqdm import tqdm\n",
        "\n",
        "def path_to_tensor(img_path): ## chagne them to a tensor \n",
        "    # loads RGB image as PIL.Image.Image type\n",
        "    img = image.load_img(img_path, target_size=(224, 224))\n",
        "    # convert PIL.Image.Image type to 3D tensor with shape (224, 224, 3)\n",
        "    x = image.img_to_array(img)\n",
        "    # convert 3D tensor to 4D tensor with shape (1, 224, 224, 3) and return 4D tensor\n",
        "    return np.expand_dims(x, axis=0)\n",
        "\n",
        "def paths_to_tensor(img_paths):\n",
        "    list_of_tensors = [path_to_tensor(img_path) for img_path in tqdm(img_paths)]\n",
        "    return np.vstack(list_of_tensors)"
      ]
    },
    {
      "cell_type": "markdown",
      "source": [
        "# **pre-process the data for Keras**"
      ],
      "metadata": {
        "id": "m0Ese77RTuBM"
      }
    },
    {
      "cell_type": "code",
      "execution_count": null,
      "metadata": {
        "id": "7B-ZiXSLM80o",
        "colab": {
          "base_uri": "https://localhost:8080/"
        },
        "outputId": "c6ba88c9-90bb-44cd-dedb-fc0246c84c31"
      },
      "outputs": [
        {
          "output_type": "stream",
          "name": "stderr",
          "text": [
            "100%|██████████| 2012/2012 [00:14<00:00, 137.43it/s]\n",
            "100%|██████████| 503/503 [00:03<00:00, 131.83it/s]\n"
          ]
        }
      ],
      "source": [
        "from PIL import ImageFile                            \n",
        "ImageFile.LOAD_TRUNCATED_IMAGES = True                 \n",
        "\n",
        "# pre-process the data for Keras\n",
        "train_targets=y_train\n",
        "test_targets=y_test\n",
        "train_tensors = paths_to_tensor(X_train).astype('float32')/255\n",
        "test_tensors = paths_to_tensor(X_test).astype('float32')/255"
      ]
    },
    {
      "cell_type": "markdown",
      "source": [
        "# **Building a VGG16 model**"
      ],
      "metadata": {
        "id": "RbhH3xduUeQl"
      }
    },
    {
      "cell_type": "code",
      "execution_count": null,
      "metadata": {
        "colab": {
          "base_uri": "https://localhost:8080/"
        },
        "id": "Dyq-5LX3Rw8z",
        "outputId": "f5505413-b876-40cc-9e15-e445c723703a"
      },
      "outputs": [
        {
          "output_type": "stream",
          "name": "stdout",
          "text": [
            "Downloading data from https://storage.googleapis.com/tensorflow/keras-applications/vgg16/vgg16_weights_tf_dim_ordering_tf_kernels_notop.h5\n",
            "58889256/58889256 [==============================] - 2s 0us/step\n",
            "Model: \"vgg16\"\n",
            "_________________________________________________________________\n",
            " Layer (type)                Output Shape              Param #   \n",
            "=================================================================\n",
            " input_1 (InputLayer)        [(None, None, None, 3)]   0         \n",
            "                                                                 \n",
            " block1_conv1 (Conv2D)       (None, None, None, 64)    1792      \n",
            "                                                                 \n",
            " block1_conv2 (Conv2D)       (None, None, None, 64)    36928     \n",
            "                                                                 \n",
            " block1_pool (MaxPooling2D)  (None, None, None, 64)    0         \n",
            "                                                                 \n",
            " block2_conv1 (Conv2D)       (None, None, None, 128)   73856     \n",
            "                                                                 \n",
            " block2_conv2 (Conv2D)       (None, None, None, 128)   147584    \n",
            "                                                                 \n",
            " block2_pool (MaxPooling2D)  (None, None, None, 128)   0         \n",
            "                                                                 \n",
            " block3_conv1 (Conv2D)       (None, None, None, 256)   295168    \n",
            "                                                                 \n",
            " block3_conv2 (Conv2D)       (None, None, None, 256)   590080    \n",
            "                                                                 \n",
            " block3_conv3 (Conv2D)       (None, None, None, 256)   590080    \n",
            "                                                                 \n",
            " block3_pool (MaxPooling2D)  (None, None, None, 256)   0         \n",
            "                                                                 \n",
            " block4_conv1 (Conv2D)       (None, None, None, 512)   1180160   \n",
            "                                                                 \n",
            " block4_conv2 (Conv2D)       (None, None, None, 512)   2359808   \n",
            "                                                                 \n",
            " block4_conv3 (Conv2D)       (None, None, None, 512)   2359808   \n",
            "                                                                 \n",
            " block4_pool (MaxPooling2D)  (None, None, None, 512)   0         \n",
            "                                                                 \n",
            " block5_conv1 (Conv2D)       (None, None, None, 512)   2359808   \n",
            "                                                                 \n",
            " block5_conv2 (Conv2D)       (None, None, None, 512)   2359808   \n",
            "                                                                 \n",
            " block5_conv3 (Conv2D)       (None, None, None, 512)   2359808   \n",
            "                                                                 \n",
            " block5_pool (MaxPooling2D)  (None, None, None, 512)   0         \n",
            "                                                                 \n",
            "=================================================================\n",
            "Total params: 14,714,688\n",
            "Trainable params: 14,714,688\n",
            "Non-trainable params: 0\n",
            "_________________________________________________________________\n"
          ]
        }
      ],
      "source": [
        "from keras.applications.vgg16 import VGG16 ## (none,none,none)\n",
        "model = VGG16(include_top=False)\n",
        "model.summary()"
      ]
    },
    {
      "cell_type": "markdown",
      "source": [
        "# **Training images**"
      ],
      "metadata": {
        "id": "-2JvmPmDcfr7"
      }
    },
    {
      "cell_type": "code",
      "execution_count": null,
      "metadata": {
        "id": "dFve8tjc_7oz"
      },
      "outputs": [],
      "source": [
        "bottleneck_features_train_VGG16 = np.asarray([model.predict(np.expand_dims(tensor, axis=0), verbose=1)[0] for tensor in train_tensors],dtype=np.float32) ## Turning them into features"
      ]
    },
    {
      "cell_type": "markdown",
      "source": [
        "![hand1_7_bot_seg_3_cropped.jpeg](data:image/jpeg;base64,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)![hand1_3_bot_seg_1_cropped.jpeg](data:image/jpeg;base64,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)![hand1_1_bot_seg_1_cropped.jpeg](data:image/jpeg;base64,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)"
      ],
      "metadata": {
        "id": "--ZLluu0hRDx"
      }
    },
    {
      "cell_type": "markdown",
      "source": [
        "# **Test images**"
      ],
      "metadata": {
        "id": "tOmcwASucmhM"
      }
    },
    {
      "cell_type": "code",
      "execution_count": null,
      "metadata": {
        "id": "-MQSNMuVAE1M"
      },
      "outputs": [],
      "source": [
        "bottleneck_features_test_VGG16 = np.asarray([model.predict(np.expand_dims(tensor, axis=0), verbose=1)[0] for tensor in test_tensors],dtype=np.float32)"
      ]
    },
    {
      "cell_type": "markdown",
      "source": [
        "![hand1_7_bot_seg_3_cropped.jpeg](data:image/jpeg;base64,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)![hand1_1_bot_seg_1_cropped.jpeg](data:image/jpeg;base64,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)![hand1_3_bot_seg_1_cropped.jpeg](data:image/jpeg;base64,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)"
      ],
      "metadata": {
        "id": "PoDllflihTW6"
      }
    },
    {
      "cell_type": "code",
      "execution_count": null,
      "metadata": {
        "colab": {
          "base_uri": "https://localhost:8080/"
        },
        "id": "_wHJTHOKAPFU",
        "outputId": "2b2abd5a-2793-448b-d5a1-07abb5eeef64"
      },
      "outputs": [
        {
          "output_type": "stream",
          "name": "stdout",
          "text": [
            "(2012, 7, 7, 512)\n",
            "(503, 7, 7, 512)\n"
          ]
        }
      ],
      "source": [
        "print(bottleneck_features_train_VGG16.shape) \n",
        "print(bottleneck_features_test_VGG16.shape)"
      ]
    },
    {
      "cell_type": "code",
      "execution_count": null,
      "metadata": {
        "colab": {
          "base_uri": "https://localhost:8080/"
        },
        "id": "zpfzT8opAUAG",
        "outputId": "039cc23d-c637-44c3-fae9-fec4c49f353b"
      },
      "outputs": [
        {
          "output_type": "stream",
          "name": "stdout",
          "text": [
            "Model: \"sequential\"\n",
            "_________________________________________________________________\n",
            " Layer (type)                Output Shape              Param #   \n",
            "=================================================================\n",
            " flatten (Flatten)           (None, 25088)             0         \n",
            "                                                                 \n",
            " dense (Dense)               (None, 250)               6272250   \n",
            "                                                                 \n",
            " dropout (Dropout)           (None, 250)               0         \n",
            "                                                                 \n",
            " dense_1 (Dense)             (None, 36)                9036      \n",
            "                                                                 \n",
            "=================================================================\n",
            "Total params: 6,281,286\n",
            "Trainable params: 6,281,286\n",
            "Non-trainable params: 0\n",
            "_________________________________________________________________\n"
          ]
        }
      ],
      "source": [
        "from keras.layers import Conv2D, MaxPooling2D, GlobalAveragePooling2D ## training part the pics are ready\n",
        "from keras.layers import Dropout, Flatten, Dense\n",
        "from keras.models import Sequential\n",
        "\n",
        "Model = Sequential() ## name of the model\n",
        "Model.add(Flatten(input_shape=bottleneck_features_train_VGG16.shape[1:])) ## you seperate them all the 512 \n",
        "Model.add(Dense(250, activation='relu',kernel_initializer='glorot_normal')) ## try to change the dense, 500 hidden units\n",
        "##Model1.add(Dense(250, activation='relu',kernel_initializer='glorot_normal')) \n",
        "##Model1.add(Dense(100, activation='relu',kernel_initializer='glorot_normal')) \n",
        "##Model1.add(Dense(50, activation='relu',kernel_initializer='glorot_normal')) \n",
        "Model.add(Dropout(0.5))\n",
        "Model.add(Dense(36, activation='softmax',kernel_initializer='glorot_normal')) ## 36 classification output \n",
        "Model.summary()                   "
      ]
    },
    {
      "cell_type": "markdown",
      "source": [
        "# Training the model with the best parameters\n"
      ],
      "metadata": {
        "id": "YKYjx4vXZNAs"
      }
    },
    {
      "cell_type": "code",
      "execution_count": null,
      "metadata": {
        "id": "f4DmG6vSAdPv"
      },
      "outputs": [],
      "source": [
        "Model.compile(loss='categorical_crossentropy', optimizer='rmsprop', metrics=['accuracy']) \n",
        "##Model.compile(loss='categorical_crossentropy', optimizer='SGD', metrics=['accuracy'])\n",
        "##Model.compile(loss='categorical_crossentropy', optimizer='Adam', metrics=['accuracy'])\n",
        "##Model.compile(loss='categorical_crossentropy', optimizer='Adadelta', metrics=['accuracy'])\n",
        "##Model.compile(loss='categorical_crossentropy', optimizer='Adam', metrics=['accuracy'])\n",
        "from keras.callbacks import ModelCheckpoint"
      ]
    },
    {
      "cell_type": "code",
      "execution_count": null,
      "metadata": {
        "colab": {
          "base_uri": "https://localhost:8080/"
        },
        "id": "S4Ff3-qUAk2K",
        "outputId": "adff003b-f66b-470a-ff82-e47e6cdbf517"
      },
      "outputs": [
        {
          "output_type": "stream",
          "name": "stdout",
          "text": [
            "Epoch 1/100\n",
            "113/114 [============================>.] - ETA: 0s - loss: 3.2559 - accuracy: 0.2378\n",
            "Epoch 1: val_accuracy improved from -inf to 0.50000, saving model to /content/sample_data/weights.best.VGG16.hdf5_transfer_learning\n"
          ]
        },
        {
          "output_type": "stream",
          "name": "stderr",
          "text": [
            "WARNING:absl:Found untraced functions such as _update_step_xla while saving (showing 1 of 1). These functions will not be directly callable after loading.\n"
          ]
        },
        {
          "output_type": "stream",
          "name": "stdout",
          "text": [
            "\b\b\b\b\b\b\b\b\b\b\b\b\b\b\b\b\b\b\b\b\b\b\b\b\b\b\b\b\b\b\b\b\b\b\b\b\b\b\b\b\b\b\b\b\b\b\b\b\b\b\b\b\b\b\b\b\b\b\b\b\b\b\b\b\b\b\b\b\b\b\b\b\b\b\b\b\b\b\b\b\b\b\b\b\r114/114 [==============================] - 7s 52ms/step - loss: 3.2537 - accuracy: 0.2387 - val_loss: 1.5675 - val_accuracy: 0.5000\n",
            "Epoch 2/100\n",
            "113/114 [============================>.] - ETA: 0s - loss: 1.5274 - accuracy: 0.5315\n",
            "Epoch 2: val_accuracy improved from 0.50000 to 0.74257, saving model to /content/sample_data/weights.best.VGG16.hdf5_transfer_learning\n"
          ]
        },
        {
          "output_type": "stream",
          "name": "stderr",
          "text": [
            "WARNING:absl:Found untraced functions such as _update_step_xla while saving (showing 1 of 1). These functions will not be directly callable after loading.\n"
          ]
        },
        {
          "output_type": "stream",
          "name": "stdout",
          "text": [
            "\b\b\b\b\b\b\b\b\b\b\b\b\b\b\b\b\b\b\b\b\b\b\b\b\b\b\b\b\b\b\b\b\b\b\b\b\b\b\b\b\b\b\b\b\b\b\b\b\b\b\b\b\b\b\b\b\b\b\b\b\b\b\b\b\b\b\b\b\b\b\b\b\b\b\b\b\b\b\b\b\b\b\b\b\r114/114 [==============================] - 7s 61ms/step - loss: 1.5262 - accuracy: 0.5320 - val_loss: 0.9112 - val_accuracy: 0.7426\n",
            "Epoch 3/100\n",
            "114/114 [==============================] - ETA: 0s - loss: 1.0517 - accuracy: 0.6674\n",
            "Epoch 3: val_accuracy improved from 0.74257 to 0.83168, saving model to /content/sample_data/weights.best.VGG16.hdf5_transfer_learning\n"
          ]
        },
        {
          "output_type": "stream",
          "name": "stderr",
          "text": [
            "WARNING:absl:Found untraced functions such as _update_step_xla while saving (showing 1 of 1). These functions will not be directly callable after loading.\n"
          ]
        },
        {
          "output_type": "stream",
          "name": "stdout",
          "text": [
            "\b\b\b\b\b\b\b\b\b\b\b\b\b\b\b\b\b\b\b\b\b\b\b\b\b\b\b\b\b\b\b\b\b\b\b\b\b\b\b\b\b\b\b\b\b\b\b\b\b\b\b\b\b\b\b\b\b\b\b\b\b\b\b\b\b\b\b\b\b\b\b\b\b\b\b\b\b\b\b\b\b\b\b\b\r114/114 [==============================] - 6s 49ms/step - loss: 1.0517 - accuracy: 0.6674 - val_loss: 0.4413 - val_accuracy: 0.8317\n",
            "Epoch 4/100\n",
            "114/114 [==============================] - ETA: 0s - loss: 0.8269 - accuracy: 0.7331\n",
            "Epoch 4: val_accuracy improved from 0.83168 to 0.87129, saving model to /content/sample_data/weights.best.VGG16.hdf5_transfer_learning\n"
          ]
        },
        {
          "output_type": "stream",
          "name": "stderr",
          "text": [
            "WARNING:absl:Found untraced functions such as _update_step_xla while saving (showing 1 of 1). These functions will not be directly callable after loading.\n"
          ]
        },
        {
          "output_type": "stream",
          "name": "stdout",
          "text": [
            "\b\b\b\b\b\b\b\b\b\b\b\b\b\b\b\b\b\b\b\b\b\b\b\b\b\b\b\b\b\b\b\b\b\b\b\b\b\b\b\b\b\b\b\b\b\b\b\b\b\b\b\b\b\b\b\b\b\b\b\b\b\b\b\b\b\b\b\b\b\b\b\b\b\b\b\b\b\b\b\b\b\b\b\b\r114/114 [==============================] - 6s 56ms/step - loss: 0.8269 - accuracy: 0.7331 - val_loss: 0.3074 - val_accuracy: 0.8713\n",
            "Epoch 5/100\n",
            "114/114 [==============================] - ETA: 0s - loss: 0.6707 - accuracy: 0.7691\n",
            "Epoch 5: val_accuracy improved from 0.87129 to 0.93069, saving model to /content/sample_data/weights.best.VGG16.hdf5_transfer_learning\n"
          ]
        },
        {
          "output_type": "stream",
          "name": "stderr",
          "text": [
            "WARNING:absl:Found untraced functions such as _update_step_xla while saving (showing 1 of 1). These functions will not be directly callable after loading.\n"
          ]
        },
        {
          "output_type": "stream",
          "name": "stdout",
          "text": [
            "\b\b\b\b\b\b\b\b\b\b\b\b\b\b\b\b\b\b\b\b\b\b\b\b\b\b\b\b\b\b\b\b\b\b\b\b\b\b\b\b\b\b\b\b\b\b\b\b\b\b\b\b\b\b\b\b\b\b\b\b\b\b\b\b\b\b\b\b\b\b\b\b\b\b\b\b\b\b\b\b\b\b\b\b\r114/114 [==============================] - 5s 47ms/step - loss: 0.6707 - accuracy: 0.7691 - val_loss: 0.2090 - val_accuracy: 0.9307\n",
            "Epoch 6/100\n",
            "113/114 [============================>.] - ETA: 0s - loss: 0.5443 - accuracy: 0.7987\n",
            "Epoch 6: val_accuracy did not improve from 0.93069\n",
            "114/114 [==============================] - 5s 45ms/step - loss: 0.5444 - accuracy: 0.7983 - val_loss: 0.3562 - val_accuracy: 0.8861\n",
            "Epoch 7/100\n",
            "114/114 [==============================] - ETA: 0s - loss: 0.4659 - accuracy: 0.8442\n",
            "Epoch 7: val_accuracy improved from 0.93069 to 0.93564, saving model to /content/sample_data/weights.best.VGG16.hdf5_transfer_learning\n"
          ]
        },
        {
          "output_type": "stream",
          "name": "stderr",
          "text": [
            "WARNING:absl:Found untraced functions such as _update_step_xla while saving (showing 1 of 1). These functions will not be directly callable after loading.\n"
          ]
        },
        {
          "output_type": "stream",
          "name": "stdout",
          "text": [
            "\b\b\b\b\b\b\b\b\b\b\b\b\b\b\b\b\b\b\b\b\b\b\b\b\b\b\b\b\b\b\b\b\b\b\b\b\b\b\b\b\b\b\b\b\b\b\b\b\b\b\b\b\b\b\b\b\b\b\b\b\b\b\b\b\b\b\b\b\b\b\b\b\b\b\b\b\b\b\b\b\b\b\b\b\r114/114 [==============================] - 6s 53ms/step - loss: 0.4659 - accuracy: 0.8442 - val_loss: 0.1407 - val_accuracy: 0.9356\n",
            "Epoch 8/100\n",
            "113/114 [============================>.] - ETA: 0s - loss: 0.4337 - accuracy: 0.8440\n",
            "Epoch 8: val_accuracy improved from 0.93564 to 0.97525, saving model to /content/sample_data/weights.best.VGG16.hdf5_transfer_learning\n"
          ]
        },
        {
          "output_type": "stream",
          "name": "stderr",
          "text": [
            "WARNING:absl:Found untraced functions such as _update_step_xla while saving (showing 1 of 1). These functions will not be directly callable after loading.\n"
          ]
        },
        {
          "output_type": "stream",
          "name": "stdout",
          "text": [
            "\b\b\b\b\b\b\b\b\b\b\b\b\b\b\b\b\b\b\b\b\b\b\b\b\b\b\b\b\b\b\b\b\b\b\b\b\b\b\b\b\b\b\b\b\b\b\b\b\b\b\b\b\b\b\b\b\b\b\b\b\b\b\b\b\b\b\b\b\b\b\b\b\b\b\b\b\b\b\b\b\b\b\b\b\r114/114 [==============================] - 5s 46ms/step - loss: 0.4344 - accuracy: 0.8436 - val_loss: 0.1053 - val_accuracy: 0.9752\n",
            "Epoch 9/100\n",
            "113/114 [============================>.] - ETA: 0s - loss: 0.3961 - accuracy: 0.8590\n",
            "Epoch 9: val_accuracy did not improve from 0.97525\n",
            "114/114 [==============================] - 6s 50ms/step - loss: 0.3957 - accuracy: 0.8591 - val_loss: 0.0820 - val_accuracy: 0.9653\n",
            "Epoch 10/100\n",
            "113/114 [============================>.] - ETA: 0s - loss: 0.3699 - accuracy: 0.8662\n",
            "Epoch 10: val_accuracy did not improve from 0.97525\n",
            "114/114 [==============================] - 5s 41ms/step - loss: 0.3695 - accuracy: 0.8663 - val_loss: 0.0813 - val_accuracy: 0.9653\n",
            "Epoch 11/100\n",
            "114/114 [==============================] - ETA: 0s - loss: 0.3751 - accuracy: 0.8790\n",
            "Epoch 11: val_accuracy did not improve from 0.97525\n",
            "114/114 [==============================] - 5s 45ms/step - loss: 0.3751 - accuracy: 0.8790 - val_loss: 0.1517 - val_accuracy: 0.9307\n",
            "Epoch 12/100\n",
            "114/114 [==============================] - ETA: 0s - loss: 0.3261 - accuracy: 0.8751\n",
            "Epoch 12: val_accuracy did not improve from 0.97525\n",
            "114/114 [==============================] - 5s 47ms/step - loss: 0.3261 - accuracy: 0.8751 - val_loss: 0.0886 - val_accuracy: 0.9752\n",
            "Epoch 13/100\n",
            "113/114 [============================>.] - ETA: 0s - loss: 0.3128 - accuracy: 0.8955\n",
            "Epoch 13: val_accuracy did not improve from 0.97525\n",
            "114/114 [==============================] - 5s 42ms/step - loss: 0.3125 - accuracy: 0.8956 - val_loss: 0.1114 - val_accuracy: 0.9703\n",
            "Epoch 14/100\n",
            "113/114 [============================>.] - ETA: 0s - loss: 0.2644 - accuracy: 0.9143\n",
            "Epoch 14: val_accuracy did not improve from 0.97525\n",
            "114/114 [==============================] - 6s 50ms/step - loss: 0.2649 - accuracy: 0.9138 - val_loss: 0.1072 - val_accuracy: 0.9455\n",
            "Epoch 15/100\n",
            "114/114 [==============================] - ETA: 0s - loss: 0.2975 - accuracy: 0.9044\n",
            "Epoch 15: val_accuracy did not improve from 0.97525\n",
            "114/114 [==============================] - 5s 41ms/step - loss: 0.2975 - accuracy: 0.9044 - val_loss: 0.1047 - val_accuracy: 0.9554\n",
            "Epoch 16/100\n",
            "114/114 [==============================] - ETA: 0s - loss: 0.2688 - accuracy: 0.8994\n",
            "Epoch 16: val_accuracy did not improve from 0.97525\n",
            "114/114 [==============================] - 5s 44ms/step - loss: 0.2688 - accuracy: 0.8994 - val_loss: 0.1582 - val_accuracy: 0.9406\n",
            "Epoch 17/100\n",
            "113/114 [============================>.] - ETA: 0s - loss: 0.2639 - accuracy: 0.9065\n",
            "Epoch 17: val_accuracy did not improve from 0.97525\n",
            "114/114 [==============================] - 5s 48ms/step - loss: 0.2637 - accuracy: 0.9066 - val_loss: 0.1064 - val_accuracy: 0.9604\n",
            "Epoch 18/100\n",
            "114/114 [==============================] - ETA: 0s - loss: 0.2517 - accuracy: 0.9088\n",
            "Epoch 18: val_accuracy did not improve from 0.97525\n",
            "114/114 [==============================] - 5s 41ms/step - loss: 0.2517 - accuracy: 0.9088 - val_loss: 0.0620 - val_accuracy: 0.9703\n",
            "Epoch 19/100\n",
            "113/114 [============================>.] - ETA: 0s - loss: 0.2224 - accuracy: 0.9198\n",
            "Epoch 19: val_accuracy did not improve from 0.97525\n",
            "114/114 [==============================] - 6s 50ms/step - loss: 0.2228 - accuracy: 0.9193 - val_loss: 0.1363 - val_accuracy: 0.9653\n",
            "Epoch 20/100\n",
            "113/114 [============================>.] - ETA: 0s - loss: 0.1952 - accuracy: 0.9270\n",
            "Epoch 20: val_accuracy did not improve from 0.97525\n",
            "114/114 [==============================] - 5s 42ms/step - loss: 0.1952 - accuracy: 0.9271 - val_loss: 0.1244 - val_accuracy: 0.9554\n",
            "Epoch 21/100\n",
            "114/114 [==============================] - ETA: 0s - loss: 0.2301 - accuracy: 0.9221\n",
            "Epoch 21: val_accuracy did not improve from 0.97525\n",
            "114/114 [==============================] - 5s 41ms/step - loss: 0.2301 - accuracy: 0.9221 - val_loss: 0.1105 - val_accuracy: 0.9554\n",
            "Epoch 22/100\n",
            "114/114 [==============================] - ETA: 0s - loss: 0.2100 - accuracy: 0.9282\n",
            "Epoch 22: val_accuracy did not improve from 0.97525\n",
            "114/114 [==============================] - 6s 49ms/step - loss: 0.2100 - accuracy: 0.9282 - val_loss: 0.0437 - val_accuracy: 0.9752\n",
            "Epoch 23/100\n",
            "114/114 [==============================] - ETA: 0s - loss: 0.2093 - accuracy: 0.9249\n",
            "Epoch 23: val_accuracy did not improve from 0.97525\n",
            "114/114 [==============================] - 5s 41ms/step - loss: 0.2093 - accuracy: 0.9249 - val_loss: 0.1050 - val_accuracy: 0.9554\n",
            "Epoch 24/100\n",
            "114/114 [==============================] - ETA: 0s - loss: 0.2169 - accuracy: 0.9215\n",
            "Epoch 24: val_accuracy did not improve from 0.97525\n",
            "114/114 [==============================] - 6s 50ms/step - loss: 0.2169 - accuracy: 0.9215 - val_loss: 0.0496 - val_accuracy: 0.9703\n",
            "Epoch 25/100\n",
            "114/114 [==============================] - ETA: 0s - loss: 0.2131 - accuracy: 0.9265\n",
            "Epoch 25: val_accuracy did not improve from 0.97525\n",
            "114/114 [==============================] - 5s 42ms/step - loss: 0.2131 - accuracy: 0.9265 - val_loss: 0.0841 - val_accuracy: 0.9653\n",
            "Epoch 26/100\n",
            "114/114 [==============================] - ETA: 0s - loss: 0.2096 - accuracy: 0.9320\n",
            "Epoch 26: val_accuracy did not improve from 0.97525\n",
            "114/114 [==============================] - 5s 41ms/step - loss: 0.2096 - accuracy: 0.9320 - val_loss: 0.1026 - val_accuracy: 0.9703\n",
            "Epoch 27/100\n",
            "113/114 [============================>.] - ETA: 0s - loss: 0.2189 - accuracy: 0.9320\n",
            "Epoch 27: val_accuracy improved from 0.97525 to 0.99010, saving model to /content/sample_data/weights.best.VGG16.hdf5_transfer_learning\n"
          ]
        },
        {
          "output_type": "stream",
          "name": "stderr",
          "text": [
            "WARNING:absl:Found untraced functions such as _update_step_xla while saving (showing 1 of 1). These functions will not be directly callable after loading.\n"
          ]
        },
        {
          "output_type": "stream",
          "name": "stdout",
          "text": [
            "\b\b\b\b\b\b\b\b\b\b\b\b\b\b\b\b\b\b\b\b\b\b\b\b\b\b\b\b\b\b\b\b\b\b\b\b\b\b\b\b\b\b\b\b\b\b\b\b\b\b\b\b\b\b\b\b\b\b\b\b\b\b\b\b\b\b\b\b\b\b\b\b\b\b\b\b\b\b\b\b\b\b\b\b\r114/114 [==============================] - 6s 54ms/step - loss: 0.2187 - accuracy: 0.9320 - val_loss: 0.0285 - val_accuracy: 0.9901\n",
            "Epoch 28/100\n",
            "114/114 [==============================] - ETA: 0s - loss: 0.1787 - accuracy: 0.9420\n",
            "Epoch 28: val_accuracy did not improve from 0.99010\n",
            "114/114 [==============================] - 5s 40ms/step - loss: 0.1787 - accuracy: 0.9420 - val_loss: 0.0522 - val_accuracy: 0.9851\n",
            "Epoch 29/100\n",
            "114/114 [==============================] - ETA: 0s - loss: 0.2090 - accuracy: 0.9282\n",
            "Epoch 29: val_accuracy did not improve from 0.99010\n",
            "114/114 [==============================] - 5s 46ms/step - loss: 0.2090 - accuracy: 0.9282 - val_loss: 0.1193 - val_accuracy: 0.9554\n",
            "Epoch 30/100\n",
            "114/114 [==============================] - ETA: 0s - loss: 0.1800 - accuracy: 0.9387\n",
            "Epoch 30: val_accuracy did not improve from 0.99010\n",
            "114/114 [==============================] - 5s 43ms/step - loss: 0.1800 - accuracy: 0.9387 - val_loss: 0.0530 - val_accuracy: 0.9851\n",
            "Epoch 31/100\n",
            "113/114 [============================>.] - ETA: 0s - loss: 0.2009 - accuracy: 0.9358\n",
            "Epoch 31: val_accuracy did not improve from 0.99010\n",
            "114/114 [==============================] - 5s 41ms/step - loss: 0.2007 - accuracy: 0.9359 - val_loss: 0.0997 - val_accuracy: 0.9703\n",
            "Epoch 32/100\n",
            "113/114 [============================>.] - ETA: 0s - loss: 0.1776 - accuracy: 0.9469\n",
            "Epoch 32: val_accuracy did not improve from 0.99010\n",
            "114/114 [==============================] - 6s 50ms/step - loss: 0.1780 - accuracy: 0.9464 - val_loss: 0.0501 - val_accuracy: 0.9802\n",
            "Epoch 33/100\n",
            "114/114 [==============================] - ETA: 0s - loss: 0.1643 - accuracy: 0.9453\n",
            "Epoch 33: val_accuracy did not improve from 0.99010\n",
            "114/114 [==============================] - 5s 41ms/step - loss: 0.1643 - accuracy: 0.9453 - val_loss: 0.0381 - val_accuracy: 0.9802\n",
            "Epoch 34/100\n",
            "114/114 [==============================] - ETA: 0s - loss: 0.1773 - accuracy: 0.9354\n",
            "Epoch 34: val_accuracy did not improve from 0.99010\n",
            "114/114 [==============================] - 5s 41ms/step - loss: 0.1773 - accuracy: 0.9354 - val_loss: 0.0563 - val_accuracy: 0.9703\n",
            "Epoch 35/100\n",
            "113/114 [============================>.] - ETA: 0s - loss: 0.1484 - accuracy: 0.9535\n",
            "Epoch 35: val_accuracy did not improve from 0.99010\n",
            "114/114 [==============================] - 6s 48ms/step - loss: 0.1482 - accuracy: 0.9536 - val_loss: 0.1020 - val_accuracy: 0.9752\n",
            "Epoch 36/100\n",
            "113/114 [============================>.] - ETA: 0s - loss: 0.1470 - accuracy: 0.9486\n",
            "Epoch 36: val_accuracy did not improve from 0.99010\n",
            "114/114 [==============================] - 5s 41ms/step - loss: 0.1468 - accuracy: 0.9486 - val_loss: 0.0907 - val_accuracy: 0.9802\n",
            "Epoch 37/100\n",
            "114/114 [==============================] - ETA: 0s - loss: 0.2003 - accuracy: 0.9398\n",
            "Epoch 37: val_accuracy did not improve from 0.99010\n",
            "114/114 [==============================] - 6s 50ms/step - loss: 0.2003 - accuracy: 0.9398 - val_loss: 0.0517 - val_accuracy: 0.9802\n",
            "Epoch 38/100\n",
            "113/114 [============================>.] - ETA: 0s - loss: 0.1351 - accuracy: 0.9463\n",
            "Epoch 38: val_accuracy did not improve from 0.99010\n",
            "114/114 [==============================] - 5s 40ms/step - loss: 0.1350 - accuracy: 0.9464 - val_loss: 0.0854 - val_accuracy: 0.9604\n",
            "Epoch 39/100\n",
            "113/114 [============================>.] - ETA: 0s - loss: 0.1331 - accuracy: 0.9535\n",
            "Epoch 39: val_accuracy did not improve from 0.99010\n",
            "114/114 [==============================] - 5s 40ms/step - loss: 0.1329 - accuracy: 0.9536 - val_loss: 0.1002 - val_accuracy: 0.9653\n",
            "Epoch 40/100\n",
            "113/114 [============================>.] - ETA: 0s - loss: 0.1777 - accuracy: 0.9447\n",
            "Epoch 40: val_accuracy did not improve from 0.99010\n",
            "114/114 [==============================] - 6s 49ms/step - loss: 0.1775 - accuracy: 0.9448 - val_loss: 0.0640 - val_accuracy: 0.9703\n",
            "Epoch 41/100\n",
            "114/114 [==============================] - ETA: 0s - loss: 0.1372 - accuracy: 0.9552\n",
            "Epoch 41: val_accuracy did not improve from 0.99010\n",
            "114/114 [==============================] - 5s 40ms/step - loss: 0.1372 - accuracy: 0.9552 - val_loss: 0.0882 - val_accuracy: 0.9851\n",
            "Epoch 42/100\n",
            "113/114 [============================>.] - ETA: 0s - loss: 0.1351 - accuracy: 0.9508\n",
            "Epoch 42: val_accuracy did not improve from 0.99010\n",
            "114/114 [==============================] - 5s 45ms/step - loss: 0.1350 - accuracy: 0.9508 - val_loss: 0.0850 - val_accuracy: 0.9703\n",
            "Epoch 43/100\n",
            "114/114 [==============================] - ETA: 0s - loss: 0.1257 - accuracy: 0.9586\n",
            "Epoch 43: val_accuracy did not improve from 0.99010\n",
            "114/114 [==============================] - 5s 45ms/step - loss: 0.1257 - accuracy: 0.9586 - val_loss: 0.0593 - val_accuracy: 0.9802\n",
            "Epoch 44/100\n",
            "114/114 [==============================] - ETA: 0s - loss: 0.1147 - accuracy: 0.9630\n",
            "Epoch 44: val_accuracy did not improve from 0.99010\n",
            "114/114 [==============================] - 5s 40ms/step - loss: 0.1147 - accuracy: 0.9630 - val_loss: 0.0714 - val_accuracy: 0.9802\n",
            "Epoch 45/100\n",
            "114/114 [==============================] - ETA: 0s - loss: 0.1366 - accuracy: 0.9536\n",
            "Epoch 45: val_accuracy did not improve from 0.99010\n",
            "114/114 [==============================] - 6s 49ms/step - loss: 0.1366 - accuracy: 0.9536 - val_loss: 0.0875 - val_accuracy: 0.9752\n",
            "Epoch 46/100\n",
            "113/114 [============================>.] - ETA: 0s - loss: 0.1436 - accuracy: 0.9486\n",
            "Epoch 46: val_accuracy did not improve from 0.99010\n",
            "114/114 [==============================] - 5s 40ms/step - loss: 0.1445 - accuracy: 0.9481 - val_loss: 0.0723 - val_accuracy: 0.9851\n",
            "Epoch 47/100\n",
            "114/114 [==============================] - ETA: 0s - loss: 0.1226 - accuracy: 0.9564\n",
            "Epoch 47: val_accuracy did not improve from 0.99010\n",
            "114/114 [==============================] - 5s 41ms/step - loss: 0.1226 - accuracy: 0.9564 - val_loss: 0.1207 - val_accuracy: 0.9703\n",
            "Epoch 48/100\n",
            "114/114 [==============================] - ETA: 0s - loss: 0.1156 - accuracy: 0.9564\n",
            "Epoch 48: val_accuracy did not improve from 0.99010\n",
            "114/114 [==============================] - 6s 50ms/step - loss: 0.1156 - accuracy: 0.9564 - val_loss: 0.0559 - val_accuracy: 0.9901\n",
            "Epoch 49/100\n",
            "114/114 [==============================] - ETA: 0s - loss: 0.1504 - accuracy: 0.9530\n",
            "Epoch 49: val_accuracy did not improve from 0.99010\n",
            "114/114 [==============================] - 5s 41ms/step - loss: 0.1504 - accuracy: 0.9530 - val_loss: 0.0396 - val_accuracy: 0.9901\n",
            "Epoch 50/100\n",
            "114/114 [==============================] - ETA: 0s - loss: 0.1211 - accuracy: 0.9646\n",
            "Epoch 50: val_accuracy did not improve from 0.99010\n",
            "114/114 [==============================] - 6s 48ms/step - loss: 0.1211 - accuracy: 0.9646 - val_loss: 0.0899 - val_accuracy: 0.9851\n",
            "Epoch 51/100\n",
            "114/114 [==============================] - ETA: 0s - loss: 0.1134 - accuracy: 0.9630\n",
            "Epoch 51: val_accuracy did not improve from 0.99010\n",
            "114/114 [==============================] - 5s 42ms/step - loss: 0.1134 - accuracy: 0.9630 - val_loss: 0.0315 - val_accuracy: 0.9851\n",
            "Epoch 52/100\n",
            "113/114 [============================>.] - ETA: 0s - loss: 0.1205 - accuracy: 0.9613\n",
            "Epoch 52: val_accuracy did not improve from 0.99010\n",
            "114/114 [==============================] - 5s 41ms/step - loss: 0.1203 - accuracy: 0.9613 - val_loss: 0.0232 - val_accuracy: 0.9851\n",
            "Epoch 53/100\n",
            "113/114 [============================>.] - ETA: 0s - loss: 0.1174 - accuracy: 0.9635\n",
            "Epoch 53: val_accuracy improved from 0.99010 to 0.99505, saving model to /content/sample_data/weights.best.VGG16.hdf5_transfer_learning\n"
          ]
        },
        {
          "output_type": "stream",
          "name": "stderr",
          "text": [
            "WARNING:absl:Found untraced functions such as _update_step_xla while saving (showing 1 of 1). These functions will not be directly callable after loading.\n"
          ]
        },
        {
          "output_type": "stream",
          "name": "stdout",
          "text": [
            "\b\b\b\b\b\b\b\b\b\b\b\b\b\b\b\b\b\b\b\b\b\b\b\b\b\b\b\b\b\b\b\b\b\b\b\b\b\b\b\b\b\b\b\b\b\b\b\b\b\b\b\b\b\b\b\b\b\b\b\b\b\b\b\b\b\b\b\b\b\b\b\b\b\b\b\b\b\b\b\b\b\b\b\b\r114/114 [==============================] - 6s 56ms/step - loss: 0.1172 - accuracy: 0.9635 - val_loss: 0.0385 - val_accuracy: 0.9950\n",
            "Epoch 54/100\n",
            "114/114 [==============================] - ETA: 0s - loss: 0.1338 - accuracy: 0.9558\n",
            "Epoch 54: val_accuracy did not improve from 0.99505\n",
            "114/114 [==============================] - 5s 41ms/step - loss: 0.1338 - accuracy: 0.9558 - val_loss: 0.0689 - val_accuracy: 0.9851\n",
            "Epoch 55/100\n",
            "113/114 [============================>.] - ETA: 0s - loss: 0.1532 - accuracy: 0.9569\n",
            "Epoch 55: val_accuracy did not improve from 0.99505\n",
            "114/114 [==============================] - 5s 48ms/step - loss: 0.1531 - accuracy: 0.9569 - val_loss: 0.0447 - val_accuracy: 0.9802\n",
            "Epoch 56/100\n",
            "113/114 [============================>.] - ETA: 0s - loss: 0.1298 - accuracy: 0.9541\n",
            "Epoch 56: val_accuracy did not improve from 0.99505\n",
            "114/114 [==============================] - 5s 42ms/step - loss: 0.1297 - accuracy: 0.9541 - val_loss: 0.1085 - val_accuracy: 0.9653\n",
            "Epoch 57/100\n",
            "113/114 [============================>.] - ETA: 0s - loss: 0.1201 - accuracy: 0.9585\n",
            "Epoch 57: val_accuracy did not improve from 0.99505\n",
            "114/114 [==============================] - 5s 41ms/step - loss: 0.1200 - accuracy: 0.9586 - val_loss: 0.0822 - val_accuracy: 0.9802\n",
            "Epoch 58/100\n",
            "114/114 [==============================] - ETA: 0s - loss: 0.1149 - accuracy: 0.9597\n",
            "Epoch 58: val_accuracy did not improve from 0.99505\n",
            "114/114 [==============================] - 6s 50ms/step - loss: 0.1149 - accuracy: 0.9597 - val_loss: 0.0603 - val_accuracy: 0.9802\n",
            "Epoch 59/100\n",
            "113/114 [============================>.] - ETA: 0s - loss: 0.0959 - accuracy: 0.9657\n",
            "Epoch 59: val_accuracy did not improve from 0.99505\n",
            "114/114 [==============================] - 5s 40ms/step - loss: 0.0958 - accuracy: 0.9657 - val_loss: 0.0400 - val_accuracy: 0.9851\n",
            "Epoch 60/100\n",
            "114/114 [==============================] - ETA: 0s - loss: 0.1015 - accuracy: 0.9702\n",
            "Epoch 60: val_accuracy did not improve from 0.99505\n",
            "114/114 [==============================] - 5s 43ms/step - loss: 0.1015 - accuracy: 0.9702 - val_loss: 0.0963 - val_accuracy: 0.9802\n",
            "Epoch 61/100\n",
            "113/114 [============================>.] - ETA: 0s - loss: 0.0983 - accuracy: 0.9696\n",
            "Epoch 61: val_accuracy did not improve from 0.99505\n",
            "114/114 [==============================] - 5s 46ms/step - loss: 0.0983 - accuracy: 0.9696 - val_loss: 0.0287 - val_accuracy: 0.9851\n",
            "Epoch 62/100\n",
            "114/114 [==============================] - ETA: 0s - loss: 0.1147 - accuracy: 0.9591\n",
            "Epoch 62: val_accuracy did not improve from 0.99505\n",
            "114/114 [==============================] - 5s 40ms/step - loss: 0.1147 - accuracy: 0.9591 - val_loss: 0.0464 - val_accuracy: 0.9851\n",
            "Epoch 63/100\n",
            "114/114 [==============================] - ETA: 0s - loss: 0.1189 - accuracy: 0.9630\n",
            "Epoch 63: val_accuracy did not improve from 0.99505\n",
            "114/114 [==============================] - 5s 48ms/step - loss: 0.1189 - accuracy: 0.9630 - val_loss: 0.0594 - val_accuracy: 0.9901\n",
            "Epoch 64/100\n",
            "113/114 [============================>.] - ETA: 0s - loss: 0.1055 - accuracy: 0.9685\n",
            "Epoch 64: val_accuracy did not improve from 0.99505\n",
            "114/114 [==============================] - 5s 40ms/step - loss: 0.1053 - accuracy: 0.9685 - val_loss: 0.0994 - val_accuracy: 0.9752\n",
            "Epoch 65/100\n",
            "113/114 [============================>.] - ETA: 0s - loss: 0.1193 - accuracy: 0.9618\n",
            "Epoch 65: val_accuracy did not improve from 0.99505\n",
            "114/114 [==============================] - 5s 40ms/step - loss: 0.1192 - accuracy: 0.9619 - val_loss: 0.0309 - val_accuracy: 0.9802\n",
            "Epoch 66/100\n",
            "113/114 [============================>.] - ETA: 0s - loss: 0.0904 - accuracy: 0.9674\n",
            "Epoch 66: val_accuracy did not improve from 0.99505\n",
            "114/114 [==============================] - 6s 49ms/step - loss: 0.0903 - accuracy: 0.9674 - val_loss: 0.0411 - val_accuracy: 0.9802\n",
            "Epoch 67/100\n",
            "114/114 [==============================] - ETA: 0s - loss: 0.0831 - accuracy: 0.9696\n",
            "Epoch 67: val_accuracy did not improve from 0.99505\n",
            "114/114 [==============================] - 5s 41ms/step - loss: 0.0831 - accuracy: 0.9696 - val_loss: 0.0526 - val_accuracy: 0.9752\n",
            "Epoch 68/100\n",
            "113/114 [============================>.] - ETA: 0s - loss: 0.1005 - accuracy: 0.9652\n",
            "Epoch 68: val_accuracy did not improve from 0.99505\n",
            "114/114 [==============================] - 5s 44ms/step - loss: 0.1010 - accuracy: 0.9646 - val_loss: 0.0646 - val_accuracy: 0.9802\n",
            "Epoch 69/100\n",
            "113/114 [============================>.] - ETA: 0s - loss: 0.1254 - accuracy: 0.9602\n",
            "Epoch 69: val_accuracy did not improve from 0.99505\n",
            "114/114 [==============================] - 5s 45ms/step - loss: 0.1257 - accuracy: 0.9597 - val_loss: 0.0447 - val_accuracy: 0.9901\n",
            "Epoch 70/100\n",
            "114/114 [==============================] - ETA: 0s - loss: 0.0981 - accuracy: 0.9652\n",
            "Epoch 70: val_accuracy did not improve from 0.99505\n",
            "114/114 [==============================] - 5s 40ms/step - loss: 0.0981 - accuracy: 0.9652 - val_loss: 0.0638 - val_accuracy: 0.9802\n",
            "Epoch 71/100\n",
            "114/114 [==============================] - ETA: 0s - loss: 0.1149 - accuracy: 0.9608\n",
            "Epoch 71: val_accuracy did not improve from 0.99505\n",
            "114/114 [==============================] - 6s 51ms/step - loss: 0.1149 - accuracy: 0.9608 - val_loss: 0.0984 - val_accuracy: 0.9752\n",
            "Epoch 72/100\n",
            "113/114 [============================>.] - ETA: 0s - loss: 0.1191 - accuracy: 0.9607\n",
            "Epoch 72: val_accuracy did not improve from 0.99505\n",
            "114/114 [==============================] - 5s 40ms/step - loss: 0.1190 - accuracy: 0.9608 - val_loss: 0.0701 - val_accuracy: 0.9752\n",
            "Epoch 73/100\n",
            "113/114 [============================>.] - ETA: 0s - loss: 0.0905 - accuracy: 0.9663\n",
            "Epoch 73: val_accuracy did not improve from 0.99505\n",
            "114/114 [==============================] - 5s 40ms/step - loss: 0.0904 - accuracy: 0.9663 - val_loss: 0.0874 - val_accuracy: 0.9802\n",
            "Epoch 74/100\n",
            "113/114 [============================>.] - ETA: 0s - loss: 0.1160 - accuracy: 0.9629\n",
            "Epoch 74: val_accuracy did not improve from 0.99505\n",
            "114/114 [==============================] - 6s 49ms/step - loss: 0.1190 - accuracy: 0.9624 - val_loss: 0.0758 - val_accuracy: 0.9851\n",
            "Epoch 75/100\n",
            "113/114 [============================>.] - ETA: 0s - loss: 0.0927 - accuracy: 0.9701\n",
            "Epoch 75: val_accuracy did not improve from 0.99505\n",
            "114/114 [==============================] - 5s 42ms/step - loss: 0.0926 - accuracy: 0.9702 - val_loss: 0.0325 - val_accuracy: 0.9851\n",
            "Epoch 76/100\n",
            "114/114 [==============================] - ETA: 0s - loss: 0.0987 - accuracy: 0.9691\n",
            "Epoch 76: val_accuracy did not improve from 0.99505\n",
            "114/114 [==============================] - 6s 50ms/step - loss: 0.0987 - accuracy: 0.9691 - val_loss: 0.0530 - val_accuracy: 0.9851\n",
            "Epoch 77/100\n",
            "113/114 [============================>.] - ETA: 0s - loss: 0.1170 - accuracy: 0.9707\n",
            "Epoch 77: val_accuracy did not improve from 0.99505\n",
            "114/114 [==============================] - 5s 44ms/step - loss: 0.1168 - accuracy: 0.9707 - val_loss: 0.0451 - val_accuracy: 0.9901\n",
            "Epoch 78/100\n",
            "114/114 [==============================] - ETA: 0s - loss: 0.1008 - accuracy: 0.9646\n",
            "Epoch 78: val_accuracy did not improve from 0.99505\n",
            "114/114 [==============================] - 5s 42ms/step - loss: 0.1008 - accuracy: 0.9646 - val_loss: 0.0287 - val_accuracy: 0.9901\n",
            "Epoch 79/100\n",
            "113/114 [============================>.] - ETA: 0s - loss: 0.0795 - accuracy: 0.9762\n",
            "Epoch 79: val_accuracy did not improve from 0.99505\n",
            "114/114 [==============================] - 6s 50ms/step - loss: 0.0794 - accuracy: 0.9762 - val_loss: 0.0367 - val_accuracy: 0.9802\n",
            "Epoch 80/100\n",
            "114/114 [==============================] - ETA: 0s - loss: 0.0895 - accuracy: 0.9707\n",
            "Epoch 80: val_accuracy did not improve from 0.99505\n",
            "114/114 [==============================] - 5s 43ms/step - loss: 0.0895 - accuracy: 0.9707 - val_loss: 0.0444 - val_accuracy: 0.9802\n",
            "Epoch 81/100\n",
            "114/114 [==============================] - ETA: 0s - loss: 0.0908 - accuracy: 0.9696\n",
            "Epoch 81: val_accuracy did not improve from 0.99505\n",
            "114/114 [==============================] - 5s 48ms/step - loss: 0.0908 - accuracy: 0.9696 - val_loss: 0.1055 - val_accuracy: 0.9802\n",
            "Epoch 82/100\n",
            "114/114 [==============================] - ETA: 0s - loss: 0.1006 - accuracy: 0.9685\n",
            "Epoch 82: val_accuracy did not improve from 0.99505\n",
            "114/114 [==============================] - 5s 43ms/step - loss: 0.1006 - accuracy: 0.9685 - val_loss: 0.1167 - val_accuracy: 0.9752\n",
            "Epoch 83/100\n",
            "113/114 [============================>.] - ETA: 0s - loss: 0.0938 - accuracy: 0.9712\n",
            "Epoch 83: val_accuracy did not improve from 0.99505\n",
            "114/114 [==============================] - 5s 42ms/step - loss: 0.0968 - accuracy: 0.9707 - val_loss: 0.1037 - val_accuracy: 0.9752\n",
            "Epoch 84/100\n",
            "113/114 [============================>.] - ETA: 0s - loss: 0.0901 - accuracy: 0.9757\n",
            "Epoch 84: val_accuracy did not improve from 0.99505\n",
            "114/114 [==============================] - 6s 50ms/step - loss: 0.0900 - accuracy: 0.9757 - val_loss: 0.0265 - val_accuracy: 0.9901\n",
            "Epoch 85/100\n",
            "114/114 [==============================] - ETA: 0s - loss: 0.1040 - accuracy: 0.9669\n",
            "Epoch 85: val_accuracy did not improve from 0.99505\n",
            "114/114 [==============================] - 5s 41ms/step - loss: 0.1040 - accuracy: 0.9669 - val_loss: 0.0898 - val_accuracy: 0.9752\n",
            "Epoch 86/100\n",
            "113/114 [============================>.] - ETA: 0s - loss: 0.0975 - accuracy: 0.9685\n",
            "Epoch 86: val_accuracy improved from 0.99505 to 1.00000, saving model to /content/sample_data/weights.best.VGG16.hdf5_transfer_learning\n"
          ]
        },
        {
          "output_type": "stream",
          "name": "stderr",
          "text": [
            "WARNING:absl:Found untraced functions such as _update_step_xla while saving (showing 1 of 1). These functions will not be directly callable after loading.\n"
          ]
        },
        {
          "output_type": "stream",
          "name": "stdout",
          "text": [
            "\b\b\b\b\b\b\b\b\b\b\b\b\b\b\b\b\b\b\b\b\b\b\b\b\b\b\b\b\b\b\b\b\b\b\b\b\b\b\b\b\b\b\b\b\b\b\b\b\b\b\b\b\b\b\b\b\b\b\b\b\b\b\b\b\b\b\b\b\b\b\b\b\b\b\b\b\b\b\b\b\b\b\b\b\r114/114 [==============================] - 6s 55ms/step - loss: 0.0974 - accuracy: 0.9685 - val_loss: 0.0052 - val_accuracy: 1.0000\n",
            "Epoch 87/100\n",
            "113/114 [============================>.] - ETA: 0s - loss: 0.0889 - accuracy: 0.9690\n",
            "Epoch 87: val_accuracy did not improve from 1.00000\n",
            "114/114 [==============================] - 5s 44ms/step - loss: 0.0888 - accuracy: 0.9691 - val_loss: 0.0177 - val_accuracy: 0.9950\n",
            "Epoch 88/100\n",
            "113/114 [============================>.] - ETA: 0s - loss: 0.0893 - accuracy: 0.9685\n",
            "Epoch 88: val_accuracy did not improve from 1.00000\n",
            "114/114 [==============================] - 5s 41ms/step - loss: 0.0892 - accuracy: 0.9685 - val_loss: 0.0133 - val_accuracy: 0.9950\n",
            "Epoch 89/100\n",
            "114/114 [==============================] - ETA: 0s - loss: 0.0854 - accuracy: 0.9757\n",
            "Epoch 89: val_accuracy did not improve from 1.00000\n",
            "114/114 [==============================] - 6s 51ms/step - loss: 0.0854 - accuracy: 0.9757 - val_loss: 0.0617 - val_accuracy: 0.9851\n",
            "Epoch 90/100\n",
            "113/114 [============================>.] - ETA: 0s - loss: 0.0874 - accuracy: 0.9740\n",
            "Epoch 90: val_accuracy did not improve from 1.00000\n",
            "114/114 [==============================] - 5s 42ms/step - loss: 0.0873 - accuracy: 0.9740 - val_loss: 0.0311 - val_accuracy: 0.9950\n",
            "Epoch 91/100\n",
            "114/114 [==============================] - ETA: 0s - loss: 0.0939 - accuracy: 0.9669\n",
            "Epoch 91: val_accuracy did not improve from 1.00000\n",
            "114/114 [==============================] - 5s 48ms/step - loss: 0.0939 - accuracy: 0.9669 - val_loss: 0.1062 - val_accuracy: 0.9752\n",
            "Epoch 92/100\n",
            "113/114 [============================>.] - ETA: 0s - loss: 0.1140 - accuracy: 0.9685\n",
            "Epoch 92: val_accuracy did not improve from 1.00000\n",
            "114/114 [==============================] - 5s 44ms/step - loss: 0.1139 - accuracy: 0.9685 - val_loss: 0.0963 - val_accuracy: 0.9851\n",
            "Epoch 93/100\n",
            "114/114 [==============================] - ETA: 0s - loss: 0.1188 - accuracy: 0.9630\n",
            "Epoch 93: val_accuracy did not improve from 1.00000\n",
            "114/114 [==============================] - 5s 41ms/step - loss: 0.1188 - accuracy: 0.9630 - val_loss: 0.0287 - val_accuracy: 0.9901\n",
            "Epoch 94/100\n",
            "114/114 [==============================] - ETA: 0s - loss: 0.0738 - accuracy: 0.9746\n",
            "Epoch 94: val_accuracy did not improve from 1.00000\n",
            "114/114 [==============================] - 6s 50ms/step - loss: 0.0738 - accuracy: 0.9746 - val_loss: 0.0656 - val_accuracy: 0.9901\n",
            "Epoch 95/100\n",
            "113/114 [============================>.] - ETA: 0s - loss: 0.0884 - accuracy: 0.9784\n",
            "Epoch 95: val_accuracy did not improve from 1.00000\n",
            "114/114 [==============================] - 5s 42ms/step - loss: 0.0883 - accuracy: 0.9785 - val_loss: 0.0413 - val_accuracy: 0.9901\n",
            "Epoch 96/100\n",
            "114/114 [==============================] - ETA: 0s - loss: 0.0791 - accuracy: 0.9746\n",
            "Epoch 96: val_accuracy did not improve from 1.00000\n",
            "114/114 [==============================] - 5s 46ms/step - loss: 0.0791 - accuracy: 0.9746 - val_loss: 0.0228 - val_accuracy: 0.9901\n",
            "Epoch 97/100\n",
            "114/114 [==============================] - ETA: 0s - loss: 0.0946 - accuracy: 0.9702\n",
            "Epoch 97: val_accuracy did not improve from 1.00000\n",
            "114/114 [==============================] - 5s 47ms/step - loss: 0.0946 - accuracy: 0.9702 - val_loss: 0.0283 - val_accuracy: 0.9950\n",
            "Epoch 98/100\n",
            "113/114 [============================>.] - ETA: 0s - loss: 0.0693 - accuracy: 0.9740\n",
            "Epoch 98: val_accuracy did not improve from 1.00000\n",
            "114/114 [==============================] - 5s 42ms/step - loss: 0.0692 - accuracy: 0.9740 - val_loss: 0.1641 - val_accuracy: 0.9752\n",
            "Epoch 99/100\n",
            "113/114 [============================>.] - ETA: 0s - loss: 0.0692 - accuracy: 0.9773\n",
            "Epoch 99: val_accuracy did not improve from 1.00000\n",
            "114/114 [==============================] - 6s 53ms/step - loss: 0.0691 - accuracy: 0.9773 - val_loss: 0.0254 - val_accuracy: 0.9950\n",
            "Epoch 100/100\n",
            "114/114 [==============================] - ETA: 0s - loss: 0.0973 - accuracy: 0.9768\n",
            "Epoch 100: val_accuracy did not improve from 1.00000\n",
            "114/114 [==============================] - 5s 43ms/step - loss: 0.0973 - accuracy: 0.9768 - val_loss: 0.0685 - val_accuracy: 0.9851\n"
          ]
        }
      ],
      "source": [
        "\n",
        "checkpointer = ModelCheckpoint(filepath='/content/sample_data/weights.best.VGG16.hdf5_transfer_learning', \n",
        "                               monitor='val_accuracy', verbose=1, save_best_only=True, mode='max')\n",
        "\n",
        "history=Model.fit(bottleneck_features_train_VGG16, train_targets, validation_split=0.1, epochs=100, batch_size=16, callbacks=[checkpointer], verbose=1)"
      ]
    },
    {
      "cell_type": "code",
      "execution_count": null,
      "metadata": {
        "colab": {
          "base_uri": "https://localhost:8080/"
        },
        "id": "STnPSANyA_NK",
        "outputId": "3e6be82a-e448-4de8-a4ed-6e5fd3296c89"
      },
      "outputs": [
        {
          "output_type": "stream",
          "name": "stdout",
          "text": [
            "Model: \"sequential_1\"\n",
            "_________________________________________________________________\n",
            " Layer (type)                Output Shape              Param #   \n",
            "=================================================================\n",
            " flatten_1 (Flatten)         (None, 25088)             0         \n",
            "                                                                 \n",
            " dense_2 (Dense)             (None, 250)               6272250   \n",
            "                                                                 \n",
            " dense_3 (Dense)             (None, 36)                9036      \n",
            "                                                                 \n",
            "=================================================================\n",
            "Total params: 6,281,286\n",
            "Trainable params: 6,281,286\n",
            "Non-trainable params: 0\n",
            "_________________________________________________________________\n",
            "1/1 [==============================] - 0s 54ms/step\n",
            "1/1 [==============================] - 0s 26ms/step\n",
            "1/1 [==============================] - 0s 24ms/step\n",
            "1/1 [==============================] - 0s 26ms/step\n",
            "1/1 [==============================] - 0s 26ms/step\n",
            "1/1 [==============================] - 0s 28ms/step\n",
            "1/1 [==============================] - 0s 25ms/step\n",
            "1/1 [==============================] - 0s 31ms/step\n",
            "1/1 [==============================] - 0s 26ms/step\n",
            "1/1 [==============================] - 0s 29ms/step\n",
            "1/1 [==============================] - 0s 26ms/step\n",
            "1/1 [==============================] - 0s 27ms/step\n",
            "1/1 [==============================] - 0s 27ms/step\n",
            "1/1 [==============================] - 0s 27ms/step\n",
            "1/1 [==============================] - 0s 25ms/step\n",
            "1/1 [==============================] - 0s 25ms/step\n",
            "1/1 [==============================] - 0s 26ms/step\n",
            "1/1 [==============================] - 0s 26ms/step\n",
            "1/1 [==============================] - 0s 24ms/step\n",
            "1/1 [==============================] - 0s 25ms/step\n",
            "1/1 [==============================] - 0s 41ms/step\n",
            "1/1 [==============================] - 0s 31ms/step\n",
            "1/1 [==============================] - 0s 26ms/step\n",
            "1/1 [==============================] - 0s 26ms/step\n",
            "1/1 [==============================] - 0s 26ms/step\n",
            "1/1 [==============================] - 0s 24ms/step\n",
            "1/1 [==============================] - 0s 26ms/step\n",
            "1/1 [==============================] - 0s 26ms/step\n",
            "1/1 [==============================] - 0s 25ms/step\n",
            "1/1 [==============================] - 0s 25ms/step\n",
            "1/1 [==============================] - 0s 28ms/step\n",
            "1/1 [==============================] - 0s 27ms/step\n",
            "1/1 [==============================] - 0s 25ms/step\n",
            "1/1 [==============================] - 0s 27ms/step\n",
            "1/1 [==============================] - 0s 26ms/step\n",
            "1/1 [==============================] - 0s 28ms/step\n",
            "1/1 [==============================] - 0s 28ms/step\n",
            "1/1 [==============================] - 0s 25ms/step\n",
            "1/1 [==============================] - 0s 31ms/step\n",
            "1/1 [==============================] - 0s 26ms/step\n",
            "1/1 [==============================] - 0s 26ms/step\n",
            "1/1 [==============================] - 0s 26ms/step\n",
            "1/1 [==============================] - 0s 30ms/step\n",
            "1/1 [==============================] - 0s 23ms/step\n",
            "1/1 [==============================] - 0s 26ms/step\n",
            "1/1 [==============================] - 0s 24ms/step\n",
            "1/1 [==============================] - 0s 24ms/step\n",
            "1/1 [==============================] - 0s 30ms/step\n",
            "1/1 [==============================] - 0s 29ms/step\n",
            "1/1 [==============================] - 0s 28ms/step\n",
            "1/1 [==============================] - 0s 31ms/step\n",
            "1/1 [==============================] - 0s 26ms/step\n",
            "1/1 [==============================] - 0s 25ms/step\n",
            "1/1 [==============================] - 0s 28ms/step\n",
            "1/1 [==============================] - 0s 28ms/step\n",
            "1/1 [==============================] - 0s 24ms/step\n",
            "1/1 [==============================] - 0s 39ms/step\n",
            "1/1 [==============================] - 0s 34ms/step\n",
            "1/1 [==============================] - 0s 40ms/step\n",
            "1/1 [==============================] - 0s 35ms/step\n",
            "1/1 [==============================] - 0s 34ms/step\n",
            "1/1 [==============================] - 0s 34ms/step\n",
            "1/1 [==============================] - 0s 33ms/step\n",
            "1/1 [==============================] - 0s 32ms/step\n",
            "1/1 [==============================] - 0s 40ms/step\n",
            "1/1 [==============================] - 0s 35ms/step\n",
            "1/1 [==============================] - 0s 51ms/step\n",
            "1/1 [==============================] - 0s 36ms/step\n",
            "1/1 [==============================] - 0s 38ms/step\n",
            "1/1 [==============================] - 0s 34ms/step\n",
            "1/1 [==============================] - 0s 31ms/step\n",
            "1/1 [==============================] - 0s 45ms/step\n",
            "1/1 [==============================] - 0s 33ms/step\n",
            "1/1 [==============================] - 0s 37ms/step\n",
            "1/1 [==============================] - 0s 33ms/step\n",
            "1/1 [==============================] - 0s 31ms/step\n",
            "1/1 [==============================] - 0s 36ms/step\n",
            "1/1 [==============================] - 0s 35ms/step\n",
            "1/1 [==============================] - 0s 34ms/step\n",
            "1/1 [==============================] - 0s 36ms/step\n",
            "1/1 [==============================] - 0s 33ms/step\n",
            "1/1 [==============================] - 0s 34ms/step\n",
            "1/1 [==============================] - 0s 47ms/step\n",
            "1/1 [==============================] - 0s 39ms/step\n",
            "1/1 [==============================] - 0s 40ms/step\n",
            "1/1 [==============================] - 0s 37ms/step\n",
            "1/1 [==============================] - 0s 42ms/step\n",
            "1/1 [==============================] - 0s 53ms/step\n",
            "1/1 [==============================] - 0s 37ms/step\n",
            "1/1 [==============================] - 0s 38ms/step\n",
            "1/1 [==============================] - 0s 39ms/step\n",
            "1/1 [==============================] - 0s 37ms/step\n",
            "1/1 [==============================] - 0s 35ms/step\n",
            "1/1 [==============================] - 0s 34ms/step\n",
            "1/1 [==============================] - 0s 36ms/step\n",
            "1/1 [==============================] - 0s 37ms/step\n",
            "1/1 [==============================] - 0s 40ms/step\n",
            "1/1 [==============================] - 0s 40ms/step\n",
            "1/1 [==============================] - 0s 39ms/step\n",
            "1/1 [==============================] - 0s 37ms/step\n",
            "1/1 [==============================] - 0s 41ms/step\n",
            "1/1 [==============================] - 0s 39ms/step\n",
            "1/1 [==============================] - 0s 44ms/step\n",
            "1/1 [==============================] - 0s 40ms/step\n",
            "1/1 [==============================] - 0s 40ms/step\n",
            "1/1 [==============================] - 0s 41ms/step\n",
            "1/1 [==============================] - 0s 41ms/step\n",
            "1/1 [==============================] - 0s 41ms/step\n",
            "1/1 [==============================] - 0s 37ms/step\n",
            "1/1 [==============================] - 0s 39ms/step\n",
            "1/1 [==============================] - 0s 39ms/step\n",
            "1/1 [==============================] - 0s 39ms/step\n",
            "1/1 [==============================] - 0s 36ms/step\n",
            "1/1 [==============================] - 0s 34ms/step\n",
            "1/1 [==============================] - 0s 34ms/step\n",
            "1/1 [==============================] - 0s 36ms/step\n",
            "1/1 [==============================] - 0s 35ms/step\n",
            "1/1 [==============================] - 0s 35ms/step\n",
            "1/1 [==============================] - 0s 39ms/step\n",
            "1/1 [==============================] - 0s 34ms/step\n",
            "1/1 [==============================] - 0s 38ms/step\n",
            "1/1 [==============================] - 0s 35ms/step\n",
            "1/1 [==============================] - 0s 40ms/step\n",
            "1/1 [==============================] - 0s 35ms/step\n",
            "1/1 [==============================] - 0s 35ms/step\n",
            "1/1 [==============================] - 0s 37ms/step\n",
            "1/1 [==============================] - 0s 38ms/step\n",
            "1/1 [==============================] - 0s 41ms/step\n",
            "1/1 [==============================] - 0s 32ms/step\n",
            "1/1 [==============================] - 0s 38ms/step\n",
            "1/1 [==============================] - 0s 37ms/step\n",
            "1/1 [==============================] - 0s 35ms/step\n",
            "1/1 [==============================] - 0s 31ms/step\n",
            "1/1 [==============================] - 0s 35ms/step\n",
            "1/1 [==============================] - 0s 37ms/step\n",
            "1/1 [==============================] - 0s 34ms/step\n",
            "1/1 [==============================] - 0s 37ms/step\n",
            "1/1 [==============================] - 0s 33ms/step\n",
            "1/1 [==============================] - 0s 33ms/step\n",
            "1/1 [==============================] - 0s 33ms/step\n",
            "1/1 [==============================] - 0s 33ms/step\n",
            "1/1 [==============================] - 0s 31ms/step\n",
            "1/1 [==============================] - 0s 30ms/step\n",
            "1/1 [==============================] - 0s 34ms/step\n",
            "1/1 [==============================] - 0s 29ms/step\n",
            "1/1 [==============================] - 0s 32ms/step\n",
            "1/1 [==============================] - 0s 34ms/step\n",
            "1/1 [==============================] - 0s 35ms/step\n",
            "1/1 [==============================] - 0s 30ms/step\n",
            "1/1 [==============================] - 0s 30ms/step\n",
            "1/1 [==============================] - 0s 30ms/step\n",
            "1/1 [==============================] - 0s 29ms/step\n",
            "1/1 [==============================] - 0s 31ms/step\n",
            "1/1 [==============================] - 0s 35ms/step\n",
            "1/1 [==============================] - 0s 29ms/step\n",
            "1/1 [==============================] - 0s 28ms/step\n",
            "1/1 [==============================] - 0s 31ms/step\n",
            "1/1 [==============================] - 0s 28ms/step\n",
            "1/1 [==============================] - 0s 37ms/step\n",
            "1/1 [==============================] - 0s 28ms/step\n",
            "1/1 [==============================] - 0s 28ms/step\n",
            "1/1 [==============================] - 0s 30ms/step\n",
            "1/1 [==============================] - 0s 30ms/step\n",
            "1/1 [==============================] - 0s 32ms/step\n",
            "1/1 [==============================] - 0s 34ms/step\n",
            "1/1 [==============================] - 0s 32ms/step\n",
            "1/1 [==============================] - 0s 31ms/step\n",
            "1/1 [==============================] - 0s 27ms/step\n",
            "1/1 [==============================] - 0s 29ms/step\n",
            "1/1 [==============================] - 0s 29ms/step\n",
            "1/1 [==============================] - 0s 29ms/step\n",
            "1/1 [==============================] - 0s 36ms/step\n",
            "1/1 [==============================] - 0s 30ms/step\n",
            "1/1 [==============================] - 0s 31ms/step\n",
            "1/1 [==============================] - 0s 29ms/step\n",
            "1/1 [==============================] - 0s 28ms/step\n",
            "1/1 [==============================] - 0s 41ms/step\n",
            "1/1 [==============================] - 0s 31ms/step\n",
            "1/1 [==============================] - 0s 29ms/step\n",
            "1/1 [==============================] - 0s 30ms/step\n",
            "1/1 [==============================] - 0s 30ms/step\n",
            "1/1 [==============================] - 0s 28ms/step\n",
            "1/1 [==============================] - 0s 30ms/step\n",
            "1/1 [==============================] - 0s 27ms/step\n",
            "1/1 [==============================] - 0s 29ms/step\n",
            "1/1 [==============================] - 0s 27ms/step\n",
            "1/1 [==============================] - 0s 30ms/step\n",
            "1/1 [==============================] - 0s 37ms/step\n",
            "1/1 [==============================] - 0s 30ms/step\n",
            "1/1 [==============================] - 0s 29ms/step\n",
            "1/1 [==============================] - 0s 29ms/step\n",
            "1/1 [==============================] - 0s 28ms/step\n",
            "1/1 [==============================] - 0s 28ms/step\n",
            "1/1 [==============================] - 0s 28ms/step\n",
            "1/1 [==============================] - 0s 28ms/step\n",
            "1/1 [==============================] - 0s 29ms/step\n",
            "1/1 [==============================] - 0s 27ms/step\n",
            "1/1 [==============================] - 0s 41ms/step\n",
            "1/1 [==============================] - 0s 36ms/step\n",
            "1/1 [==============================] - 0s 42ms/step\n",
            "1/1 [==============================] - 0s 35ms/step\n",
            "1/1 [==============================] - 0s 36ms/step\n",
            "1/1 [==============================] - 0s 39ms/step\n",
            "1/1 [==============================] - 0s 37ms/step\n",
            "1/1 [==============================] - 0s 35ms/step\n",
            "1/1 [==============================] - 0s 34ms/step\n",
            "1/1 [==============================] - 0s 34ms/step\n",
            "1/1 [==============================] - 0s 36ms/step\n",
            "1/1 [==============================] - 0s 36ms/step\n",
            "1/1 [==============================] - 0s 34ms/step\n",
            "1/1 [==============================] - 0s 32ms/step\n",
            "1/1 [==============================] - 0s 32ms/step\n",
            "1/1 [==============================] - 0s 31ms/step\n",
            "1/1 [==============================] - 0s 30ms/step\n",
            "1/1 [==============================] - 0s 33ms/step\n",
            "1/1 [==============================] - 0s 41ms/step\n",
            "1/1 [==============================] - 0s 40ms/step\n",
            "1/1 [==============================] - 0s 37ms/step\n",
            "1/1 [==============================] - 0s 37ms/step\n",
            "1/1 [==============================] - 0s 35ms/step\n",
            "1/1 [==============================] - 0s 34ms/step\n",
            "1/1 [==============================] - 0s 35ms/step\n",
            "1/1 [==============================] - 0s 44ms/step\n",
            "1/1 [==============================] - 0s 42ms/step\n",
            "1/1 [==============================] - 0s 40ms/step\n",
            "1/1 [==============================] - 0s 45ms/step\n",
            "1/1 [==============================] - 0s 27ms/step\n",
            "1/1 [==============================] - 0s 29ms/step\n",
            "1/1 [==============================] - 0s 25ms/step\n",
            "1/1 [==============================] - 0s 26ms/step\n",
            "1/1 [==============================] - 0s 26ms/step\n",
            "1/1 [==============================] - 0s 26ms/step\n",
            "1/1 [==============================] - 0s 33ms/step\n",
            "1/1 [==============================] - 0s 32ms/step\n",
            "1/1 [==============================] - 0s 28ms/step\n",
            "1/1 [==============================] - 0s 28ms/step\n",
            "1/1 [==============================] - 0s 33ms/step\n",
            "1/1 [==============================] - 0s 24ms/step\n",
            "1/1 [==============================] - 0s 26ms/step\n",
            "1/1 [==============================] - 0s 25ms/step\n",
            "1/1 [==============================] - 0s 25ms/step\n",
            "1/1 [==============================] - 0s 30ms/step\n",
            "1/1 [==============================] - 0s 29ms/step\n",
            "1/1 [==============================] - 0s 26ms/step\n",
            "1/1 [==============================] - 0s 27ms/step\n",
            "1/1 [==============================] - 0s 26ms/step\n",
            "1/1 [==============================] - 0s 24ms/step\n",
            "1/1 [==============================] - 0s 25ms/step\n",
            "1/1 [==============================] - 0s 26ms/step\n",
            "1/1 [==============================] - 0s 26ms/step\n",
            "1/1 [==============================] - 0s 32ms/step\n",
            "1/1 [==============================] - 0s 30ms/step\n",
            "1/1 [==============================] - 0s 26ms/step\n",
            "1/1 [==============================] - 0s 25ms/step\n",
            "1/1 [==============================] - 0s 26ms/step\n",
            "1/1 [==============================] - 0s 26ms/step\n",
            "1/1 [==============================] - 0s 25ms/step\n",
            "1/1 [==============================] - 0s 24ms/step\n",
            "1/1 [==============================] - 0s 23ms/step\n",
            "1/1 [==============================] - 0s 28ms/step\n",
            "1/1 [==============================] - 0s 25ms/step\n",
            "1/1 [==============================] - 0s 27ms/step\n",
            "1/1 [==============================] - 0s 27ms/step\n",
            "1/1 [==============================] - 0s 27ms/step\n",
            "1/1 [==============================] - 0s 28ms/step\n",
            "1/1 [==============================] - 0s 24ms/step\n",
            "1/1 [==============================] - 0s 25ms/step\n",
            "1/1 [==============================] - 0s 23ms/step\n",
            "1/1 [==============================] - 0s 29ms/step\n",
            "1/1 [==============================] - 0s 28ms/step\n",
            "1/1 [==============================] - 0s 29ms/step\n",
            "1/1 [==============================] - 0s 25ms/step\n",
            "1/1 [==============================] - 0s 26ms/step\n",
            "1/1 [==============================] - 0s 25ms/step\n",
            "1/1 [==============================] - 0s 31ms/step\n",
            "1/1 [==============================] - 0s 25ms/step\n",
            "1/1 [==============================] - 0s 28ms/step\n",
            "1/1 [==============================] - 0s 28ms/step\n",
            "1/1 [==============================] - 0s 28ms/step\n",
            "1/1 [==============================] - 0s 25ms/step\n",
            "1/1 [==============================] - 0s 24ms/step\n",
            "1/1 [==============================] - 0s 24ms/step\n",
            "1/1 [==============================] - 0s 26ms/step\n",
            "1/1 [==============================] - 0s 25ms/step\n",
            "1/1 [==============================] - 0s 24ms/step\n",
            "1/1 [==============================] - 0s 27ms/step\n",
            "1/1 [==============================] - 0s 31ms/step\n",
            "1/1 [==============================] - 0s 28ms/step\n",
            "1/1 [==============================] - 0s 27ms/step\n",
            "1/1 [==============================] - 0s 30ms/step\n",
            "1/1 [==============================] - 0s 28ms/step\n",
            "1/1 [==============================] - 0s 26ms/step\n",
            "1/1 [==============================] - 0s 26ms/step\n",
            "1/1 [==============================] - 0s 27ms/step\n",
            "1/1 [==============================] - 0s 27ms/step\n",
            "1/1 [==============================] - 0s 25ms/step\n",
            "1/1 [==============================] - 0s 28ms/step\n",
            "1/1 [==============================] - 0s 27ms/step\n",
            "1/1 [==============================] - 0s 27ms/step\n",
            "1/1 [==============================] - 0s 26ms/step\n",
            "1/1 [==============================] - 0s 28ms/step\n",
            "1/1 [==============================] - 0s 26ms/step\n",
            "1/1 [==============================] - 0s 33ms/step\n",
            "1/1 [==============================] - 0s 32ms/step\n",
            "1/1 [==============================] - 0s 26ms/step\n",
            "1/1 [==============================] - 0s 25ms/step\n",
            "1/1 [==============================] - 0s 24ms/step\n",
            "1/1 [==============================] - 0s 23ms/step\n",
            "1/1 [==============================] - 0s 23ms/step\n",
            "1/1 [==============================] - 0s 27ms/step\n",
            "1/1 [==============================] - 0s 26ms/step\n",
            "1/1 [==============================] - 0s 30ms/step\n",
            "1/1 [==============================] - 0s 29ms/step\n",
            "1/1 [==============================] - 0s 26ms/step\n",
            "1/1 [==============================] - 0s 29ms/step\n",
            "1/1 [==============================] - 0s 24ms/step\n",
            "1/1 [==============================] - 0s 28ms/step\n",
            "1/1 [==============================] - 0s 26ms/step\n",
            "1/1 [==============================] - 0s 26ms/step\n",
            "1/1 [==============================] - 0s 29ms/step\n",
            "1/1 [==============================] - 0s 33ms/step\n",
            "1/1 [==============================] - 0s 26ms/step\n",
            "1/1 [==============================] - 0s 24ms/step\n",
            "1/1 [==============================] - 0s 27ms/step\n",
            "1/1 [==============================] - 0s 26ms/step\n",
            "1/1 [==============================] - 0s 29ms/step\n",
            "1/1 [==============================] - 0s 26ms/step\n",
            "1/1 [==============================] - 0s 26ms/step\n",
            "1/1 [==============================] - 0s 34ms/step\n",
            "1/1 [==============================] - 0s 27ms/step\n",
            "1/1 [==============================] - 0s 28ms/step\n",
            "1/1 [==============================] - 0s 29ms/step\n",
            "1/1 [==============================] - 0s 26ms/step\n",
            "1/1 [==============================] - 0s 30ms/step\n",
            "1/1 [==============================] - 0s 27ms/step\n",
            "1/1 [==============================] - 0s 28ms/step\n",
            "1/1 [==============================] - 0s 24ms/step\n",
            "1/1 [==============================] - 0s 27ms/step\n",
            "1/1 [==============================] - 0s 26ms/step\n",
            "1/1 [==============================] - 0s 29ms/step\n",
            "1/1 [==============================] - 0s 29ms/step\n",
            "1/1 [==============================] - 0s 26ms/step\n",
            "1/1 [==============================] - 0s 26ms/step\n",
            "1/1 [==============================] - 0s 28ms/step\n",
            "1/1 [==============================] - 0s 25ms/step\n",
            "1/1 [==============================] - 0s 24ms/step\n",
            "1/1 [==============================] - 0s 25ms/step\n",
            "1/1 [==============================] - 0s 23ms/step\n",
            "1/1 [==============================] - 0s 26ms/step\n",
            "1/1 [==============================] - 0s 25ms/step\n",
            "1/1 [==============================] - 0s 25ms/step\n",
            "1/1 [==============================] - 0s 26ms/step\n",
            "1/1 [==============================] - 0s 29ms/step\n",
            "1/1 [==============================] - 0s 29ms/step\n",
            "1/1 [==============================] - 0s 24ms/step\n",
            "1/1 [==============================] - 0s 26ms/step\n",
            "1/1 [==============================] - 0s 31ms/step\n",
            "1/1 [==============================] - 0s 29ms/step\n",
            "1/1 [==============================] - 0s 28ms/step\n",
            "1/1 [==============================] - 0s 27ms/step\n",
            "1/1 [==============================] - 0s 25ms/step\n",
            "1/1 [==============================] - 0s 24ms/step\n",
            "1/1 [==============================] - 0s 24ms/step\n",
            "1/1 [==============================] - 0s 41ms/step\n",
            "1/1 [==============================] - 0s 36ms/step\n",
            "1/1 [==============================] - 0s 32ms/step\n",
            "1/1 [==============================] - 0s 43ms/step\n",
            "1/1 [==============================] - 0s 34ms/step\n",
            "1/1 [==============================] - 0s 40ms/step\n",
            "1/1 [==============================] - 0s 30ms/step\n",
            "1/1 [==============================] - 0s 31ms/step\n",
            "1/1 [==============================] - 0s 42ms/step\n",
            "1/1 [==============================] - 0s 31ms/step\n",
            "1/1 [==============================] - 0s 33ms/step\n",
            "1/1 [==============================] - 0s 28ms/step\n",
            "1/1 [==============================] - 0s 36ms/step\n",
            "1/1 [==============================] - 0s 35ms/step\n",
            "1/1 [==============================] - 0s 37ms/step\n",
            "1/1 [==============================] - 0s 33ms/step\n",
            "1/1 [==============================] - 0s 31ms/step\n",
            "1/1 [==============================] - 0s 33ms/step\n",
            "1/1 [==============================] - 0s 32ms/step\n",
            "1/1 [==============================] - 0s 31ms/step\n",
            "1/1 [==============================] - 0s 34ms/step\n",
            "1/1 [==============================] - 0s 42ms/step\n",
            "1/1 [==============================] - 0s 34ms/step\n",
            "1/1 [==============================] - 0s 35ms/step\n",
            "1/1 [==============================] - 0s 36ms/step\n",
            "1/1 [==============================] - 0s 31ms/step\n",
            "1/1 [==============================] - 0s 31ms/step\n",
            "1/1 [==============================] - 0s 33ms/step\n",
            "1/1 [==============================] - 0s 31ms/step\n",
            "1/1 [==============================] - 0s 38ms/step\n",
            "1/1 [==============================] - 0s 38ms/step\n",
            "1/1 [==============================] - 0s 32ms/step\n",
            "1/1 [==============================] - 0s 27ms/step\n",
            "1/1 [==============================] - 0s 25ms/step\n",
            "1/1 [==============================] - 0s 26ms/step\n",
            "1/1 [==============================] - 0s 26ms/step\n",
            "1/1 [==============================] - 0s 25ms/step\n",
            "1/1 [==============================] - 0s 25ms/step\n",
            "1/1 [==============================] - 0s 25ms/step\n",
            "1/1 [==============================] - 0s 30ms/step\n",
            "1/1 [==============================] - 0s 33ms/step\n",
            "1/1 [==============================] - 0s 26ms/step\n",
            "1/1 [==============================] - 0s 26ms/step\n",
            "1/1 [==============================] - 0s 27ms/step\n",
            "1/1 [==============================] - 0s 26ms/step\n",
            "1/1 [==============================] - 0s 27ms/step\n",
            "1/1 [==============================] - 0s 25ms/step\n",
            "1/1 [==============================] - 0s 24ms/step\n",
            "1/1 [==============================] - 0s 27ms/step\n",
            "1/1 [==============================] - 0s 27ms/step\n",
            "1/1 [==============================] - 0s 26ms/step\n",
            "1/1 [==============================] - 0s 28ms/step\n",
            "1/1 [==============================] - 0s 24ms/step\n",
            "1/1 [==============================] - 0s 25ms/step\n",
            "1/1 [==============================] - 0s 29ms/step\n",
            "1/1 [==============================] - 0s 23ms/step\n",
            "1/1 [==============================] - 0s 25ms/step\n",
            "1/1 [==============================] - 0s 29ms/step\n",
            "1/1 [==============================] - 0s 27ms/step\n",
            "1/1 [==============================] - 0s 30ms/step\n",
            "1/1 [==============================] - 0s 26ms/step\n",
            "1/1 [==============================] - 0s 26ms/step\n",
            "1/1 [==============================] - 0s 24ms/step\n",
            "1/1 [==============================] - 0s 25ms/step\n",
            "1/1 [==============================] - 0s 26ms/step\n",
            "1/1 [==============================] - 0s 30ms/step\n",
            "1/1 [==============================] - 0s 29ms/step\n",
            "1/1 [==============================] - 0s 25ms/step\n",
            "1/1 [==============================] - 0s 27ms/step\n",
            "1/1 [==============================] - 0s 26ms/step\n",
            "1/1 [==============================] - 0s 25ms/step\n",
            "1/1 [==============================] - 0s 28ms/step\n",
            "1/1 [==============================] - 0s 24ms/step\n",
            "1/1 [==============================] - 0s 27ms/step\n",
            "1/1 [==============================] - 0s 26ms/step\n",
            "1/1 [==============================] - 0s 29ms/step\n",
            "1/1 [==============================] - 0s 31ms/step\n",
            "1/1 [==============================] - 0s 25ms/step\n",
            "1/1 [==============================] - 0s 25ms/step\n",
            "1/1 [==============================] - 0s 25ms/step\n",
            "1/1 [==============================] - 0s 24ms/step\n",
            "1/1 [==============================] - 0s 29ms/step\n",
            "1/1 [==============================] - 0s 25ms/step\n",
            "1/1 [==============================] - 0s 25ms/step\n",
            "1/1 [==============================] - 0s 26ms/step\n",
            "1/1 [==============================] - 0s 27ms/step\n",
            "1/1 [==============================] - 0s 30ms/step\n",
            "1/1 [==============================] - 0s 25ms/step\n",
            "1/1 [==============================] - 0s 23ms/step\n",
            "1/1 [==============================] - 0s 25ms/step\n",
            "1/1 [==============================] - 0s 26ms/step\n",
            "1/1 [==============================] - 0s 28ms/step\n",
            "1/1 [==============================] - 0s 25ms/step\n",
            "1/1 [==============================] - 0s 28ms/step\n",
            "1/1 [==============================] - 0s 28ms/step\n",
            "1/1 [==============================] - 0s 26ms/step\n",
            "1/1 [==============================] - 0s 26ms/step\n",
            "1/1 [==============================] - 0s 26ms/step\n",
            "1/1 [==============================] - 0s 25ms/step\n",
            "1/1 [==============================] - 0s 26ms/step\n",
            "1/1 [==============================] - 0s 23ms/step\n",
            "1/1 [==============================] - 0s 26ms/step\n",
            "1/1 [==============================] - 0s 27ms/step\n",
            "1/1 [==============================] - 0s 27ms/step\n",
            "1/1 [==============================] - 0s 25ms/step\n",
            "1/1 [==============================] - 0s 25ms/step\n",
            "1/1 [==============================] - 0s 25ms/step\n",
            "1/1 [==============================] - 0s 24ms/step\n",
            "1/1 [==============================] - 0s 23ms/step\n",
            "1/1 [==============================] - 0s 24ms/step\n",
            "1/1 [==============================] - 0s 35ms/step\n",
            "1/1 [==============================] - 0s 27ms/step\n",
            "1/1 [==============================] - 0s 33ms/step\n",
            "1/1 [==============================] - 0s 26ms/step\n",
            "1/1 [==============================] - 0s 27ms/step\n",
            "1/1 [==============================] - 0s 26ms/step\n",
            "1/1 [==============================] - 0s 26ms/step\n",
            "1/1 [==============================] - 0s 25ms/step\n",
            "1/1 [==============================] - 0s 30ms/step\n",
            "1/1 [==============================] - 0s 27ms/step\n",
            "1/1 [==============================] - 0s 29ms/step\n",
            "1/1 [==============================] - 0s 26ms/step\n",
            "1/1 [==============================] - 0s 28ms/step\n",
            "1/1 [==============================] - 0s 25ms/step\n",
            "1/1 [==============================] - 0s 26ms/step\n",
            "1/1 [==============================] - 0s 27ms/step\n",
            "1/1 [==============================] - 0s 26ms/step\n",
            "1/1 [==============================] - 0s 25ms/step\n",
            "1/1 [==============================] - 0s 26ms/step\n",
            "1/1 [==============================] - 0s 24ms/step\n",
            "1/1 [==============================] - 0s 25ms/step\n",
            "1/1 [==============================] - 0s 29ms/step\n",
            "1/1 [==============================] - 0s 26ms/step\n",
            "1/1 [==============================] - 0s 25ms/step\n",
            "1/1 [==============================] - 0s 29ms/step\n",
            "1/1 [==============================] - 0s 27ms/step\n",
            "1/1 [==============================] - 0s 26ms/step\n",
            "1/1 [==============================] - 0s 28ms/step\n",
            "1/1 [==============================] - 0s 27ms/step\n",
            "1/1 [==============================] - 0s 27ms/step\n",
            "Time Taken: 40.45574164390564 seconds\n"
          ]
        }
      ],
      "source": [
        "Model2 = Sequential()\n",
        "Model2.add(Flatten(input_shape=bottleneck_features_train_VGG16.shape[1:]))\n",
        "##Model2.add(Dense(500, activation='relu',kernel_initializer='glorot_normal')) \n",
        "Model2.add(Dense(250, activation='relu',kernel_initializer='glorot_normal')) \n",
        "##Model2.add(Dense(100, activation='relu',kernel_initializer='glorot_normal')) \n",
        "##Model2.add(Dense(50, activation='relu',kernel_initializer='glorot_normal')) \n",
        "##Model2.add(Dropout(0.5))\n",
        "Model2.add(Dense(36, activation='softmax',kernel_initializer='glorot_normal'))\n",
        "Model2.summary()\n",
        "Model2.load_weights('/content/sample_data/weights.best.VGG16.hdf5_transfer_learning')\n",
        "import time\n",
        "# Start timing\n",
        "start_time = time.time()\n",
        "VGG16_predictions = [Model2.predict(np.expand_dims(tensor, axis=0))[0] for tensor in bottleneck_features_test_VGG16]\n",
        "# End timing\n",
        "end_time = time.time()\n",
        "print(\"Time Taken: {} seconds\".format(end_time-start_time))\n"
      ]
    },
    {
      "cell_type": "markdown",
      "source": [
        "# **Report test accuracy**"
      ],
      "metadata": {
        "id": "DHpn4UsqZU_S"
      }
    },
    {
      "cell_type": "code",
      "execution_count": null,
      "metadata": {
        "colab": {
          "base_uri": "https://localhost:8080/"
        },
        "id": "phHmLvqNBKPn",
        "outputId": "fa84e29b-ce64-4627-ac6b-10c63a364b1a"
      },
      "outputs": [
        {
          "output_type": "stream",
          "name": "stdout",
          "text": [
            "              precision    recall  f1-score   support\n",
            "\n",
            "           0       0.94      1.00      0.97        16\n",
            "           1       0.85      1.00      0.92        11\n",
            "           2       1.00      1.00      1.00        12\n",
            "           3       1.00      1.00      1.00        12\n",
            "           4       1.00      1.00      1.00        13\n",
            "           5       1.00      1.00      1.00        17\n",
            "           6       1.00      1.00      1.00        18\n",
            "           7       1.00      1.00      1.00        13\n",
            "           8       1.00      1.00      1.00        16\n",
            "           9       1.00      1.00      1.00        17\n",
            "          10       1.00      1.00      1.00        19\n",
            "          11       1.00      1.00      1.00        12\n",
            "          12       1.00      1.00      1.00        11\n",
            "          13       1.00      1.00      1.00        20\n",
            "          14       1.00      1.00      1.00        19\n",
            "          15       1.00      1.00      1.00        11\n",
            "          16       1.00      1.00      1.00        21\n",
            "          17       1.00      1.00      1.00        10\n",
            "          18       1.00      1.00      1.00        13\n",
            "          19       1.00      1.00      1.00        16\n",
            "          20       1.00      1.00      1.00        14\n",
            "          21       1.00      1.00      1.00        10\n",
            "          22       1.00      1.00      1.00        11\n",
            "          23       1.00      1.00      1.00        15\n",
            "          24       1.00      0.92      0.96        12\n",
            "          25       1.00      1.00      1.00        17\n",
            "          26       1.00      1.00      1.00        20\n",
            "          27       1.00      1.00      1.00        11\n",
            "          28       1.00      1.00      1.00        11\n",
            "          29       1.00      1.00      1.00        11\n",
            "          30       1.00      1.00      1.00        18\n",
            "          31       1.00      1.00      1.00         7\n",
            "          32       1.00      1.00      1.00         8\n",
            "          33       1.00      1.00      1.00         9\n",
            "          34       1.00      1.00      1.00        18\n",
            "          35       1.00      0.86      0.92        14\n",
            "\n",
            "    accuracy                           0.99       503\n",
            "   macro avg       0.99      0.99      0.99       503\n",
            "weighted avg       0.99      0.99      0.99       503\n",
            "\n",
            "[[16  0  0 ...  0  0  0]\n",
            " [ 0 11  0 ...  0  0  0]\n",
            " [ 0  0 12 ...  0  0  0]\n",
            " ...\n",
            " [ 0  0  0 ...  9  0  0]\n",
            " [ 0  0  0 ...  0 18  0]\n",
            " [ 0  2  0 ...  0  0 12]]\n"
          ]
        }
      ],
      "source": [
        "\n",
        "predicted_classes = np.argmax(np.round(VGG16_predictions),axis=1)\n",
        "test_classes = np.argmax(np.round(test_targets),axis=1)\n",
        "from sklearn.metrics import classification_report\n",
        "print(classification_report(test_classes, predicted_classes))\n",
        "from sklearn.metrics import confusion_matrix\n",
        "confusion_mtx = confusion_matrix(test_classes, predicted_classes)\n",
        "print(confusion_mtx)\n"
      ]
    },
    {
      "cell_type": "code",
      "execution_count": null,
      "metadata": {
        "id": "pXU55kbppw99"
      },
      "outputs": [],
      "source": []
    }
  ],
  "metadata": {
    "colab": {
      "provenance": []
    },
    "gpuClass": "standard",
    "kernelspec": {
      "display_name": "Python 3",
      "name": "python3"
    },
    "language_info": {
      "name": "python"
    }
  },
  "nbformat": 4,
  "nbformat_minor": 0
}