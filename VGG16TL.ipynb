{
  "cells": [
    {
      "cell_type": "markdown",
      "source": [
        "# **Importing basic libraries required for the project and define function to load datasets**"
      ],
      "metadata": {
        "id": "VCyjEGFfSBGh"
      }
    },
    {
      "cell_type": "code",
      "execution_count": null,
      "metadata": {
        "id": "ND-5sxK0Dg6o"
      },
      "outputs": [],
      "source": [
        "from sklearn.datasets import load_files       \n",
        "from keras.utils import np_utils\n",
        "import numpy as np\n",
        "from glob import glob\n",
        "from sklearn.model_selection import train_test_split\n",
        "\n",
        "\n",
        "# define function to load datasets\n",
        "def load_dataset(path):\n",
        "    data = load_files(path)\n",
        "    files = np.array(data['filenames'])\n",
        "    targets = np_utils.to_categorical(np.array(data['target']), 36) \n",
        "\n",
        "    return files, targets"
      ]
    },
    {
      "cell_type": "markdown",
      "source": [
        "# **Mounting google drive to download a dataset from there**"
      ],
      "metadata": {
        "id": "Crt6Xmk8SVfr"
      }
    },
    {
      "cell_type": "code",
      "execution_count": null,
      "metadata": {
        "colab": {
          "base_uri": "https://localhost:8080/"
        },
        "id": "hRF3AKQnvxMP",
        "outputId": "01963d76-08d6-477f-9f6c-35456ebffb86"
      },
      "outputs": [
        {
          "output_type": "stream",
          "name": "stdout",
          "text": [
            "Drive already mounted at /content/drive; to attempt to forcibly remount, call drive.mount(\"/content/drive\", force_remount=True).\n"
          ]
        }
      ],
      "source": [
        "from google.colab import drive\n",
        "drive.mount('/content/drive')"
      ]
    },
    {
      "cell_type": "markdown",
      "source": [
        "# **Load train, test, and validation datasets**"
      ],
      "metadata": {
        "id": "WpX7qYelScau"
      }
    },
    {
      "cell_type": "code",
      "execution_count": null,
      "metadata": {
        "id": "2sJSQ2KUoIPF"
      },
      "outputs": [],
      "source": [
        "\n",
        "data_files, data_targets = load_dataset('/content/drive/MyDrive/ASL_FingerSpelling_Dataset') \n",
        "# load list of names\n",
        "names = [item[17:19] for item in sorted(glob(\"/content/drive/MyDrive/ASL_FingerSpelling_Dataset/*/\"))]\n",
        "\n",
        "X_train, X_test, y_train, y_test = train_test_split(data_files, data_targets, test_size=0.2, random_state=42) "
      ]
    },
    {
      "cell_type": "markdown",
      "source": [
        "# **Print statistics about the dataset**\n",
        "\n"
      ],
      "metadata": {
        "id": "6DmnCYGDTd6H"
      }
    },
    {
      "cell_type": "code",
      "execution_count": null,
      "metadata": {
        "colab": {
          "base_uri": "https://localhost:8080/"
        },
        "id": "jtqc0GiFKNHf",
        "outputId": "77cb6d71-2ef9-4b9f-b6ac-e6969cc5f872"
      },
      "outputs": [
        {
          "output_type": "stream",
          "name": "stdout",
          "text": [
            "There are 2515 total images.\n",
            "\n",
            "There are 2012 training images.\n",
            "There are 36 total categories.\n",
            "There are 503 testing images.\n"
          ]
        }
      ],
      "source": [
        "\n",
        "print('There are %s total images.\\n' % len(np.hstack([X_train, X_test])))\n",
        "print('There are %d training images.' % len(X_train))\n",
        "print('There are %d total categories.' % len(names))\n",
        "print('There are %d testing images.' % len(X_test))\n"
      ]
    },
    {
      "cell_type": "markdown",
      "source": [
        "# **Pre-process the Data**"
      ],
      "metadata": {
        "id": "sM6tqhsRTmCU"
      }
    },
    {
      "cell_type": "code",
      "execution_count": null,
      "metadata": {
        "id": "gKwJvjPfJrJO",
        "colab": {
          "base_uri": "https://localhost:8080/"
        },
        "outputId": "3f5086f1-196b-46c8-a958-b4c9139e26ae"
      },
      "outputs": [
        {
          "output_type": "stream",
          "name": "stdout",
          "text": [
            "Looking in indexes: https://pypi.org/simple, https://us-python.pkg.dev/colab-wheels/public/simple/\n",
            "Requirement already satisfied: keras_preprocessing in /usr/local/lib/python3.9/dist-packages (1.1.2)\n",
            "Requirement already satisfied: six>=1.9.0 in /usr/local/lib/python3.9/dist-packages (from keras_preprocessing) (1.15.0)\n",
            "Requirement already satisfied: numpy>=1.9.1 in /usr/local/lib/python3.9/dist-packages (from keras_preprocessing) (1.22.4)\n"
          ]
        }
      ],
      "source": [
        "# Pre-process the Data\n",
        "!pip install keras_preprocessing\n",
        "\n",
        "from keras_preprocessing import image                  ## ready the image \n",
        "from tqdm import tqdm\n",
        "\n",
        "def path_to_tensor(img_path): ## chagne them to a tensor \n",
        "    # loads RGB image as PIL.Image.Image type\n",
        "    img = image.load_img(img_path, target_size=(224, 224))\n",
        "    # convert PIL.Image.Image type to 3D tensor with shape (224, 224, 3)\n",
        "    x = image.img_to_array(img)\n",
        "    # convert 3D tensor to 4D tensor with shape (1, 224, 224, 3) and return 4D tensor\n",
        "    return np.expand_dims(x, axis=0)\n",
        "\n",
        "def paths_to_tensor(img_paths):\n",
        "    list_of_tensors = [path_to_tensor(img_path) for img_path in tqdm(img_paths)]\n",
        "    return np.vstack(list_of_tensors)"
      ]
    },
    {
      "cell_type": "markdown",
      "source": [
        "# **pre-process the data for Keras**"
      ],
      "metadata": {
        "id": "m0Ese77RTuBM"
      }
    },
    {
      "cell_type": "code",
      "execution_count": null,
      "metadata": {
        "id": "7B-ZiXSLM80o",
        "colab": {
          "base_uri": "https://localhost:8080/"
        },
        "outputId": "c6ba88c9-90bb-44cd-dedb-fc0246c84c31"
      },
      "outputs": [
        {
          "output_type": "stream",
          "name": "stderr",
          "text": [
            "100%|██████████| 2012/2012 [00:14<00:00, 137.43it/s]\n",
            "100%|██████████| 503/503 [00:03<00:00, 131.83it/s]\n"
          ]
        }
      ],
      "source": [
        "from PIL import ImageFile                            \n",
        "ImageFile.LOAD_TRUNCATED_IMAGES = True                 \n",
        "\n",
        "# pre-process the data for Keras\n",
        "train_targets=y_train\n",
        "test_targets=y_test\n",
        "train_tensors = paths_to_tensor(X_train).astype('float32')/255\n",
        "test_tensors = paths_to_tensor(X_test).astype('float32')/255"
      ]
    },
    {
      "cell_type": "markdown",
      "source": [
        "# **Building a VGG16 model**"
      ],
      "metadata": {
        "id": "RbhH3xduUeQl"
      }
    },
    {
      "cell_type": "code",
      "execution_count": null,
      "metadata": {
        "colab": {
          "base_uri": "https://localhost:8080/"
        },
        "id": "Dyq-5LX3Rw8z",
        "outputId": "f5505413-b876-40cc-9e15-e445c723703a"
      },
      "outputs": [
        {
          "output_type": "stream",
          "name": "stdout",
          "text": [
            "Downloading data from https://storage.googleapis.com/tensorflow/keras-applications/vgg16/vgg16_weights_tf_dim_ordering_tf_kernels_notop.h5\n",
            "58889256/58889256 [==============================] - 2s 0us/step\n",
            "Model: \"vgg16\"\n",
            "_________________________________________________________________\n",
            " Layer (type)                Output Shape              Param #   \n",
            "=================================================================\n",
            " input_1 (InputLayer)        [(None, None, None, 3)]   0         \n",
            "                                                                 \n",
            " block1_conv1 (Conv2D)       (None, None, None, 64)    1792      \n",
            "                                                                 \n",
            " block1_conv2 (Conv2D)       (None, None, None, 64)    36928     \n",
            "                                                                 \n",
            " block1_pool (MaxPooling2D)  (None, None, None, 64)    0         \n",
            "                                                                 \n",
            " block2_conv1 (Conv2D)       (None, None, None, 128)   73856     \n",
            "                                                                 \n",
            " block2_conv2 (Conv2D)       (None, None, None, 128)   147584    \n",
            "                                                                 \n",
            " block2_pool (MaxPooling2D)  (None, None, None, 128)   0         \n",
            "                                                                 \n",
            " block3_conv1 (Conv2D)       (None, None, None, 256)   295168    \n",
            "                                                                 \n",
            " block3_conv2 (Conv2D)       (None, None, None, 256)   590080    \n",
            "                                                                 \n",
            " block3_conv3 (Conv2D)       (None, None, None, 256)   590080    \n",
            "                                                                 \n",
            " block3_pool (MaxPooling2D)  (None, None, None, 256)   0         \n",
            "                                                                 \n",
            " block4_conv1 (Conv2D)       (None, None, None, 512)   1180160   \n",
            "                                                                 \n",
            " block4_conv2 (Conv2D)       (None, None, None, 512)   2359808   \n",
            "                                                                 \n",
            " block4_conv3 (Conv2D)       (None, None, None, 512)   2359808   \n",
            "                                                                 \n",
            " block4_pool (MaxPooling2D)  (None, None, None, 512)   0         \n",
            "                                                                 \n",
            " block5_conv1 (Conv2D)       (None, None, None, 512)   2359808   \n",
            "                                                                 \n",
            " block5_conv2 (Conv2D)       (None, None, None, 512)   2359808   \n",
            "                                                                 \n",
            " block5_conv3 (Conv2D)       (None, None, None, 512)   2359808   \n",
            "                                                                 \n",
            " block5_pool (MaxPooling2D)  (None, None, None, 512)   0         \n",
            "                                                                 \n",
            "=================================================================\n",
            "Total params: 14,714,688\n",
            "Trainable params: 14,714,688\n",
            "Non-trainable params: 0\n",
            "_________________________________________________________________\n"
          ]
        }
      ],
      "source": [
        "from keras.applications.vgg16 import VGG16 ## (none,none,none)\n",
        "model = VGG16(include_top=False)\n",
        "model.summary()"
      ]
    },
    {
      "cell_type": "markdown",
      "source": [
        "# **Training images**"
      ],
      "metadata": {
        "id": "-2JvmPmDcfr7"
      }
    },
    {
      "cell_type": "code",
      "execution_count": null,
      "metadata": {
        "id": "dFve8tjc_7oz"
      },
      "outputs": [],
      "source": [
        "bottleneck_features_train_VGG16 = np.asarray([model.predict(np.expand_dims(tensor, axis=0), verbose=1)[0] for tensor in train_tensors],dtype=np.float32) ## Turning them into features"
      ]
    },
    {
      "cell_type": "markdown",
      "source": [
        "![hand1_1_left_seg_1_cropped.jpeg](data:image/jpeg;base64,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)![hand1_1_dif_seg_5_cropped.jpeg](data:image/jpeg;base64,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)![hand1_1_dif_seg_4_cropped.jpeg](data:image/jpeg;base64,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)![hand1_1_dif_seg_3_cropped.jpeg](data:image/jpeg;base64,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)"
      ],
      "metadata": {
        "id": "YA6_kJO-fR5a"
      }
    },
    {
      "cell_type": "markdown",
      "source": [
        "# **Test images**"
      ],
      "metadata": {
        "id": "tOmcwASucmhM"
      }
    },
    {
      "cell_type": "code",
      "execution_count": null,
      "metadata": {
        "id": "-MQSNMuVAE1M"
      },
      "outputs": [],
      "source": [
        "bottleneck_features_test_VGG16 = np.asarray([model.predict(np.expand_dims(tensor, axis=0), verbose=1)[0] for tensor in test_tensors],dtype=np.float32)"
      ]
    },
    {
      "cell_type": "markdown",
      "source": [
        "![hand1_1_bot_seg_4_cropped.jpeg](data:image/jpeg;base64,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)![hand1_1_bot_seg_3_cropped.jpeg](data:image/jpeg;base64,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)![hand1_1_bot_seg_2_cropped.jpeg](data:image/jpeg;base64,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)![hand1_1_bot_seg_1_cropped.jpeg](data:image/jpeg;base64,/9j/4AAQSkZJRgABAQAAAQABAAD/2wBDAAgGBgcGBQgHBwcJCQgKDBQNDAsLDBkSEw8UHRofHh0aHBwgJC4nICIsIxwcKDcpLDAxNDQ0Hyc5PTgyPC4zNDL/2wBDAQkJCQwLDBgNDRgyIRwhMjIyMjIyMjIyMjIyMjIyMjIyMjIyMjIyMjIyMjIyMjIyMjIyMjIyMjIyMjIyMjIyMjL/wAARCAGQAZADASIAAhEBAxEB/8QAHwAAAQUBAQEBAQEAAAAAAAAAAAECAwQFBgcICQoL/8QAtRAAAgEDAwIEAwUFBAQAAAF9AQIDAAQRBRIhMUEGE1FhByJxFDKBkaEII0KxwRVS0fAkM2JyggkKFhcYGRolJicoKSo0NTY3ODk6Q0RFRkdISUpTVFVWV1hZWmNkZWZnaGlqc3R1dnd4eXqDhIWGh4iJipKTlJWWl5iZmqKjpKWmp6ipqrKztLW2t7i5usLDxMXGx8jJytLT1NXW19jZ2uHi4+Tl5ufo6erx8vP09fb3+Pn6/8QAHwEAAwEBAQEBAQEBAQAAAAAAAAECAwQFBgcICQoL/8QAtREAAgECBAQDBAcFBAQAAQJ3AAECAxEEBSExBhJBUQdhcRMiMoEIFEKRobHBCSMzUvAVYnLRChYkNOEl8RcYGRomJygpKjU2Nzg5OkNERUZHSElKU1RVVldYWVpjZGVmZ2hpanN0dXZ3eHl6goOEhYaHiImKkpOUlZaXmJmaoqOkpaanqKmqsrO0tba3uLm6wsPExcbHyMnK0tPU1dbX2Nna4uPk5ebn6Onq8vP09fb3+Pn6/9oADAMBAAIRAxEAPwD5/ooooAKKKKACiiigAooooAKKKKACiiigAooooAKKKKACiiigAooooAKKKKACiiigArp/BHhf/hJdXxPxYW5DXBD4Y5zhR9cfkDXMV6r8LpBFol2QBuNycnHONq//AF6BqPM1E7u38OaHZ2qQRaTZbEHG6FXP4lgSaS60XSLsSCfTLJzJ98mBdx/HGf1q3FOGXk0yR1B4FFjuVGFrWPKPGHw9/s2GXUdILPaoN0sDHLRLjkg9x69x715/X0gzBkZHAZWBBBGQR6YrxXxvoMeia1/oyMtpOPMT5flU5OVB744/Ojbc5atL2b02OZooooMgooooAKKKKACiiigAooooAKKKKACiiigAooooAKKKKACiiigAooooAKKKKACiiigAooooAKKKKACiiigAooooAKKKKACiiigAooooAKKKKACiiigArufhzfNHPeWe44ZVlUFuMjg4H4j8q4atXw5qC6brttO7FYt2xyP7p4/KhgnZ3PcIpuPmNS+bnnNZsb8e9TrKuMZprY9eGqLZfdyK5zxppJ1jQJBGpM9ufNjA74HI/EfyFbiSbjinv938aT7meIp80bHzzRW14q0v+yfEFxApzE582Pnna3Y/Q5FYtB5gUUUUAFFFFABRRRQAUUUUAFFFFABRRRQAUUUUAFFFFABRRRQAUUUUAFFFFABRRRQAUUUUAFFFFABRRRQAUUUUAFFFFABRRRQAUUUUAFFFFABRRRQAUqkhgR1HSkooA9m0+6+06Za3AZj5kStlupOOf1zU4kYtWJ4Oka88NW6KxdomaNie3OQPyIroUsWPDvg+wqU7Hp4WfuK5NbuRgmrLvlOtRxW6qOpqRoVI4JBo1N5tM8/+I1or21peqq7lcxM3cgjIHv0Nee17B4psGutBvY9pchN6hRzlea8fpo8mqrTaCiiimZhRRRQAUUUUAFFFFABRRRQAUUUUAFFFFABRRRQAUUUUAFFFFABRRRQAUUUUAFFFFABRRRQAUUUUAFFFFABRRRQAUUUUAFFFFABRRRQAUUUUAFFFFAHovw2uc217bFx8rrIqemRgn9BXfoQRmvKvh3M667NCCNkkBLDHoRj+depRtjIqHudWGejQ8gc00tg0vWmyDHNJs7r6EUyo8bJINyMCrD1B614Xf24tNRubYNuEUrR5A64JFe5OM5PFeSeM7ZbbxLcFcYlCyYAxjI5/l+tVE4MSrNMwKKKKo5gooooAKKKKACiiigAooooAKKKKACiiigAooooAKKKKACiiigAooooAKKKKACiiigAooooAKKKKACiiigAooooAKKKKACiiigAooooAKKKKACiiigDc8IXjWfia0IyVlbyWAx0bj+eD+FexjkA9q8J06V4NRtpY22ukqlT6HIr3NWGCB0B4qJbm+HdpNE24gcGm9c5NNZhjmmBsnikd62FboRXmPxBgEeswTDdmWEZz04JHFemnJHFcR8RLcvp9rcAt+7lK4A4AYdf/AB0fnQtGcuJXu3PO6KKK0OMKKKKACiiigAooooAKKKKACiiigAooooAKKKKACiiigAooooAKKKKACiiigAooooAKKKKACiiigAooooAKKKKACiiigAooooAKKKKACtfSvDGta3CZtP0+aaENsMgACg/U10nw58HRa9dvf6hGXsIG2qmcCWTjg98AHJ9enrXszRRwLFaW6LGiLhVUYCKPQVLdjSnSlUemx4FqfgXX9LgaeazDxICztDIJNoHc4rm6+jZnzIRnjtXlfjrwotg51Swhxauf3yKMCNj3A7A/ofrUxm27MKlKUNXscOpKsCCQRyCK9ytGzbREnJKKST34FeGCvb7MqUhU9PLXj8BTl0Ci/wB4iWSU5woJ+lMUzE/6s1oCNOwFOxtzgVNtT0oy02KgkYL8+F9q5zxfH5/h67AbAUCTOOuCOK6p5F29BWHqwM1lcxxjLPE6gDuSCBVMxrK8GeOUUUVZ54UUUUAFFFFABRRRQAUUUUAFFFFABRRRQAUUUUAFFFFABRRRQAUUUUAFFFFABRRRQAUUUUAFFFFABRRRQAUUUUAFFFFABRRRQAUqjLADvSU6P/WL9RQB9EaFCuj6Ja2akZgjCkjnnv8ArmrSXBkt5Zy2Wkbap9h1qrkshXPBqEzmKGG3wPkNYc1z2KNNKkkid4zjd3qEqk6GKVFdW4KsMg/UVdjYSRjNQ3EOz5lFa8t1oY1Vf3WeZ+Jfh3cxXQudFRZbSQ/NGWAMJ/Hqv613On2yhYlYAsqgHHsMVpQzFDkjI7j1p2yHdvRQjdeKUkzkjS5ZXTJFsFwT8wp66epIDOxz2qxG+5FKnrTTK2QM0NI7oXK0ulQhen61iX9jGpICjFb88mF61l3ZDjmjRoc43Wp4VqtkdP1S4tT0jchTnOR2/SqddP45jWPW42UcvCCx9cEj+QFcxVJ3VzybW0CiiimAUUUUAFFFFABRRRQAUUUUAFFFFABRRRQAUUUUAFFFFABRRRQAUUUUAFFFFABRRRQAUUUUAFFFFABRRRQAUUUUAFFFFABSocOCexpKKAPfrO6jureO4hfdHIodT7GpZojOBt4cHiuS8Cal9r0FIS37y2Yxkcfd6r/Ufga65GOeDzXJtKx7uDkp0UJFJLCcSAg+9X4ZUmIVjRFOrrslUN6EinLHEWGMj6Gu2ElYzrUnuTvZJByMNuGcDrVZ4iGO5cZrRRlRRzzSsqSHnGcVlVTlsckYNbmXEWhbGcoe3pUucmpPJJJHFMMJ/h4rNSa0ZcZ8rsytO2BWfM2Vz71duEkxyPxrNmyM1Z0XTief/EGJmFlMANqs6H6nBH8jXD16L46hD6OkmceXMDj1yCK86qobHk1PjYUUUVRAUUUUAFFFFABRRRQAUUUUAFFFFABRRRQAUUUUAFFFFABRRRQAUUUUAFFFFABRRRQAUUUUAFFFFABRRRQAUUUUAFFTWlpPfXcVraxNLPKwVEUZJNe4+Dfh/ZaFHHc3QS41Er88h5SPPZB+mfrSbsOKcnZHkGneFdb1VEktNOmaJ/uyMNiHjP3jgVoXHw+8Q28CyG1jkJBLJHKCy47e5+ma95uohCoKLwOBnj9Kwru4kUHIWpbkjrhg3LdnkHhm6utC8Rpa3MMkQnIikjdcHJPBx9f616tHKGHFYt7eBJC7IuQOpHSrenz+bAkgPDDOK56ju0zrwtKdFtS2ZqLNzwatCQlQRVIAEcVMhwBVwmd8veWhoQzZOGOK0YQrEH+VY6EcetXIZ8Gtro4ZxZo+SCxx+JqCWIrkLS/aiE2j61C1ySc9R6DvRZMzjSciCVtmQy5zxWdcW4aEspIb0IqaeYtdKhRsjls9BTbiXeG29R0AqWrFTouCucL40haTw/NtwPLdXOfTOP615hXsPiNFfRr4MoP7hyQemQCa8epw2PNqu82FFFFWZhRRRQAUUUUAFFFFABRRRQAUUUUAFFFFABRRRQAUUUUAFFFFABRRRQAUUUUAFFFFABRRRQAUUUUAFFFFABRRR3oA9I+FekK9zcaxKB+6Pkw+zEfMfyIH4n0r1lrxIV6iuJ8Eqtr4SsdhJDqXOT3LHNbTysG3Z61lzas7cLD3ebuXrm6LqTn9a5+9nODzVuW4G3k1mXcodWwpJA7Chts7YnPanNmKTJ7GtPRJQdLtmHQIBXP6mXMb4jYfWtHw25l0hBn7rFaytrZm078h2EBV0yOasxxg855rnEvzYyKJs+Ux4b0+tb8Eqyxhgcg9D61k/ddma02pRuWVUDp1p6nmoc4HU/Sno38R4rWM+hnOD3HNKRkmmCQsCxJz29qkK7xu7VAw5wDSc2iItIieRmYEnNRySgKSeKkfg7QpP0qrLaSSEmWRgv8AdxRzt7F1JKSszMvNt0ssJG+N0KkHvkYxXjbo0bsjDDKcEehr2q4IjXagHHoK8o8RWYstanRVIRz5i59Dz/PI/Ctab1aPFxCtO5lUUUVsYBRRRQAUUUUAFFFFABRRRQAUUUUAFFFFABRRRQAUUUUAFFFFABRRRQAUUUUAFFFFABRRRQAUUUUAFFPiiknmSKJGkkdgqooyWJ6ACvXvC3wijhWO78QOJZCARZRkgKeD87Dr3GBx70mwV27Lc8eoHWvp7/hE9FijCjRtOUAcZtUJ/UVzuveDtDvYCG02CFlPytboIj/471qXO3Q29hOxmeDnD+G7BB/DAP5mtuWIsDWLoIhtJmsYl2rCgVRntzXSKAR61lFts66acIpMyvKbd92opUwTxWu8X0AqpOgGeQa2sHOclqkGUY4xmqnhRgqXMB6rJx+Nb1/CGRjjtXO6HmHX7iMnAdQ35VjLc7Kb5o2OjurUSwkHv61hw6td6FKyhTPbZ+4x5X6GuqKB0/CsTUbNXVhis5+8h05ODL9h4rsNQlSEb45WH3XH9a145TcZaMkx5xmvK761ML5CkCvRNGuYZNLga3OI9gHHr6H3rHY7U00bccjBQpp5QOM96qo+7p1qwj9s1d7nNUjroNePZ7VBJvIJHIrQVd3fimSxqqkgUzmldGBOitztbNcP46ss21vd5GUYxkeoPI/ka9EugMc8e9c7rtiNR02e12hnZcofRh0/z71pCVnc5MRG8bnklFKylWKkYIODSV1HCFFFFABRRRQAUUUUAFFFFABRRRQAUUUUAFFFFABRRRQAUUUUAFFFFABRRRQAUUUUAFFFFABRRRQB6R8JNDFzq0usygFLX93D7yEcn8Af1HvXu0DQrGfUDqa4Pwrpq6HoFnaquJAgeU+rnlvy6fhXRrdYxk1Cd3c6qFP3ebuX7mdnyFAH1rn9QmYBgSPyq/Jc5PyZNZtyvmE5ptXOlNRdjkJJRZ+IIpDwJRtzXWQ4Kqa5jxPp7vYmeIHzITvUDvjtWzoV4t7psMwIOVFYv3WW7SV0aEynHtWfKCc5rTk5Ws+VTk1aloRymXdRkqa5XyzB4ltTnAkDKa7CZeD61yeto0DR3QHMUgb8O9ZyOijudhCu6Oql1DuPSpdPuUnt1ZTwRkVPKu5eOtY850cjOUv7XcG+UVQ0XUH0zUhbPhbedh1PRvWt+8AQNu4OOMjrXD6lKXuSMYwc1O7sVFNHq8MilRzVyPYwwOtcBoOqX16ixsNwTgyZ5/Ku2tD8q9R9aaTW45aGlGSOO1PySuDUaMDwTUpVlHNUc049SjdoM9BWNPHtY8YroZU3DnoKybqE5OKpanLI8k8W6V/Z+qmaNcQXGXXA4DfxD+v41z9er6/pI1XTJYNoMq/NEc4w4/xryllKMVYEEHBB7V0wd0edKPK7CUUUVZIUUUUAFFFFABRRRQAUUUUAFFFFABRRRQAUUUUAFFFFABRRRQAUUUUAFFFFABRRRQAVteFNJbWPENtb7N0KMJJumAgIznPXsPxrFr1f4a6VDDokupBlee4kMeR1RV7fiTn8qipLljcEuZqK6nfJg/L/ACqUhRjPNU4WKyketXlbIrKnI9Tl5VYcFGKjMIY+1TxqO9SeWBzXUtUYSvcyb61D27DGeK5Xw5MbHUrvTG4VW8yIf7J/wNd1MuUIrgPEKtpusWmor90P5cn+61YVUdFB30OzJBXpVSYdeKltpRJCrDoRmmzjIrBSsbOGtjLlGTxWJqkAnt5EK5BBFb8q96z7qIFCPWhu446HN6Bqhgja0lYCSEkDPcV0i63CF+fINcBrMTWmob04LelU2vJnXBcn8azcG3c7Izi1qdNrniNZSyQHPvtxXKSytK5dzkmmklupppwBVxjYzlLsbPh7VBYX212xHJwfY16XZXMMyBxOpzXivzM2RxXd+GGI2RTqVJA2nPBq3EzjUumegRtF184Z+tWA4bB35qhFYRuuGyfbNXorFEUbBg/Wlyic00K4yuMVQnAwQavyQzoeF3L7VQuCQTmNgfpVJWOeUTMmVc4Brz7xpoTxTf2pAhaOTiYAfcboD9D/AJ616HLgnv8AlUMsEVzC8EyB45F2srDgimnZ3OSrT5ttzxGitbxBocuhagYGJeFxuikI6j0PuKya6E7nGFFFFABRRRQAUUUUAFFFFABRRRQAUUUUAFFFFABRRRQAUUUUAFFFFABRRRQAUUUUAFel/Dy9uX0S6trcI728wfYcjKsPX6rXmldT8Pp7mLxTElu4AljdZFPRlAz/ADAqKkeaNmOMuWSl2PWbS8S45wUlXho2+8takbggEVz+oWDTKJFJjlHR04IrQ0u4d7VVkOZVGGJrlS5Wey4pq6NhGzyKl3HrmqauRipFYkYreMyfZ3JtwPGa5vxFp4vbKWIgYZSB9e1dA/yLzWfdt5iHvxinKSaJhBqRi+Fbtp9KRZSfNjzG4PXIPNbkigg+lctpTix8Q3NseFnAlUe/Q11aOGOAetcUpq56Lpt6mdMuPaqUoJBwM1vSWWULMBntWZdoyJxjNL2qRCp2Z534nQCdc4zXLNKVciul8Rvm6wTk4rlWcGYiuil7yMsVLk5UmWN5IojikurhIYwSznAApnPFd/4R8NtBGL65TEr/AHFI+6P8atLUxbctBLDwogtApXLkcse9X9OtPL3Wk8YLJ047etdjawCNeR1qHUdIaeH7Rb8XEfI9x6Vryo0vfRlKC3aBQAZlX3ORWnCZ1GYmZ+OQaytO15d7RGJi8Z2yIRyp+ldBa6lZzEBHEbd1bjFZyUUUlJboaLtwAssbIT69KZIyuDgirkq5T5eQaz5rbIJD7T6is79hSimUbhTk44qoeGxx9KvmN15dt/4VBLGhB4q1qjknGzMHxNpcer6PJDgecgLwk9mH+PSvHmUqxUjBHBBr2ydtvTtXkWuQ+Rrd5GFCjzSQB0weR/Orpy1scdeHK0+5n0UUVqYBRRRQAUUUUAFFFFABRRRQAUUUUAFFFFABRRRQAUUUUAFFFFABRRRQAUUUUAFeh/DXQmnF1q54eP8AcwZB+8Rlj+XH4n2rz5EeV1SNWZ2OAqjJJ9BXuXhXTX8PaDBZzuGkJMkmDkKzdh9AB+OamW1ioR5pqJdOoAfu7mMxv06cGlgkjE25WGG60+5vbYod+M1z95qVrFkq+0j0rllHse7Ts42sdkVHBByDUyAAc1z+garDfafvhcnY2xgexrcglVm+YmsnOxrCn0HTkFSDn2FUJjsjI/Sty5ih8oOpOSOSTWDcEDO3n61lKqzSNNHMagBFqttc9w+1iPQ10tvMpUMpHqK5DxRM0Fozg/MGGD+NS6Rr0E0C7pNrdCPSs2m1c6Va1jupL5CgbYvA7nrXNa7q0UELtkA+lQXetW8UJJcdPWuA1fVWvrhvm+QdKuEOYzmorVlPULprmWSVj1NYDE+YSOua0p5BsIpND0mTWdUS2TIXOXb+6tejRVkeLj5c80kdP4F8OtqUg1C6TMCH92pHDEd/oK9RSARqABSabYxWFnFbwoFSNAqgelaqQeYnA5rRR6mtOPJFJiRwB4gBwxoimKPtIOehFWLcBME1X1BDFMJkHyn71XbqaKV3Yi1PQobrOo6cqC9C/Op4EgHY1QtXstSUwzwCO4T5XQjDKa0RPJEoljOQOopLqztNZjFwjeTeKMCZOo9iO4rKT1LinbVmdLZ6hY/NYyu0f/PNxuFJBq0M7iK5Btrj+7IMKT7Go49YvtHuBa6tD8pPyXEZ+V/8K15mtdQi/eorqRlWOMiueSje+xpJyS95XXcqsyfwkH3FVpwMdKcwaxbbJuaEn5ZQOn1qO4YMm5GDL6ilz2OeUL7GNfBVOQOteQ61cC51i6lBBBcgEdwOP6V6lrV0tvYzzEn92havH2YuxY9Scmrw/vNyPOxb95R7CUUUV1HKFFFFABRRRQAUUUUAFFFFABRRRQAUUUUAFFFFABRRRQAUUUUAFFFFABRRRQB0fgS3jufGNikhIKlnTj+JVJHfjpn8K9Xu9L1l932cwOvbLEV4z4c1EaT4hsr1mZUilG8qBnYeG/Qmvoi0uA8SnIKkZB9ahxTlqdOFlyzehwNzoPiWTOYIAPaQ/wCFYtx4V11s+aiD1w1ezLICAAKr3MYKEdSfSj2MWemsRJdEeWeHLa/0TUylyo+zTDa2DnB7H+ld7FJgjHP41kavB97H50mk6iJ4wjsPNQ7W/wAa5q9K2x0UZ8z1Og893Xaf51XmXYpLYH41BLepE4UEZPSn6qkENhFcCYOWHILdK4+Rs6ZzjE8+8Z3yEC3QkkncTXIxykdCQa1fEs4ubwFTwBisFSVPWuunC0bHJVqyU0WjM7fecn6moieaTJ6mjIq0rEObe5DOCR8vWvUPA2g/2dpqzSJiedgzZHIHYVx3hjSjqesxCRMwxne/v6CvYbWHZEFA6VpF9Dn5Fz8zLki7VXA4xV2x+5knFU3JMYx2qxEWSLcOh5966I6FN6FicLHJuB4Pao5SsyFM8HtTJH8yMjP41WSQqeTTegQ1RDGzW0pif7vb3qvdRyWjm7tMkA5eP1HqKvToJUBOAR0NQIxXKk9axmjRS7D0uLTV7PbIFkjccg9Qf6Gso29xosoUP51ix/i6xn60y5RtLuPtcQxA5/eqBnb71p/aFmgy4V42H4GuWppuVzdh7SDyVIG5WHX1rEu4QhL27mM9So6VNJBJCc2c7BM58lzlfw9Kz7qZip8xSj+3INcspdAbSVzkfGl48WliIkB5m2kjuO9ee103jO68zUY4AT+7XLDPGT/+quZr0MNHlpo8SrLmm5BRRRW5mFFFFABRRRQAUUUUAFFFFABRRRQAUUUUAFFFFABRRRQAUUUUAFFFFABRRRQAV9C6NeLdaVZ3KKQksKMFPUZAr56r23wIceENOx/df/0NqiXQ0ou1RHaRMNuO9Skbl2qPmPeqkbY5zVuNiFOMc96tM9G1zI1SzGwgAZrgdRguNPuftMAbI647ivUJ4JJgTjIrFvNK3ISwzUSRtTlynmUms3NxdBhI2f7p7VLda9cSwiFicgVrat4XWRzJENjeorFbRLteGuGx9Oa53G3Q7FUjLVmFclpW5zuNLHpzuASMZrfi0VYTuYFm9TUssHlRliAOKFcxqNSdzlrm0MUgRSST2qe20yRzkqTWzpWmtfStcMvGcLXYWmipGiFkHJ6U1dmTSg9R3hjSV0+3XgB2GWNdXGNrYHPpVWKILIB0G2rH3WB5rWJk3zEhOyTb2NTK4KlCPpULjfhh2qRfnUYxkVvcV9ARiuQelMkAB3CgsQOO1NEnmIaiUrDTF80FcVTctG+GPB6GnMDG4J6GpTGs0WDWTZastSM7XiKOMqRg1jln0tvIYg2jn925/wCWZ9PpWi5eElG7dD61VlkjniMUgBU9QaxqalXTI5J2XkHisy8nZxkOPxp7FrRvKkYvE33H7j2NZeqzC2tZpT0RS3HeuO2tjKrPli2ebaxMbjV7mQtuy5APsKo06R/MkZ8Y3EnFNr14qySPHWwUUUUxhRRRQAUUUUAFFFFABRRRQAUUUUAFFFFABRRRQAUUUUAFFFFABRRRQAUUUUAFeyfD24MvhWBSoHlO8Yx3wc5/8erxuvVPhneB9GuLclMwz5AB5ww6kfhUT2Kh8aPQoFZnyeB6VpQoMgt+VZsDnPFXUkPCjqacWeqkaAAfCjoO9Q3FuGBAXip4OF5FOnkRVyeKtrTUOpzt7ZAA5HasNtKMzFsYXtXYfZHum+YYTr7mlmtERMBeKzavsaXsjgbmwZMjGKxdShZtsKjLPwK7y+tsk4FYUGnma+edh8qEKvuayloVF9WWtE0hYoI0C8Y61sXVuqTxKOgGeK07K2Cbfl6Cqtx8963oo4q0rIxlK7K03y7G9GxVgLuyO9MkQPHIB1AyPrSwvuRTnkVS0IHxnBxSP8j5zxSMhBLKc55x6UK4dNrDn0quYW4hbByKruGDblGB3qWQbRxUKyZyMc1nKXRlK48uJY+vIpsTENsY8/zqI5Q7l79RUy7ZFDDOaybKvoE0YlWsi5jKEnuK2CWIIA5A6Cs25YMpDDms27iu+hlzyh4yr9q5HxbOY9JKA/fYLz6V0twdrHPSuG8Y3O54IPTLHmsqavVSOfFT9y3c5WiiivTOEKKKKACiiigAooooAKKKKACiiigAooooAKKKKACiiigAooooAKKKKACiiigAooooAK7v4Y3CrqV9bFTmSFXB7Da3/wBlXCV1fw9nMPihUCgiaF1J9MfN/wCy1M/hYXs7nskD88Vo2vyne3LH9KzIDz0q6r9BUxPVjqjU8/5eOadGm9gz8kdvSqkZ4B7VbjfauRWlzVaFsOqrkdarStuBpVkyeelRTt8hxim2TbUy7tNzbEPLfpUT20dvFEmMfOKuQR7nZz1NV78gzRLn+MVizTyNVDtgLZ7VlkFrpmY8HitCRgltgHrWegzkk+9U3oZPqN3bWOfWoFJguSp6Hlancfvfwpk0ZlTjG4dDU3JQ8tglj070xgC29ajjmLLgjkdRQWMJ3feQ/pUcw+XqPMnIViOelRsmSWA57091Ei5GPqKZG2TtY/OvT3qXJAhqYPyucA9DSbXgm9VNThVYlQBnrtpXt98bKMZA4z3rKUgZAzEDcDz61RuwGUt0NXAAsJU9c/lVG4PynNZyYIwL5+cGvMtduWudWmYnhTtHPavQNbuBBDLITwqk9e9eXyNvkZ8Y3EnrmtMJG8nI4MTK8+XsNooorvMAooooAKKKKACiiigAooooAKKKKACiiigAooooAKKKKACiiigAooooAKKKKACiiigArU8O3SWfiGwnlJCJMu4g44PH9ay6KGrgz6KgOOOuKuRnLVl6fcpc2kM0RJSRFdcjHBGRV9TkjFc0WelQfNFMvq/QU/zHbgcCqobg461JFIcHoa2izqSLSO2O4pruX+UdTwKar5PPWlQ75s9AtU5dAsWPL8uPj0rIm+e+iUn+KtpzkcnjFZRQHUlx/CpJ/Gpa0Etye8kZYijcMBn61V3fKMelS6iQ0Rx1UcVXRgVU+oqG7Mm2gsj4ZWH0NShwOnHeognFKVyg9R0rOUuxNhskO/504eoBIVyGUkfxD0qZZHXJx35FSqiXKloz868EelYudjZQ0KbLLbgSxDfAeo9PpVmJIL20M9vMrNGfnToyGliVrRtwUtE33k9PpUV3pxl26hpcu11GCMf+OsO4qHIfKgYOD8+Q47jtVqJPNUGMhmIOVzWdZ6vFdSfY9RjMF2BhW7OPTP8AI1b+zS28scivx1yKzcricSK7by2O3BBHJHesi5k2xk9q17iQTDnAbvgYzWFqBIQgVnOehFrHB+LrvbaGMZzI2PwriK3/ABXP5moiLd/qxgjFYFenhY2przPHnLmm2FFFFdBIUUUUAFFFFABRRRQAUUUUAFFFFABRRRQAUUUUAFFFFABRRRQAUUUUAFFFFABRRRQAUUUUAeufDy/N14dWFuttIYx06dR/M12anBrxzwBqsen628EshRLpBGvPG/Py5/UfjXryPxzXLL3ZnZhJ7xLOSelWogoXPeqSNU8THjNWmekloTltvIqWI4XP51DmlEm1eO5xVA1csmTKnnFUosveTP2AC1JIx2ZHWo4Adzse5obC2gXXMZzzVa35gT1HFXJQCp4qrAuMgd+aynLUSWhIMhT/ACpykntxRtKnNAOD0rKTGoiFNrbh0pHgDSLIh8t+zDgVcgVZeCMetS+T5ThJAfLb7rdcVhKQ2miqlxI2UngDnHLJwfrj0oW3WTdc6dLyP9agOGH4d6vCz/dLcxOplhfDr1AHofaqDIq3Sy2xMcvQYHf0+hrNtrUqMr6FHUtOi1K2csmyVPvYOCPcVRsNVurIrYX5M0aH5JT1x71ufaku38wqscv3XA9azry0TOehBypqHK6G9Bt2UKF43Ug85Brnr+T92zscADmtZo1UfK2091rmPE94tppc7fd3DZn3NRFc0kjCvLkg5HmeqT/aNRmk4+8RnHWqdB5NFe/FcqSPDSsgooopjCiiigAooooAKKKKACiiigAooooAKKKKACiiigAooooAKKKKACiiigAooooAKKKKACiiigB8UjQzJIjFWRgykHBBHvXvOl38eo6fBeQn93MgYDPT1H4HIrwOvQvhzriRJPpMzAEkywZJyTxuUDp0GfzrGvH3eZdC6UuWaZ6UCAMd6ljcngDFU1cuB2q3E3ygGsYyuj3YbFkE4+tOwQR6CmDp1pQxPWtUwaY6QgoSOoohB24796MAgAdzUiDninclA6/J15qpGNrZq46nByetU9u10HbGKwnuWtiyecUqx7+AOaag8zG3t1q1GEDKysDzjHrXLKWo4k9lGhDB8bweDnBWnwNGYZYJgxVGwHH6U6QRiWK5RhscgfKc5PrTLhdn2logREJAD65wKlO5MmRswSQTIMAYEoA6++Kr3gCHzYnOUbKnHUdatW2Zpo0kLFplKls9wOKrRA/ZLiF2G5G3Djt0/Ss2IqX0SpJ9pjUHf8xA6EH/AOvVJpN/7t23LjIf1FXjKHgMYOdnzR5PbuKz2RQcrgZ+ZR79xWbXUq99CvLGANrc4796838f3gLx2ikkA7j7GvRLqZFiYjnA79q8W8Q3Zu9YmfPAOK6cFBSqX7HBj5vlUO5lUUUV7B5oUUUUAFFFFABRRRQAUUUUAFFFFABRRRQAUUUUAFFFFABRRRQAUUUUAFFFFABRRRQAUUUUAFFFFABVvS72TTtTt7uJtrROGz7dx9MZqpRQ1cD6DtnjuoUmgkDxOAyMO4PQ1aTg4Ncr8O9RN/4dWKRsyWjeSeP4cZX9Mj8K65k5z2rz2+VuJ7ODqc0EmTAZApdpApqZAH0qbIzg9fSmpnbbQYGAA65qaPNRFcnNTxRs2doJHtVOehnYJATjg1Ay7Qrehq26FMetRyg7MMvPr6VnzEiKCm1o2wc8/SiWV8goTkjk0kandtXGD0z60pZSwVct16VlJK5KdgILRccM2MEcc9qPtIngmIBU7icMc89Oac0iBCApORnHYGq2xyNnCnaDkDqaiwXLiMGt3CyFHjKtGc88cEVFNPvlZky0nYDo3qPxGDVfaBjc3XKn2PakZ2c5J2yevQbh0P8ASokK41iCXKkKvVR6ZHH4dqgcLsyR83J5P5U53JKgcKy+n6fnmoskKepHT6Vm0UjntcuikT7htwp4FeM3DmS4kc4+ZieK9Z8TTOLadQRwnHqK8jYlmJPJPJr0MAlZs8nGO9X5CUUUV6BzBRRRQAUUUUAFFFFABRRRQAUUUUAFFFFABRRRQAUUUUAFFFFABRRRQAUUUUAFFFFABRRRQAUUUUAFFFFAHZfDjVZLPxCLIsPJu1IwTjDgEqR79R+NezAho8gZ4r5stbiS0uoriI4kicOv1BzX0PpmoQ3tjFcqcJNGsi546jNcOKjZqSOzBVOWTiy2mDIoPQdaljGWyfXrTI8FuCORUkI27jnovFcfN0PaUtCaJV3ZI6+tWljJl/dnjbkgVHYBWlCsQPrV8SW8UoMhGO5HUCnzWRi5akYQ7GZgOeoIqNoB5e5zgj5etSyXIkTEWdx+6W7Co9hYNLJ83cn1pc9yWyhIu5SFU1EhHmqCAoHXB61ZuSqZBP4CqUMpMuBgnPerRFy+8R2lRtPQc/zqKBVZy+WIUkceuKUsCd7NwM8nnH4U5N0eFX7pX5s+uKzbKWxBInC8KB04Pf0qmwcbwBxzgEdKuTuMMFJYEciqcsgjJLSYAGQxPFTZk81iBztRRn5id3X1/pUUz5wVKnI454OKx9S1u3tC3lPvBBUqe3P+Nc5L4rdAwyn54xVezbWhEqsY6sn8UzpDaTMcFipyM9K8srd1/Xn1NwikFB1IHX6e1YVelhaTpw16nlVantJuQUUUV0kBRRRQAUUUUAFFFFABRRRQAUUUUAFFFFABRRRQAUUUUAFFFFABRRRQAUUUUAFFFFABRRRQAUUUUAFFFFABXpnw41uF7R9HkAWaMtJFk/fB6j2xjP415nUtvcTWlwk9vI0cqHcrqcEGoqQU42Gm07o+gshDnJFSKX6g/rXmek/EV0gVNTj3yIMeYq8t/wDXrdsviBYXJ2hHBXkhmC/zNebKjJXuj06eMhy6ux3Vl5hnG5zgdqvOwZlAUD2PeuFi8b2SNliFHr5iH+tLdfEnTYHJLB3jHAU5yT9OtZqm3shSxUL7nognSNF3AqSQScZH0qObUo1OQ5CZKgbeteVXHxPgk5iZ0OMDKE4rJm8bRSEn7XKcZwNhGa1jhpkvExPTNT1RAWKsuG71Ss9YhTd5hBOe9ebTeK4DaGRZmeXbkRFDnJ9+nFVYvGSo3zWblfQSgf8AstbKg+xk8TE9Yl8SwA8qxx+tC+LLEAeaJQ3UEDJA7DFeLT+KNQllcqyIhbIXbnA+veqs+uXs6Bd6pwQSi4J/Gj6q2H1pW2PYb7xvZQZZBh+27gVyGr+N0lkZCW6nCpztBrz55HkYs7sxPUsc02tYYWMXdsyliJvbQ1rnXZp2+4NuQQCTyPfFZ09xJcMC+3CjACqAB+VRUVuopbGDbbuwoooqgCiiigAooooAKKKKACiiigAooooAKKKKACiiigAooooA/9k=)"
      ],
      "metadata": {
        "id": "TPGnk8V7fgAA"
      }
    },
    {
      "cell_type": "code",
      "execution_count": null,
      "metadata": {
        "colab": {
          "base_uri": "https://localhost:8080/"
        },
        "id": "_wHJTHOKAPFU",
        "outputId": "2b2abd5a-2793-448b-d5a1-07abb5eeef64"
      },
      "outputs": [
        {
          "output_type": "stream",
          "name": "stdout",
          "text": [
            "(2012, 7, 7, 512)\n",
            "(503, 7, 7, 512)\n"
          ]
        }
      ],
      "source": [
        "print(bottleneck_features_train_VGG16.shape) \n",
        "print(bottleneck_features_test_VGG16.shape)"
      ]
    },
    {
      "cell_type": "code",
      "execution_count": null,
      "metadata": {
        "colab": {
          "base_uri": "https://localhost:8080/"
        },
        "id": "zpfzT8opAUAG",
        "outputId": "039cc23d-c637-44c3-fae9-fec4c49f353b"
      },
      "outputs": [
        {
          "output_type": "stream",
          "name": "stdout",
          "text": [
            "Model: \"sequential\"\n",
            "_________________________________________________________________\n",
            " Layer (type)                Output Shape              Param #   \n",
            "=================================================================\n",
            " flatten (Flatten)           (None, 25088)             0         \n",
            "                                                                 \n",
            " dense (Dense)               (None, 250)               6272250   \n",
            "                                                                 \n",
            " dropout (Dropout)           (None, 250)               0         \n",
            "                                                                 \n",
            " dense_1 (Dense)             (None, 36)                9036      \n",
            "                                                                 \n",
            "=================================================================\n",
            "Total params: 6,281,286\n",
            "Trainable params: 6,281,286\n",
            "Non-trainable params: 0\n",
            "_________________________________________________________________\n"
          ]
        }
      ],
      "source": [
        "from keras.layers import Conv2D, MaxPooling2D, GlobalAveragePooling2D ## training part the pics are ready\n",
        "from keras.layers import Dropout, Flatten, Dense\n",
        "from keras.models import Sequential\n",
        "\n",
        "Model = Sequential() ## name of the model\n",
        "Model.add(Flatten(input_shape=bottleneck_features_train_VGG16.shape[1:])) ## you seperate them all the 512 \n",
        "Model.add(Dense(250, activation='relu',kernel_initializer='glorot_normal')) ## try to change the dense, 500 hidden units\n",
        "##Model1.add(Dense(250, activation='relu',kernel_initializer='glorot_normal')) \n",
        "##Model1.add(Dense(100, activation='relu',kernel_initializer='glorot_normal')) \n",
        "##Model1.add(Dense(50, activation='relu',kernel_initializer='glorot_normal')) \n",
        "Model.add(Dropout(0.5))\n",
        "Model.add(Dense(36, activation='softmax',kernel_initializer='glorot_normal')) ## 36 classification output \n",
        "Model.summary()                   "
      ]
    },
    {
      "cell_type": "markdown",
      "source": [
        "# Training the model with the best parameters\n"
      ],
      "metadata": {
        "id": "YKYjx4vXZNAs"
      }
    },
    {
      "cell_type": "code",
      "execution_count": null,
      "metadata": {
        "id": "f4DmG6vSAdPv"
      },
      "outputs": [],
      "source": [
        "Model.compile(loss='categorical_crossentropy', optimizer='rmsprop', metrics=['accuracy']) \n",
        "##Model.compile(loss='categorical_crossentropy', optimizer='SGD', metrics=['accuracy'])\n",
        "##Model.compile(loss='categorical_crossentropy', optimizer='Adam', metrics=['accuracy'])\n",
        "##Model.compile(loss='categorical_crossentropy', optimizer='Adadelta', metrics=['accuracy'])\n",
        "##Model.compile(loss='categorical_crossentropy', optimizer='Adam', metrics=['accuracy'])\n",
        "from keras.callbacks import ModelCheckpoint"
      ]
    },
    {
      "cell_type": "code",
      "execution_count": null,
      "metadata": {
        "colab": {
          "base_uri": "https://localhost:8080/"
        },
        "id": "S4Ff3-qUAk2K",
        "outputId": "adff003b-f66b-470a-ff82-e47e6cdbf517"
      },
      "outputs": [
        {
          "output_type": "stream",
          "name": "stdout",
          "text": [
            "Epoch 1/100\n",
            "113/114 [============================>.] - ETA: 0s - loss: 3.2559 - accuracy: 0.2378\n",
            "Epoch 1: val_accuracy improved from -inf to 0.50000, saving model to /content/sample_data/weights.best.VGG16.hdf5_transfer_learning\n"
          ]
        },
        {
          "output_type": "stream",
          "name": "stderr",
          "text": [
            "WARNING:absl:Found untraced functions such as _update_step_xla while saving (showing 1 of 1). These functions will not be directly callable after loading.\n"
          ]
        },
        {
          "output_type": "stream",
          "name": "stdout",
          "text": [
            "\b\b\b\b\b\b\b\b\b\b\b\b\b\b\b\b\b\b\b\b\b\b\b\b\b\b\b\b\b\b\b\b\b\b\b\b\b\b\b\b\b\b\b\b\b\b\b\b\b\b\b\b\b\b\b\b\b\b\b\b\b\b\b\b\b\b\b\b\b\b\b\b\b\b\b\b\b\b\b\b\b\b\b\b\r114/114 [==============================] - 7s 52ms/step - loss: 3.2537 - accuracy: 0.2387 - val_loss: 1.5675 - val_accuracy: 0.5000\n",
            "Epoch 2/100\n",
            "113/114 [============================>.] - ETA: 0s - loss: 1.5274 - accuracy: 0.5315\n",
            "Epoch 2: val_accuracy improved from 0.50000 to 0.74257, saving model to /content/sample_data/weights.best.VGG16.hdf5_transfer_learning\n"
          ]
        },
        {
          "output_type": "stream",
          "name": "stderr",
          "text": [
            "WARNING:absl:Found untraced functions such as _update_step_xla while saving (showing 1 of 1). These functions will not be directly callable after loading.\n"
          ]
        },
        {
          "output_type": "stream",
          "name": "stdout",
          "text": [
            "\b\b\b\b\b\b\b\b\b\b\b\b\b\b\b\b\b\b\b\b\b\b\b\b\b\b\b\b\b\b\b\b\b\b\b\b\b\b\b\b\b\b\b\b\b\b\b\b\b\b\b\b\b\b\b\b\b\b\b\b\b\b\b\b\b\b\b\b\b\b\b\b\b\b\b\b\b\b\b\b\b\b\b\b\r114/114 [==============================] - 7s 61ms/step - loss: 1.5262 - accuracy: 0.5320 - val_loss: 0.9112 - val_accuracy: 0.7426\n",
            "Epoch 3/100\n",
            "114/114 [==============================] - ETA: 0s - loss: 1.0517 - accuracy: 0.6674\n",
            "Epoch 3: val_accuracy improved from 0.74257 to 0.83168, saving model to /content/sample_data/weights.best.VGG16.hdf5_transfer_learning\n"
          ]
        },
        {
          "output_type": "stream",
          "name": "stderr",
          "text": [
            "WARNING:absl:Found untraced functions such as _update_step_xla while saving (showing 1 of 1). These functions will not be directly callable after loading.\n"
          ]
        },
        {
          "output_type": "stream",
          "name": "stdout",
          "text": [
            "\b\b\b\b\b\b\b\b\b\b\b\b\b\b\b\b\b\b\b\b\b\b\b\b\b\b\b\b\b\b\b\b\b\b\b\b\b\b\b\b\b\b\b\b\b\b\b\b\b\b\b\b\b\b\b\b\b\b\b\b\b\b\b\b\b\b\b\b\b\b\b\b\b\b\b\b\b\b\b\b\b\b\b\b\r114/114 [==============================] - 6s 49ms/step - loss: 1.0517 - accuracy: 0.6674 - val_loss: 0.4413 - val_accuracy: 0.8317\n",
            "Epoch 4/100\n",
            "114/114 [==============================] - ETA: 0s - loss: 0.8269 - accuracy: 0.7331\n",
            "Epoch 4: val_accuracy improved from 0.83168 to 0.87129, saving model to /content/sample_data/weights.best.VGG16.hdf5_transfer_learning\n"
          ]
        },
        {
          "output_type": "stream",
          "name": "stderr",
          "text": [
            "WARNING:absl:Found untraced functions such as _update_step_xla while saving (showing 1 of 1). These functions will not be directly callable after loading.\n"
          ]
        },
        {
          "output_type": "stream",
          "name": "stdout",
          "text": [
            "\b\b\b\b\b\b\b\b\b\b\b\b\b\b\b\b\b\b\b\b\b\b\b\b\b\b\b\b\b\b\b\b\b\b\b\b\b\b\b\b\b\b\b\b\b\b\b\b\b\b\b\b\b\b\b\b\b\b\b\b\b\b\b\b\b\b\b\b\b\b\b\b\b\b\b\b\b\b\b\b\b\b\b\b\r114/114 [==============================] - 6s 56ms/step - loss: 0.8269 - accuracy: 0.7331 - val_loss: 0.3074 - val_accuracy: 0.8713\n",
            "Epoch 5/100\n",
            "114/114 [==============================] - ETA: 0s - loss: 0.6707 - accuracy: 0.7691\n",
            "Epoch 5: val_accuracy improved from 0.87129 to 0.93069, saving model to /content/sample_data/weights.best.VGG16.hdf5_transfer_learning\n"
          ]
        },
        {
          "output_type": "stream",
          "name": "stderr",
          "text": [
            "WARNING:absl:Found untraced functions such as _update_step_xla while saving (showing 1 of 1). These functions will not be directly callable after loading.\n"
          ]
        },
        {
          "output_type": "stream",
          "name": "stdout",
          "text": [
            "\b\b\b\b\b\b\b\b\b\b\b\b\b\b\b\b\b\b\b\b\b\b\b\b\b\b\b\b\b\b\b\b\b\b\b\b\b\b\b\b\b\b\b\b\b\b\b\b\b\b\b\b\b\b\b\b\b\b\b\b\b\b\b\b\b\b\b\b\b\b\b\b\b\b\b\b\b\b\b\b\b\b\b\b\r114/114 [==============================] - 5s 47ms/step - loss: 0.6707 - accuracy: 0.7691 - val_loss: 0.2090 - val_accuracy: 0.9307\n",
            "Epoch 6/100\n",
            "113/114 [============================>.] - ETA: 0s - loss: 0.5443 - accuracy: 0.7987\n",
            "Epoch 6: val_accuracy did not improve from 0.93069\n",
            "114/114 [==============================] - 5s 45ms/step - loss: 0.5444 - accuracy: 0.7983 - val_loss: 0.3562 - val_accuracy: 0.8861\n",
            "Epoch 7/100\n",
            "114/114 [==============================] - ETA: 0s - loss: 0.4659 - accuracy: 0.8442\n",
            "Epoch 7: val_accuracy improved from 0.93069 to 0.93564, saving model to /content/sample_data/weights.best.VGG16.hdf5_transfer_learning\n"
          ]
        },
        {
          "output_type": "stream",
          "name": "stderr",
          "text": [
            "WARNING:absl:Found untraced functions such as _update_step_xla while saving (showing 1 of 1). These functions will not be directly callable after loading.\n"
          ]
        },
        {
          "output_type": "stream",
          "name": "stdout",
          "text": [
            "\b\b\b\b\b\b\b\b\b\b\b\b\b\b\b\b\b\b\b\b\b\b\b\b\b\b\b\b\b\b\b\b\b\b\b\b\b\b\b\b\b\b\b\b\b\b\b\b\b\b\b\b\b\b\b\b\b\b\b\b\b\b\b\b\b\b\b\b\b\b\b\b\b\b\b\b\b\b\b\b\b\b\b\b\r114/114 [==============================] - 6s 53ms/step - loss: 0.4659 - accuracy: 0.8442 - val_loss: 0.1407 - val_accuracy: 0.9356\n",
            "Epoch 8/100\n",
            "113/114 [============================>.] - ETA: 0s - loss: 0.4337 - accuracy: 0.8440\n",
            "Epoch 8: val_accuracy improved from 0.93564 to 0.97525, saving model to /content/sample_data/weights.best.VGG16.hdf5_transfer_learning\n"
          ]
        },
        {
          "output_type": "stream",
          "name": "stderr",
          "text": [
            "WARNING:absl:Found untraced functions such as _update_step_xla while saving (showing 1 of 1). These functions will not be directly callable after loading.\n"
          ]
        },
        {
          "output_type": "stream",
          "name": "stdout",
          "text": [
            "\b\b\b\b\b\b\b\b\b\b\b\b\b\b\b\b\b\b\b\b\b\b\b\b\b\b\b\b\b\b\b\b\b\b\b\b\b\b\b\b\b\b\b\b\b\b\b\b\b\b\b\b\b\b\b\b\b\b\b\b\b\b\b\b\b\b\b\b\b\b\b\b\b\b\b\b\b\b\b\b\b\b\b\b\r114/114 [==============================] - 5s 46ms/step - loss: 0.4344 - accuracy: 0.8436 - val_loss: 0.1053 - val_accuracy: 0.9752\n",
            "Epoch 9/100\n",
            "113/114 [============================>.] - ETA: 0s - loss: 0.3961 - accuracy: 0.8590\n",
            "Epoch 9: val_accuracy did not improve from 0.97525\n",
            "114/114 [==============================] - 6s 50ms/step - loss: 0.3957 - accuracy: 0.8591 - val_loss: 0.0820 - val_accuracy: 0.9653\n",
            "Epoch 10/100\n",
            "113/114 [============================>.] - ETA: 0s - loss: 0.3699 - accuracy: 0.8662\n",
            "Epoch 10: val_accuracy did not improve from 0.97525\n",
            "114/114 [==============================] - 5s 41ms/step - loss: 0.3695 - accuracy: 0.8663 - val_loss: 0.0813 - val_accuracy: 0.9653\n",
            "Epoch 11/100\n",
            "114/114 [==============================] - ETA: 0s - loss: 0.3751 - accuracy: 0.8790\n",
            "Epoch 11: val_accuracy did not improve from 0.97525\n",
            "114/114 [==============================] - 5s 45ms/step - loss: 0.3751 - accuracy: 0.8790 - val_loss: 0.1517 - val_accuracy: 0.9307\n",
            "Epoch 12/100\n",
            "114/114 [==============================] - ETA: 0s - loss: 0.3261 - accuracy: 0.8751\n",
            "Epoch 12: val_accuracy did not improve from 0.97525\n",
            "114/114 [==============================] - 5s 47ms/step - loss: 0.3261 - accuracy: 0.8751 - val_loss: 0.0886 - val_accuracy: 0.9752\n",
            "Epoch 13/100\n",
            "113/114 [============================>.] - ETA: 0s - loss: 0.3128 - accuracy: 0.8955\n",
            "Epoch 13: val_accuracy did not improve from 0.97525\n",
            "114/114 [==============================] - 5s 42ms/step - loss: 0.3125 - accuracy: 0.8956 - val_loss: 0.1114 - val_accuracy: 0.9703\n",
            "Epoch 14/100\n",
            "113/114 [============================>.] - ETA: 0s - loss: 0.2644 - accuracy: 0.9143\n",
            "Epoch 14: val_accuracy did not improve from 0.97525\n",
            "114/114 [==============================] - 6s 50ms/step - loss: 0.2649 - accuracy: 0.9138 - val_loss: 0.1072 - val_accuracy: 0.9455\n",
            "Epoch 15/100\n",
            "114/114 [==============================] - ETA: 0s - loss: 0.2975 - accuracy: 0.9044\n",
            "Epoch 15: val_accuracy did not improve from 0.97525\n",
            "114/114 [==============================] - 5s 41ms/step - loss: 0.2975 - accuracy: 0.9044 - val_loss: 0.1047 - val_accuracy: 0.9554\n",
            "Epoch 16/100\n",
            "114/114 [==============================] - ETA: 0s - loss: 0.2688 - accuracy: 0.8994\n",
            "Epoch 16: val_accuracy did not improve from 0.97525\n",
            "114/114 [==============================] - 5s 44ms/step - loss: 0.2688 - accuracy: 0.8994 - val_loss: 0.1582 - val_accuracy: 0.9406\n",
            "Epoch 17/100\n",
            "113/114 [============================>.] - ETA: 0s - loss: 0.2639 - accuracy: 0.9065\n",
            "Epoch 17: val_accuracy did not improve from 0.97525\n",
            "114/114 [==============================] - 5s 48ms/step - loss: 0.2637 - accuracy: 0.9066 - val_loss: 0.1064 - val_accuracy: 0.9604\n",
            "Epoch 18/100\n",
            "114/114 [==============================] - ETA: 0s - loss: 0.2517 - accuracy: 0.9088\n",
            "Epoch 18: val_accuracy did not improve from 0.97525\n",
            "114/114 [==============================] - 5s 41ms/step - loss: 0.2517 - accuracy: 0.9088 - val_loss: 0.0620 - val_accuracy: 0.9703\n",
            "Epoch 19/100\n",
            "113/114 [============================>.] - ETA: 0s - loss: 0.2224 - accuracy: 0.9198\n",
            "Epoch 19: val_accuracy did not improve from 0.97525\n",
            "114/114 [==============================] - 6s 50ms/step - loss: 0.2228 - accuracy: 0.9193 - val_loss: 0.1363 - val_accuracy: 0.9653\n",
            "Epoch 20/100\n",
            "113/114 [============================>.] - ETA: 0s - loss: 0.1952 - accuracy: 0.9270\n",
            "Epoch 20: val_accuracy did not improve from 0.97525\n",
            "114/114 [==============================] - 5s 42ms/step - loss: 0.1952 - accuracy: 0.9271 - val_loss: 0.1244 - val_accuracy: 0.9554\n",
            "Epoch 21/100\n",
            "114/114 [==============================] - ETA: 0s - loss: 0.2301 - accuracy: 0.9221\n",
            "Epoch 21: val_accuracy did not improve from 0.97525\n",
            "114/114 [==============================] - 5s 41ms/step - loss: 0.2301 - accuracy: 0.9221 - val_loss: 0.1105 - val_accuracy: 0.9554\n",
            "Epoch 22/100\n",
            "114/114 [==============================] - ETA: 0s - loss: 0.2100 - accuracy: 0.9282\n",
            "Epoch 22: val_accuracy did not improve from 0.97525\n",
            "114/114 [==============================] - 6s 49ms/step - loss: 0.2100 - accuracy: 0.9282 - val_loss: 0.0437 - val_accuracy: 0.9752\n",
            "Epoch 23/100\n",
            "114/114 [==============================] - ETA: 0s - loss: 0.2093 - accuracy: 0.9249\n",
            "Epoch 23: val_accuracy did not improve from 0.97525\n",
            "114/114 [==============================] - 5s 41ms/step - loss: 0.2093 - accuracy: 0.9249 - val_loss: 0.1050 - val_accuracy: 0.9554\n",
            "Epoch 24/100\n",
            "114/114 [==============================] - ETA: 0s - loss: 0.2169 - accuracy: 0.9215\n",
            "Epoch 24: val_accuracy did not improve from 0.97525\n",
            "114/114 [==============================] - 6s 50ms/step - loss: 0.2169 - accuracy: 0.9215 - val_loss: 0.0496 - val_accuracy: 0.9703\n",
            "Epoch 25/100\n",
            "114/114 [==============================] - ETA: 0s - loss: 0.2131 - accuracy: 0.9265\n",
            "Epoch 25: val_accuracy did not improve from 0.97525\n",
            "114/114 [==============================] - 5s 42ms/step - loss: 0.2131 - accuracy: 0.9265 - val_loss: 0.0841 - val_accuracy: 0.9653\n",
            "Epoch 26/100\n",
            "114/114 [==============================] - ETA: 0s - loss: 0.2096 - accuracy: 0.9320\n",
            "Epoch 26: val_accuracy did not improve from 0.97525\n",
            "114/114 [==============================] - 5s 41ms/step - loss: 0.2096 - accuracy: 0.9320 - val_loss: 0.1026 - val_accuracy: 0.9703\n",
            "Epoch 27/100\n",
            "113/114 [============================>.] - ETA: 0s - loss: 0.2189 - accuracy: 0.9320\n",
            "Epoch 27: val_accuracy improved from 0.97525 to 0.99010, saving model to /content/sample_data/weights.best.VGG16.hdf5_transfer_learning\n"
          ]
        },
        {
          "output_type": "stream",
          "name": "stderr",
          "text": [
            "WARNING:absl:Found untraced functions such as _update_step_xla while saving (showing 1 of 1). These functions will not be directly callable after loading.\n"
          ]
        },
        {
          "output_type": "stream",
          "name": "stdout",
          "text": [
            "\b\b\b\b\b\b\b\b\b\b\b\b\b\b\b\b\b\b\b\b\b\b\b\b\b\b\b\b\b\b\b\b\b\b\b\b\b\b\b\b\b\b\b\b\b\b\b\b\b\b\b\b\b\b\b\b\b\b\b\b\b\b\b\b\b\b\b\b\b\b\b\b\b\b\b\b\b\b\b\b\b\b\b\b\r114/114 [==============================] - 6s 54ms/step - loss: 0.2187 - accuracy: 0.9320 - val_loss: 0.0285 - val_accuracy: 0.9901\n",
            "Epoch 28/100\n",
            "114/114 [==============================] - ETA: 0s - loss: 0.1787 - accuracy: 0.9420\n",
            "Epoch 28: val_accuracy did not improve from 0.99010\n",
            "114/114 [==============================] - 5s 40ms/step - loss: 0.1787 - accuracy: 0.9420 - val_loss: 0.0522 - val_accuracy: 0.9851\n",
            "Epoch 29/100\n",
            "114/114 [==============================] - ETA: 0s - loss: 0.2090 - accuracy: 0.9282\n",
            "Epoch 29: val_accuracy did not improve from 0.99010\n",
            "114/114 [==============================] - 5s 46ms/step - loss: 0.2090 - accuracy: 0.9282 - val_loss: 0.1193 - val_accuracy: 0.9554\n",
            "Epoch 30/100\n",
            "114/114 [==============================] - ETA: 0s - loss: 0.1800 - accuracy: 0.9387\n",
            "Epoch 30: val_accuracy did not improve from 0.99010\n",
            "114/114 [==============================] - 5s 43ms/step - loss: 0.1800 - accuracy: 0.9387 - val_loss: 0.0530 - val_accuracy: 0.9851\n",
            "Epoch 31/100\n",
            "113/114 [============================>.] - ETA: 0s - loss: 0.2009 - accuracy: 0.9358\n",
            "Epoch 31: val_accuracy did not improve from 0.99010\n",
            "114/114 [==============================] - 5s 41ms/step - loss: 0.2007 - accuracy: 0.9359 - val_loss: 0.0997 - val_accuracy: 0.9703\n",
            "Epoch 32/100\n",
            "113/114 [============================>.] - ETA: 0s - loss: 0.1776 - accuracy: 0.9469\n",
            "Epoch 32: val_accuracy did not improve from 0.99010\n",
            "114/114 [==============================] - 6s 50ms/step - loss: 0.1780 - accuracy: 0.9464 - val_loss: 0.0501 - val_accuracy: 0.9802\n",
            "Epoch 33/100\n",
            "114/114 [==============================] - ETA: 0s - loss: 0.1643 - accuracy: 0.9453\n",
            "Epoch 33: val_accuracy did not improve from 0.99010\n",
            "114/114 [==============================] - 5s 41ms/step - loss: 0.1643 - accuracy: 0.9453 - val_loss: 0.0381 - val_accuracy: 0.9802\n",
            "Epoch 34/100\n",
            "114/114 [==============================] - ETA: 0s - loss: 0.1773 - accuracy: 0.9354\n",
            "Epoch 34: val_accuracy did not improve from 0.99010\n",
            "114/114 [==============================] - 5s 41ms/step - loss: 0.1773 - accuracy: 0.9354 - val_loss: 0.0563 - val_accuracy: 0.9703\n",
            "Epoch 35/100\n",
            "113/114 [============================>.] - ETA: 0s - loss: 0.1484 - accuracy: 0.9535\n",
            "Epoch 35: val_accuracy did not improve from 0.99010\n",
            "114/114 [==============================] - 6s 48ms/step - loss: 0.1482 - accuracy: 0.9536 - val_loss: 0.1020 - val_accuracy: 0.9752\n",
            "Epoch 36/100\n",
            "113/114 [============================>.] - ETA: 0s - loss: 0.1470 - accuracy: 0.9486\n",
            "Epoch 36: val_accuracy did not improve from 0.99010\n",
            "114/114 [==============================] - 5s 41ms/step - loss: 0.1468 - accuracy: 0.9486 - val_loss: 0.0907 - val_accuracy: 0.9802\n",
            "Epoch 37/100\n",
            "114/114 [==============================] - ETA: 0s - loss: 0.2003 - accuracy: 0.9398\n",
            "Epoch 37: val_accuracy did not improve from 0.99010\n",
            "114/114 [==============================] - 6s 50ms/step - loss: 0.2003 - accuracy: 0.9398 - val_loss: 0.0517 - val_accuracy: 0.9802\n",
            "Epoch 38/100\n",
            "113/114 [============================>.] - ETA: 0s - loss: 0.1351 - accuracy: 0.9463\n",
            "Epoch 38: val_accuracy did not improve from 0.99010\n",
            "114/114 [==============================] - 5s 40ms/step - loss: 0.1350 - accuracy: 0.9464 - val_loss: 0.0854 - val_accuracy: 0.9604\n",
            "Epoch 39/100\n",
            "113/114 [============================>.] - ETA: 0s - loss: 0.1331 - accuracy: 0.9535\n",
            "Epoch 39: val_accuracy did not improve from 0.99010\n",
            "114/114 [==============================] - 5s 40ms/step - loss: 0.1329 - accuracy: 0.9536 - val_loss: 0.1002 - val_accuracy: 0.9653\n",
            "Epoch 40/100\n",
            "113/114 [============================>.] - ETA: 0s - loss: 0.1777 - accuracy: 0.9447\n",
            "Epoch 40: val_accuracy did not improve from 0.99010\n",
            "114/114 [==============================] - 6s 49ms/step - loss: 0.1775 - accuracy: 0.9448 - val_loss: 0.0640 - val_accuracy: 0.9703\n",
            "Epoch 41/100\n",
            "114/114 [==============================] - ETA: 0s - loss: 0.1372 - accuracy: 0.9552\n",
            "Epoch 41: val_accuracy did not improve from 0.99010\n",
            "114/114 [==============================] - 5s 40ms/step - loss: 0.1372 - accuracy: 0.9552 - val_loss: 0.0882 - val_accuracy: 0.9851\n",
            "Epoch 42/100\n",
            "113/114 [============================>.] - ETA: 0s - loss: 0.1351 - accuracy: 0.9508\n",
            "Epoch 42: val_accuracy did not improve from 0.99010\n",
            "114/114 [==============================] - 5s 45ms/step - loss: 0.1350 - accuracy: 0.9508 - val_loss: 0.0850 - val_accuracy: 0.9703\n",
            "Epoch 43/100\n",
            "114/114 [==============================] - ETA: 0s - loss: 0.1257 - accuracy: 0.9586\n",
            "Epoch 43: val_accuracy did not improve from 0.99010\n",
            "114/114 [==============================] - 5s 45ms/step - loss: 0.1257 - accuracy: 0.9586 - val_loss: 0.0593 - val_accuracy: 0.9802\n",
            "Epoch 44/100\n",
            "114/114 [==============================] - ETA: 0s - loss: 0.1147 - accuracy: 0.9630\n",
            "Epoch 44: val_accuracy did not improve from 0.99010\n",
            "114/114 [==============================] - 5s 40ms/step - loss: 0.1147 - accuracy: 0.9630 - val_loss: 0.0714 - val_accuracy: 0.9802\n",
            "Epoch 45/100\n",
            "114/114 [==============================] - ETA: 0s - loss: 0.1366 - accuracy: 0.9536\n",
            "Epoch 45: val_accuracy did not improve from 0.99010\n",
            "114/114 [==============================] - 6s 49ms/step - loss: 0.1366 - accuracy: 0.9536 - val_loss: 0.0875 - val_accuracy: 0.9752\n",
            "Epoch 46/100\n",
            "113/114 [============================>.] - ETA: 0s - loss: 0.1436 - accuracy: 0.9486\n",
            "Epoch 46: val_accuracy did not improve from 0.99010\n",
            "114/114 [==============================] - 5s 40ms/step - loss: 0.1445 - accuracy: 0.9481 - val_loss: 0.0723 - val_accuracy: 0.9851\n",
            "Epoch 47/100\n",
            "114/114 [==============================] - ETA: 0s - loss: 0.1226 - accuracy: 0.9564\n",
            "Epoch 47: val_accuracy did not improve from 0.99010\n",
            "114/114 [==============================] - 5s 41ms/step - loss: 0.1226 - accuracy: 0.9564 - val_loss: 0.1207 - val_accuracy: 0.9703\n",
            "Epoch 48/100\n",
            "114/114 [==============================] - ETA: 0s - loss: 0.1156 - accuracy: 0.9564\n",
            "Epoch 48: val_accuracy did not improve from 0.99010\n",
            "114/114 [==============================] - 6s 50ms/step - loss: 0.1156 - accuracy: 0.9564 - val_loss: 0.0559 - val_accuracy: 0.9901\n",
            "Epoch 49/100\n",
            "114/114 [==============================] - ETA: 0s - loss: 0.1504 - accuracy: 0.9530\n",
            "Epoch 49: val_accuracy did not improve from 0.99010\n",
            "114/114 [==============================] - 5s 41ms/step - loss: 0.1504 - accuracy: 0.9530 - val_loss: 0.0396 - val_accuracy: 0.9901\n",
            "Epoch 50/100\n",
            "114/114 [==============================] - ETA: 0s - loss: 0.1211 - accuracy: 0.9646\n",
            "Epoch 50: val_accuracy did not improve from 0.99010\n",
            "114/114 [==============================] - 6s 48ms/step - loss: 0.1211 - accuracy: 0.9646 - val_loss: 0.0899 - val_accuracy: 0.9851\n",
            "Epoch 51/100\n",
            "114/114 [==============================] - ETA: 0s - loss: 0.1134 - accuracy: 0.9630\n",
            "Epoch 51: val_accuracy did not improve from 0.99010\n",
            "114/114 [==============================] - 5s 42ms/step - loss: 0.1134 - accuracy: 0.9630 - val_loss: 0.0315 - val_accuracy: 0.9851\n",
            "Epoch 52/100\n",
            "113/114 [============================>.] - ETA: 0s - loss: 0.1205 - accuracy: 0.9613\n",
            "Epoch 52: val_accuracy did not improve from 0.99010\n",
            "114/114 [==============================] - 5s 41ms/step - loss: 0.1203 - accuracy: 0.9613 - val_loss: 0.0232 - val_accuracy: 0.9851\n",
            "Epoch 53/100\n",
            "113/114 [============================>.] - ETA: 0s - loss: 0.1174 - accuracy: 0.9635\n",
            "Epoch 53: val_accuracy improved from 0.99010 to 0.99505, saving model to /content/sample_data/weights.best.VGG16.hdf5_transfer_learning\n"
          ]
        },
        {
          "output_type": "stream",
          "name": "stderr",
          "text": [
            "WARNING:absl:Found untraced functions such as _update_step_xla while saving (showing 1 of 1). These functions will not be directly callable after loading.\n"
          ]
        },
        {
          "output_type": "stream",
          "name": "stdout",
          "text": [
            "\b\b\b\b\b\b\b\b\b\b\b\b\b\b\b\b\b\b\b\b\b\b\b\b\b\b\b\b\b\b\b\b\b\b\b\b\b\b\b\b\b\b\b\b\b\b\b\b\b\b\b\b\b\b\b\b\b\b\b\b\b\b\b\b\b\b\b\b\b\b\b\b\b\b\b\b\b\b\b\b\b\b\b\b\r114/114 [==============================] - 6s 56ms/step - loss: 0.1172 - accuracy: 0.9635 - val_loss: 0.0385 - val_accuracy: 0.9950\n",
            "Epoch 54/100\n",
            "114/114 [==============================] - ETA: 0s - loss: 0.1338 - accuracy: 0.9558\n",
            "Epoch 54: val_accuracy did not improve from 0.99505\n",
            "114/114 [==============================] - 5s 41ms/step - loss: 0.1338 - accuracy: 0.9558 - val_loss: 0.0689 - val_accuracy: 0.9851\n",
            "Epoch 55/100\n",
            "113/114 [============================>.] - ETA: 0s - loss: 0.1532 - accuracy: 0.9569\n",
            "Epoch 55: val_accuracy did not improve from 0.99505\n",
            "114/114 [==============================] - 5s 48ms/step - loss: 0.1531 - accuracy: 0.9569 - val_loss: 0.0447 - val_accuracy: 0.9802\n",
            "Epoch 56/100\n",
            "113/114 [============================>.] - ETA: 0s - loss: 0.1298 - accuracy: 0.9541\n",
            "Epoch 56: val_accuracy did not improve from 0.99505\n",
            "114/114 [==============================] - 5s 42ms/step - loss: 0.1297 - accuracy: 0.9541 - val_loss: 0.1085 - val_accuracy: 0.9653\n",
            "Epoch 57/100\n",
            "113/114 [============================>.] - ETA: 0s - loss: 0.1201 - accuracy: 0.9585\n",
            "Epoch 57: val_accuracy did not improve from 0.99505\n",
            "114/114 [==============================] - 5s 41ms/step - loss: 0.1200 - accuracy: 0.9586 - val_loss: 0.0822 - val_accuracy: 0.9802\n",
            "Epoch 58/100\n",
            "114/114 [==============================] - ETA: 0s - loss: 0.1149 - accuracy: 0.9597\n",
            "Epoch 58: val_accuracy did not improve from 0.99505\n",
            "114/114 [==============================] - 6s 50ms/step - loss: 0.1149 - accuracy: 0.9597 - val_loss: 0.0603 - val_accuracy: 0.9802\n",
            "Epoch 59/100\n",
            "113/114 [============================>.] - ETA: 0s - loss: 0.0959 - accuracy: 0.9657\n",
            "Epoch 59: val_accuracy did not improve from 0.99505\n",
            "114/114 [==============================] - 5s 40ms/step - loss: 0.0958 - accuracy: 0.9657 - val_loss: 0.0400 - val_accuracy: 0.9851\n",
            "Epoch 60/100\n",
            "114/114 [==============================] - ETA: 0s - loss: 0.1015 - accuracy: 0.9702\n",
            "Epoch 60: val_accuracy did not improve from 0.99505\n",
            "114/114 [==============================] - 5s 43ms/step - loss: 0.1015 - accuracy: 0.9702 - val_loss: 0.0963 - val_accuracy: 0.9802\n",
            "Epoch 61/100\n",
            "113/114 [============================>.] - ETA: 0s - loss: 0.0983 - accuracy: 0.9696\n",
            "Epoch 61: val_accuracy did not improve from 0.99505\n",
            "114/114 [==============================] - 5s 46ms/step - loss: 0.0983 - accuracy: 0.9696 - val_loss: 0.0287 - val_accuracy: 0.9851\n",
            "Epoch 62/100\n",
            "114/114 [==============================] - ETA: 0s - loss: 0.1147 - accuracy: 0.9591\n",
            "Epoch 62: val_accuracy did not improve from 0.99505\n",
            "114/114 [==============================] - 5s 40ms/step - loss: 0.1147 - accuracy: 0.9591 - val_loss: 0.0464 - val_accuracy: 0.9851\n",
            "Epoch 63/100\n",
            "114/114 [==============================] - ETA: 0s - loss: 0.1189 - accuracy: 0.9630\n",
            "Epoch 63: val_accuracy did not improve from 0.99505\n",
            "114/114 [==============================] - 5s 48ms/step - loss: 0.1189 - accuracy: 0.9630 - val_loss: 0.0594 - val_accuracy: 0.9901\n",
            "Epoch 64/100\n",
            "113/114 [============================>.] - ETA: 0s - loss: 0.1055 - accuracy: 0.9685\n",
            "Epoch 64: val_accuracy did not improve from 0.99505\n",
            "114/114 [==============================] - 5s 40ms/step - loss: 0.1053 - accuracy: 0.9685 - val_loss: 0.0994 - val_accuracy: 0.9752\n",
            "Epoch 65/100\n",
            "113/114 [============================>.] - ETA: 0s - loss: 0.1193 - accuracy: 0.9618\n",
            "Epoch 65: val_accuracy did not improve from 0.99505\n",
            "114/114 [==============================] - 5s 40ms/step - loss: 0.1192 - accuracy: 0.9619 - val_loss: 0.0309 - val_accuracy: 0.9802\n",
            "Epoch 66/100\n",
            "113/114 [============================>.] - ETA: 0s - loss: 0.0904 - accuracy: 0.9674\n",
            "Epoch 66: val_accuracy did not improve from 0.99505\n",
            "114/114 [==============================] - 6s 49ms/step - loss: 0.0903 - accuracy: 0.9674 - val_loss: 0.0411 - val_accuracy: 0.9802\n",
            "Epoch 67/100\n",
            "114/114 [==============================] - ETA: 0s - loss: 0.0831 - accuracy: 0.9696\n",
            "Epoch 67: val_accuracy did not improve from 0.99505\n",
            "114/114 [==============================] - 5s 41ms/step - loss: 0.0831 - accuracy: 0.9696 - val_loss: 0.0526 - val_accuracy: 0.9752\n",
            "Epoch 68/100\n",
            "113/114 [============================>.] - ETA: 0s - loss: 0.1005 - accuracy: 0.9652\n",
            "Epoch 68: val_accuracy did not improve from 0.99505\n",
            "114/114 [==============================] - 5s 44ms/step - loss: 0.1010 - accuracy: 0.9646 - val_loss: 0.0646 - val_accuracy: 0.9802\n",
            "Epoch 69/100\n",
            "113/114 [============================>.] - ETA: 0s - loss: 0.1254 - accuracy: 0.9602\n",
            "Epoch 69: val_accuracy did not improve from 0.99505\n",
            "114/114 [==============================] - 5s 45ms/step - loss: 0.1257 - accuracy: 0.9597 - val_loss: 0.0447 - val_accuracy: 0.9901\n",
            "Epoch 70/100\n",
            "114/114 [==============================] - ETA: 0s - loss: 0.0981 - accuracy: 0.9652\n",
            "Epoch 70: val_accuracy did not improve from 0.99505\n",
            "114/114 [==============================] - 5s 40ms/step - loss: 0.0981 - accuracy: 0.9652 - val_loss: 0.0638 - val_accuracy: 0.9802\n",
            "Epoch 71/100\n",
            "114/114 [==============================] - ETA: 0s - loss: 0.1149 - accuracy: 0.9608\n",
            "Epoch 71: val_accuracy did not improve from 0.99505\n",
            "114/114 [==============================] - 6s 51ms/step - loss: 0.1149 - accuracy: 0.9608 - val_loss: 0.0984 - val_accuracy: 0.9752\n",
            "Epoch 72/100\n",
            "113/114 [============================>.] - ETA: 0s - loss: 0.1191 - accuracy: 0.9607\n",
            "Epoch 72: val_accuracy did not improve from 0.99505\n",
            "114/114 [==============================] - 5s 40ms/step - loss: 0.1190 - accuracy: 0.9608 - val_loss: 0.0701 - val_accuracy: 0.9752\n",
            "Epoch 73/100\n",
            "113/114 [============================>.] - ETA: 0s - loss: 0.0905 - accuracy: 0.9663\n",
            "Epoch 73: val_accuracy did not improve from 0.99505\n",
            "114/114 [==============================] - 5s 40ms/step - loss: 0.0904 - accuracy: 0.9663 - val_loss: 0.0874 - val_accuracy: 0.9802\n",
            "Epoch 74/100\n",
            "113/114 [============================>.] - ETA: 0s - loss: 0.1160 - accuracy: 0.9629\n",
            "Epoch 74: val_accuracy did not improve from 0.99505\n",
            "114/114 [==============================] - 6s 49ms/step - loss: 0.1190 - accuracy: 0.9624 - val_loss: 0.0758 - val_accuracy: 0.9851\n",
            "Epoch 75/100\n",
            "113/114 [============================>.] - ETA: 0s - loss: 0.0927 - accuracy: 0.9701\n",
            "Epoch 75: val_accuracy did not improve from 0.99505\n",
            "114/114 [==============================] - 5s 42ms/step - loss: 0.0926 - accuracy: 0.9702 - val_loss: 0.0325 - val_accuracy: 0.9851\n",
            "Epoch 76/100\n",
            "114/114 [==============================] - ETA: 0s - loss: 0.0987 - accuracy: 0.9691\n",
            "Epoch 76: val_accuracy did not improve from 0.99505\n",
            "114/114 [==============================] - 6s 50ms/step - loss: 0.0987 - accuracy: 0.9691 - val_loss: 0.0530 - val_accuracy: 0.9851\n",
            "Epoch 77/100\n",
            "113/114 [============================>.] - ETA: 0s - loss: 0.1170 - accuracy: 0.9707\n",
            "Epoch 77: val_accuracy did not improve from 0.99505\n",
            "114/114 [==============================] - 5s 44ms/step - loss: 0.1168 - accuracy: 0.9707 - val_loss: 0.0451 - val_accuracy: 0.9901\n",
            "Epoch 78/100\n",
            "114/114 [==============================] - ETA: 0s - loss: 0.1008 - accuracy: 0.9646\n",
            "Epoch 78: val_accuracy did not improve from 0.99505\n",
            "114/114 [==============================] - 5s 42ms/step - loss: 0.1008 - accuracy: 0.9646 - val_loss: 0.0287 - val_accuracy: 0.9901\n",
            "Epoch 79/100\n",
            "113/114 [============================>.] - ETA: 0s - loss: 0.0795 - accuracy: 0.9762\n",
            "Epoch 79: val_accuracy did not improve from 0.99505\n",
            "114/114 [==============================] - 6s 50ms/step - loss: 0.0794 - accuracy: 0.9762 - val_loss: 0.0367 - val_accuracy: 0.9802\n",
            "Epoch 80/100\n",
            "114/114 [==============================] - ETA: 0s - loss: 0.0895 - accuracy: 0.9707\n",
            "Epoch 80: val_accuracy did not improve from 0.99505\n",
            "114/114 [==============================] - 5s 43ms/step - loss: 0.0895 - accuracy: 0.9707 - val_loss: 0.0444 - val_accuracy: 0.9802\n",
            "Epoch 81/100\n",
            "114/114 [==============================] - ETA: 0s - loss: 0.0908 - accuracy: 0.9696\n",
            "Epoch 81: val_accuracy did not improve from 0.99505\n",
            "114/114 [==============================] - 5s 48ms/step - loss: 0.0908 - accuracy: 0.9696 - val_loss: 0.1055 - val_accuracy: 0.9802\n",
            "Epoch 82/100\n",
            "114/114 [==============================] - ETA: 0s - loss: 0.1006 - accuracy: 0.9685\n",
            "Epoch 82: val_accuracy did not improve from 0.99505\n",
            "114/114 [==============================] - 5s 43ms/step - loss: 0.1006 - accuracy: 0.9685 - val_loss: 0.1167 - val_accuracy: 0.9752\n",
            "Epoch 83/100\n",
            "113/114 [============================>.] - ETA: 0s - loss: 0.0938 - accuracy: 0.9712\n",
            "Epoch 83: val_accuracy did not improve from 0.99505\n",
            "114/114 [==============================] - 5s 42ms/step - loss: 0.0968 - accuracy: 0.9707 - val_loss: 0.1037 - val_accuracy: 0.9752\n",
            "Epoch 84/100\n",
            "113/114 [============================>.] - ETA: 0s - loss: 0.0901 - accuracy: 0.9757\n",
            "Epoch 84: val_accuracy did not improve from 0.99505\n",
            "114/114 [==============================] - 6s 50ms/step - loss: 0.0900 - accuracy: 0.9757 - val_loss: 0.0265 - val_accuracy: 0.9901\n",
            "Epoch 85/100\n",
            "114/114 [==============================] - ETA: 0s - loss: 0.1040 - accuracy: 0.9669\n",
            "Epoch 85: val_accuracy did not improve from 0.99505\n",
            "114/114 [==============================] - 5s 41ms/step - loss: 0.1040 - accuracy: 0.9669 - val_loss: 0.0898 - val_accuracy: 0.9752\n",
            "Epoch 86/100\n",
            "113/114 [============================>.] - ETA: 0s - loss: 0.0975 - accuracy: 0.9685\n",
            "Epoch 86: val_accuracy improved from 0.99505 to 1.00000, saving model to /content/sample_data/weights.best.VGG16.hdf5_transfer_learning\n"
          ]
        },
        {
          "output_type": "stream",
          "name": "stderr",
          "text": [
            "WARNING:absl:Found untraced functions such as _update_step_xla while saving (showing 1 of 1). These functions will not be directly callable after loading.\n"
          ]
        },
        {
          "output_type": "stream",
          "name": "stdout",
          "text": [
            "\b\b\b\b\b\b\b\b\b\b\b\b\b\b\b\b\b\b\b\b\b\b\b\b\b\b\b\b\b\b\b\b\b\b\b\b\b\b\b\b\b\b\b\b\b\b\b\b\b\b\b\b\b\b\b\b\b\b\b\b\b\b\b\b\b\b\b\b\b\b\b\b\b\b\b\b\b\b\b\b\b\b\b\b\r114/114 [==============================] - 6s 55ms/step - loss: 0.0974 - accuracy: 0.9685 - val_loss: 0.0052 - val_accuracy: 1.0000\n",
            "Epoch 87/100\n",
            "113/114 [============================>.] - ETA: 0s - loss: 0.0889 - accuracy: 0.9690\n",
            "Epoch 87: val_accuracy did not improve from 1.00000\n",
            "114/114 [==============================] - 5s 44ms/step - loss: 0.0888 - accuracy: 0.9691 - val_loss: 0.0177 - val_accuracy: 0.9950\n",
            "Epoch 88/100\n",
            "113/114 [============================>.] - ETA: 0s - loss: 0.0893 - accuracy: 0.9685\n",
            "Epoch 88: val_accuracy did not improve from 1.00000\n",
            "114/114 [==============================] - 5s 41ms/step - loss: 0.0892 - accuracy: 0.9685 - val_loss: 0.0133 - val_accuracy: 0.9950\n",
            "Epoch 89/100\n",
            "114/114 [==============================] - ETA: 0s - loss: 0.0854 - accuracy: 0.9757\n",
            "Epoch 89: val_accuracy did not improve from 1.00000\n",
            "114/114 [==============================] - 6s 51ms/step - loss: 0.0854 - accuracy: 0.9757 - val_loss: 0.0617 - val_accuracy: 0.9851\n",
            "Epoch 90/100\n",
            "113/114 [============================>.] - ETA: 0s - loss: 0.0874 - accuracy: 0.9740\n",
            "Epoch 90: val_accuracy did not improve from 1.00000\n",
            "114/114 [==============================] - 5s 42ms/step - loss: 0.0873 - accuracy: 0.9740 - val_loss: 0.0311 - val_accuracy: 0.9950\n",
            "Epoch 91/100\n",
            "114/114 [==============================] - ETA: 0s - loss: 0.0939 - accuracy: 0.9669\n",
            "Epoch 91: val_accuracy did not improve from 1.00000\n",
            "114/114 [==============================] - 5s 48ms/step - loss: 0.0939 - accuracy: 0.9669 - val_loss: 0.1062 - val_accuracy: 0.9752\n",
            "Epoch 92/100\n",
            "113/114 [============================>.] - ETA: 0s - loss: 0.1140 - accuracy: 0.9685\n",
            "Epoch 92: val_accuracy did not improve from 1.00000\n",
            "114/114 [==============================] - 5s 44ms/step - loss: 0.1139 - accuracy: 0.9685 - val_loss: 0.0963 - val_accuracy: 0.9851\n",
            "Epoch 93/100\n",
            "114/114 [==============================] - ETA: 0s - loss: 0.1188 - accuracy: 0.9630\n",
            "Epoch 93: val_accuracy did not improve from 1.00000\n",
            "114/114 [==============================] - 5s 41ms/step - loss: 0.1188 - accuracy: 0.9630 - val_loss: 0.0287 - val_accuracy: 0.9901\n",
            "Epoch 94/100\n",
            "114/114 [==============================] - ETA: 0s - loss: 0.0738 - accuracy: 0.9746\n",
            "Epoch 94: val_accuracy did not improve from 1.00000\n",
            "114/114 [==============================] - 6s 50ms/step - loss: 0.0738 - accuracy: 0.9746 - val_loss: 0.0656 - val_accuracy: 0.9901\n",
            "Epoch 95/100\n",
            "113/114 [============================>.] - ETA: 0s - loss: 0.0884 - accuracy: 0.9784\n",
            "Epoch 95: val_accuracy did not improve from 1.00000\n",
            "114/114 [==============================] - 5s 42ms/step - loss: 0.0883 - accuracy: 0.9785 - val_loss: 0.0413 - val_accuracy: 0.9901\n",
            "Epoch 96/100\n",
            "114/114 [==============================] - ETA: 0s - loss: 0.0791 - accuracy: 0.9746\n",
            "Epoch 96: val_accuracy did not improve from 1.00000\n",
            "114/114 [==============================] - 5s 46ms/step - loss: 0.0791 - accuracy: 0.9746 - val_loss: 0.0228 - val_accuracy: 0.9901\n",
            "Epoch 97/100\n",
            "114/114 [==============================] - ETA: 0s - loss: 0.0946 - accuracy: 0.9702\n",
            "Epoch 97: val_accuracy did not improve from 1.00000\n",
            "114/114 [==============================] - 5s 47ms/step - loss: 0.0946 - accuracy: 0.9702 - val_loss: 0.0283 - val_accuracy: 0.9950\n",
            "Epoch 98/100\n",
            "113/114 [============================>.] - ETA: 0s - loss: 0.0693 - accuracy: 0.9740\n",
            "Epoch 98: val_accuracy did not improve from 1.00000\n",
            "114/114 [==============================] - 5s 42ms/step - loss: 0.0692 - accuracy: 0.9740 - val_loss: 0.1641 - val_accuracy: 0.9752\n",
            "Epoch 99/100\n",
            "113/114 [============================>.] - ETA: 0s - loss: 0.0692 - accuracy: 0.9773\n",
            "Epoch 99: val_accuracy did not improve from 1.00000\n",
            "114/114 [==============================] - 6s 53ms/step - loss: 0.0691 - accuracy: 0.9773 - val_loss: 0.0254 - val_accuracy: 0.9950\n",
            "Epoch 100/100\n",
            "114/114 [==============================] - ETA: 0s - loss: 0.0973 - accuracy: 0.9768\n",
            "Epoch 100: val_accuracy did not improve from 1.00000\n",
            "114/114 [==============================] - 5s 43ms/step - loss: 0.0973 - accuracy: 0.9768 - val_loss: 0.0685 - val_accuracy: 0.9851\n"
          ]
        }
      ],
      "source": [
        "\n",
        "checkpointer = ModelCheckpoint(filepath='/content/sample_data/weights.best.VGG16.hdf5_transfer_learning', \n",
        "                               monitor='val_accuracy', verbose=1, save_best_only=True, mode='max')\n",
        "\n",
        "history=Model.fit(bottleneck_features_train_VGG16, train_targets, validation_split=0.1, epochs=100, batch_size=16, callbacks=[checkpointer], verbose=1)"
      ]
    },
    {
      "cell_type": "code",
      "execution_count": null,
      "metadata": {
        "colab": {
          "base_uri": "https://localhost:8080/"
        },
        "id": "STnPSANyA_NK",
        "outputId": "3e6be82a-e448-4de8-a4ed-6e5fd3296c89"
      },
      "outputs": [
        {
          "output_type": "stream",
          "name": "stdout",
          "text": [
            "Model: \"sequential_1\"\n",
            "_________________________________________________________________\n",
            " Layer (type)                Output Shape              Param #   \n",
            "=================================================================\n",
            " flatten_1 (Flatten)         (None, 25088)             0         \n",
            "                                                                 \n",
            " dense_2 (Dense)             (None, 250)               6272250   \n",
            "                                                                 \n",
            " dense_3 (Dense)             (None, 36)                9036      \n",
            "                                                                 \n",
            "=================================================================\n",
            "Total params: 6,281,286\n",
            "Trainable params: 6,281,286\n",
            "Non-trainable params: 0\n",
            "_________________________________________________________________\n",
            "1/1 [==============================] - 0s 54ms/step\n",
            "1/1 [==============================] - 0s 26ms/step\n",
            "1/1 [==============================] - 0s 24ms/step\n",
            "1/1 [==============================] - 0s 26ms/step\n",
            "1/1 [==============================] - 0s 26ms/step\n",
            "1/1 [==============================] - 0s 28ms/step\n",
            "1/1 [==============================] - 0s 25ms/step\n",
            "1/1 [==============================] - 0s 31ms/step\n",
            "1/1 [==============================] - 0s 26ms/step\n",
            "1/1 [==============================] - 0s 29ms/step\n",
            "1/1 [==============================] - 0s 26ms/step\n",
            "1/1 [==============================] - 0s 27ms/step\n",
            "1/1 [==============================] - 0s 27ms/step\n",
            "1/1 [==============================] - 0s 27ms/step\n",
            "1/1 [==============================] - 0s 25ms/step\n",
            "1/1 [==============================] - 0s 25ms/step\n",
            "1/1 [==============================] - 0s 26ms/step\n",
            "1/1 [==============================] - 0s 26ms/step\n",
            "1/1 [==============================] - 0s 24ms/step\n",
            "1/1 [==============================] - 0s 25ms/step\n",
            "1/1 [==============================] - 0s 41ms/step\n",
            "1/1 [==============================] - 0s 31ms/step\n",
            "1/1 [==============================] - 0s 26ms/step\n",
            "1/1 [==============================] - 0s 26ms/step\n",
            "1/1 [==============================] - 0s 26ms/step\n",
            "1/1 [==============================] - 0s 24ms/step\n",
            "1/1 [==============================] - 0s 26ms/step\n",
            "1/1 [==============================] - 0s 26ms/step\n",
            "1/1 [==============================] - 0s 25ms/step\n",
            "1/1 [==============================] - 0s 25ms/step\n",
            "1/1 [==============================] - 0s 28ms/step\n",
            "1/1 [==============================] - 0s 27ms/step\n",
            "1/1 [==============================] - 0s 25ms/step\n",
            "1/1 [==============================] - 0s 27ms/step\n",
            "1/1 [==============================] - 0s 26ms/step\n",
            "1/1 [==============================] - 0s 28ms/step\n",
            "1/1 [==============================] - 0s 28ms/step\n",
            "1/1 [==============================] - 0s 25ms/step\n",
            "1/1 [==============================] - 0s 31ms/step\n",
            "1/1 [==============================] - 0s 26ms/step\n",
            "1/1 [==============================] - 0s 26ms/step\n",
            "1/1 [==============================] - 0s 26ms/step\n",
            "1/1 [==============================] - 0s 30ms/step\n",
            "1/1 [==============================] - 0s 23ms/step\n",
            "1/1 [==============================] - 0s 26ms/step\n",
            "1/1 [==============================] - 0s 24ms/step\n",
            "1/1 [==============================] - 0s 24ms/step\n",
            "1/1 [==============================] - 0s 30ms/step\n",
            "1/1 [==============================] - 0s 29ms/step\n",
            "1/1 [==============================] - 0s 28ms/step\n",
            "1/1 [==============================] - 0s 31ms/step\n",
            "1/1 [==============================] - 0s 26ms/step\n",
            "1/1 [==============================] - 0s 25ms/step\n",
            "1/1 [==============================] - 0s 28ms/step\n",
            "1/1 [==============================] - 0s 28ms/step\n",
            "1/1 [==============================] - 0s 24ms/step\n",
            "1/1 [==============================] - 0s 39ms/step\n",
            "1/1 [==============================] - 0s 34ms/step\n",
            "1/1 [==============================] - 0s 40ms/step\n",
            "1/1 [==============================] - 0s 35ms/step\n",
            "1/1 [==============================] - 0s 34ms/step\n",
            "1/1 [==============================] - 0s 34ms/step\n",
            "1/1 [==============================] - 0s 33ms/step\n",
            "1/1 [==============================] - 0s 32ms/step\n",
            "1/1 [==============================] - 0s 40ms/step\n",
            "1/1 [==============================] - 0s 35ms/step\n",
            "1/1 [==============================] - 0s 51ms/step\n",
            "1/1 [==============================] - 0s 36ms/step\n",
            "1/1 [==============================] - 0s 38ms/step\n",
            "1/1 [==============================] - 0s 34ms/step\n",
            "1/1 [==============================] - 0s 31ms/step\n",
            "1/1 [==============================] - 0s 45ms/step\n",
            "1/1 [==============================] - 0s 33ms/step\n",
            "1/1 [==============================] - 0s 37ms/step\n",
            "1/1 [==============================] - 0s 33ms/step\n",
            "1/1 [==============================] - 0s 31ms/step\n",
            "1/1 [==============================] - 0s 36ms/step\n",
            "1/1 [==============================] - 0s 35ms/step\n",
            "1/1 [==============================] - 0s 34ms/step\n",
            "1/1 [==============================] - 0s 36ms/step\n",
            "1/1 [==============================] - 0s 33ms/step\n",
            "1/1 [==============================] - 0s 34ms/step\n",
            "1/1 [==============================] - 0s 47ms/step\n",
            "1/1 [==============================] - 0s 39ms/step\n",
            "1/1 [==============================] - 0s 40ms/step\n",
            "1/1 [==============================] - 0s 37ms/step\n",
            "1/1 [==============================] - 0s 42ms/step\n",
            "1/1 [==============================] - 0s 53ms/step\n",
            "1/1 [==============================] - 0s 37ms/step\n",
            "1/1 [==============================] - 0s 38ms/step\n",
            "1/1 [==============================] - 0s 39ms/step\n",
            "1/1 [==============================] - 0s 37ms/step\n",
            "1/1 [==============================] - 0s 35ms/step\n",
            "1/1 [==============================] - 0s 34ms/step\n",
            "1/1 [==============================] - 0s 36ms/step\n",
            "1/1 [==============================] - 0s 37ms/step\n",
            "1/1 [==============================] - 0s 40ms/step\n",
            "1/1 [==============================] - 0s 40ms/step\n",
            "1/1 [==============================] - 0s 39ms/step\n",
            "1/1 [==============================] - 0s 37ms/step\n",
            "1/1 [==============================] - 0s 41ms/step\n",
            "1/1 [==============================] - 0s 39ms/step\n",
            "1/1 [==============================] - 0s 44ms/step\n",
            "1/1 [==============================] - 0s 40ms/step\n",
            "1/1 [==============================] - 0s 40ms/step\n",
            "1/1 [==============================] - 0s 41ms/step\n",
            "1/1 [==============================] - 0s 41ms/step\n",
            "1/1 [==============================] - 0s 41ms/step\n",
            "1/1 [==============================] - 0s 37ms/step\n",
            "1/1 [==============================] - 0s 39ms/step\n",
            "1/1 [==============================] - 0s 39ms/step\n",
            "1/1 [==============================] - 0s 39ms/step\n",
            "1/1 [==============================] - 0s 36ms/step\n",
            "1/1 [==============================] - 0s 34ms/step\n",
            "1/1 [==============================] - 0s 34ms/step\n",
            "1/1 [==============================] - 0s 36ms/step\n",
            "1/1 [==============================] - 0s 35ms/step\n",
            "1/1 [==============================] - 0s 35ms/step\n",
            "1/1 [==============================] - 0s 39ms/step\n",
            "1/1 [==============================] - 0s 34ms/step\n",
            "1/1 [==============================] - 0s 38ms/step\n",
            "1/1 [==============================] - 0s 35ms/step\n",
            "1/1 [==============================] - 0s 40ms/step\n",
            "1/1 [==============================] - 0s 35ms/step\n",
            "1/1 [==============================] - 0s 35ms/step\n",
            "1/1 [==============================] - 0s 37ms/step\n",
            "1/1 [==============================] - 0s 38ms/step\n",
            "1/1 [==============================] - 0s 41ms/step\n",
            "1/1 [==============================] - 0s 32ms/step\n",
            "1/1 [==============================] - 0s 38ms/step\n",
            "1/1 [==============================] - 0s 37ms/step\n",
            "1/1 [==============================] - 0s 35ms/step\n",
            "1/1 [==============================] - 0s 31ms/step\n",
            "1/1 [==============================] - 0s 35ms/step\n",
            "1/1 [==============================] - 0s 37ms/step\n",
            "1/1 [==============================] - 0s 34ms/step\n",
            "1/1 [==============================] - 0s 37ms/step\n",
            "1/1 [==============================] - 0s 33ms/step\n",
            "1/1 [==============================] - 0s 33ms/step\n",
            "1/1 [==============================] - 0s 33ms/step\n",
            "1/1 [==============================] - 0s 33ms/step\n",
            "1/1 [==============================] - 0s 31ms/step\n",
            "1/1 [==============================] - 0s 30ms/step\n",
            "1/1 [==============================] - 0s 34ms/step\n",
            "1/1 [==============================] - 0s 29ms/step\n",
            "1/1 [==============================] - 0s 32ms/step\n",
            "1/1 [==============================] - 0s 34ms/step\n",
            "1/1 [==============================] - 0s 35ms/step\n",
            "1/1 [==============================] - 0s 30ms/step\n",
            "1/1 [==============================] - 0s 30ms/step\n",
            "1/1 [==============================] - 0s 30ms/step\n",
            "1/1 [==============================] - 0s 29ms/step\n",
            "1/1 [==============================] - 0s 31ms/step\n",
            "1/1 [==============================] - 0s 35ms/step\n",
            "1/1 [==============================] - 0s 29ms/step\n",
            "1/1 [==============================] - 0s 28ms/step\n",
            "1/1 [==============================] - 0s 31ms/step\n",
            "1/1 [==============================] - 0s 28ms/step\n",
            "1/1 [==============================] - 0s 37ms/step\n",
            "1/1 [==============================] - 0s 28ms/step\n",
            "1/1 [==============================] - 0s 28ms/step\n",
            "1/1 [==============================] - 0s 30ms/step\n",
            "1/1 [==============================] - 0s 30ms/step\n",
            "1/1 [==============================] - 0s 32ms/step\n",
            "1/1 [==============================] - 0s 34ms/step\n",
            "1/1 [==============================] - 0s 32ms/step\n",
            "1/1 [==============================] - 0s 31ms/step\n",
            "1/1 [==============================] - 0s 27ms/step\n",
            "1/1 [==============================] - 0s 29ms/step\n",
            "1/1 [==============================] - 0s 29ms/step\n",
            "1/1 [==============================] - 0s 29ms/step\n",
            "1/1 [==============================] - 0s 36ms/step\n",
            "1/1 [==============================] - 0s 30ms/step\n",
            "1/1 [==============================] - 0s 31ms/step\n",
            "1/1 [==============================] - 0s 29ms/step\n",
            "1/1 [==============================] - 0s 28ms/step\n",
            "1/1 [==============================] - 0s 41ms/step\n",
            "1/1 [==============================] - 0s 31ms/step\n",
            "1/1 [==============================] - 0s 29ms/step\n",
            "1/1 [==============================] - 0s 30ms/step\n",
            "1/1 [==============================] - 0s 30ms/step\n",
            "1/1 [==============================] - 0s 28ms/step\n",
            "1/1 [==============================] - 0s 30ms/step\n",
            "1/1 [==============================] - 0s 27ms/step\n",
            "1/1 [==============================] - 0s 29ms/step\n",
            "1/1 [==============================] - 0s 27ms/step\n",
            "1/1 [==============================] - 0s 30ms/step\n",
            "1/1 [==============================] - 0s 37ms/step\n",
            "1/1 [==============================] - 0s 30ms/step\n",
            "1/1 [==============================] - 0s 29ms/step\n",
            "1/1 [==============================] - 0s 29ms/step\n",
            "1/1 [==============================] - 0s 28ms/step\n",
            "1/1 [==============================] - 0s 28ms/step\n",
            "1/1 [==============================] - 0s 28ms/step\n",
            "1/1 [==============================] - 0s 28ms/step\n",
            "1/1 [==============================] - 0s 29ms/step\n",
            "1/1 [==============================] - 0s 27ms/step\n",
            "1/1 [==============================] - 0s 41ms/step\n",
            "1/1 [==============================] - 0s 36ms/step\n",
            "1/1 [==============================] - 0s 42ms/step\n",
            "1/1 [==============================] - 0s 35ms/step\n",
            "1/1 [==============================] - 0s 36ms/step\n",
            "1/1 [==============================] - 0s 39ms/step\n",
            "1/1 [==============================] - 0s 37ms/step\n",
            "1/1 [==============================] - 0s 35ms/step\n",
            "1/1 [==============================] - 0s 34ms/step\n",
            "1/1 [==============================] - 0s 34ms/step\n",
            "1/1 [==============================] - 0s 36ms/step\n",
            "1/1 [==============================] - 0s 36ms/step\n",
            "1/1 [==============================] - 0s 34ms/step\n",
            "1/1 [==============================] - 0s 32ms/step\n",
            "1/1 [==============================] - 0s 32ms/step\n",
            "1/1 [==============================] - 0s 31ms/step\n",
            "1/1 [==============================] - 0s 30ms/step\n",
            "1/1 [==============================] - 0s 33ms/step\n",
            "1/1 [==============================] - 0s 41ms/step\n",
            "1/1 [==============================] - 0s 40ms/step\n",
            "1/1 [==============================] - 0s 37ms/step\n",
            "1/1 [==============================] - 0s 37ms/step\n",
            "1/1 [==============================] - 0s 35ms/step\n",
            "1/1 [==============================] - 0s 34ms/step\n",
            "1/1 [==============================] - 0s 35ms/step\n",
            "1/1 [==============================] - 0s 44ms/step\n",
            "1/1 [==============================] - 0s 42ms/step\n",
            "1/1 [==============================] - 0s 40ms/step\n",
            "1/1 [==============================] - 0s 45ms/step\n",
            "1/1 [==============================] - 0s 27ms/step\n",
            "1/1 [==============================] - 0s 29ms/step\n",
            "1/1 [==============================] - 0s 25ms/step\n",
            "1/1 [==============================] - 0s 26ms/step\n",
            "1/1 [==============================] - 0s 26ms/step\n",
            "1/1 [==============================] - 0s 26ms/step\n",
            "1/1 [==============================] - 0s 33ms/step\n",
            "1/1 [==============================] - 0s 32ms/step\n",
            "1/1 [==============================] - 0s 28ms/step\n",
            "1/1 [==============================] - 0s 28ms/step\n",
            "1/1 [==============================] - 0s 33ms/step\n",
            "1/1 [==============================] - 0s 24ms/step\n",
            "1/1 [==============================] - 0s 26ms/step\n",
            "1/1 [==============================] - 0s 25ms/step\n",
            "1/1 [==============================] - 0s 25ms/step\n",
            "1/1 [==============================] - 0s 30ms/step\n",
            "1/1 [==============================] - 0s 29ms/step\n",
            "1/1 [==============================] - 0s 26ms/step\n",
            "1/1 [==============================] - 0s 27ms/step\n",
            "1/1 [==============================] - 0s 26ms/step\n",
            "1/1 [==============================] - 0s 24ms/step\n",
            "1/1 [==============================] - 0s 25ms/step\n",
            "1/1 [==============================] - 0s 26ms/step\n",
            "1/1 [==============================] - 0s 26ms/step\n",
            "1/1 [==============================] - 0s 32ms/step\n",
            "1/1 [==============================] - 0s 30ms/step\n",
            "1/1 [==============================] - 0s 26ms/step\n",
            "1/1 [==============================] - 0s 25ms/step\n",
            "1/1 [==============================] - 0s 26ms/step\n",
            "1/1 [==============================] - 0s 26ms/step\n",
            "1/1 [==============================] - 0s 25ms/step\n",
            "1/1 [==============================] - 0s 24ms/step\n",
            "1/1 [==============================] - 0s 23ms/step\n",
            "1/1 [==============================] - 0s 28ms/step\n",
            "1/1 [==============================] - 0s 25ms/step\n",
            "1/1 [==============================] - 0s 27ms/step\n",
            "1/1 [==============================] - 0s 27ms/step\n",
            "1/1 [==============================] - 0s 27ms/step\n",
            "1/1 [==============================] - 0s 28ms/step\n",
            "1/1 [==============================] - 0s 24ms/step\n",
            "1/1 [==============================] - 0s 25ms/step\n",
            "1/1 [==============================] - 0s 23ms/step\n",
            "1/1 [==============================] - 0s 29ms/step\n",
            "1/1 [==============================] - 0s 28ms/step\n",
            "1/1 [==============================] - 0s 29ms/step\n",
            "1/1 [==============================] - 0s 25ms/step\n",
            "1/1 [==============================] - 0s 26ms/step\n",
            "1/1 [==============================] - 0s 25ms/step\n",
            "1/1 [==============================] - 0s 31ms/step\n",
            "1/1 [==============================] - 0s 25ms/step\n",
            "1/1 [==============================] - 0s 28ms/step\n",
            "1/1 [==============================] - 0s 28ms/step\n",
            "1/1 [==============================] - 0s 28ms/step\n",
            "1/1 [==============================] - 0s 25ms/step\n",
            "1/1 [==============================] - 0s 24ms/step\n",
            "1/1 [==============================] - 0s 24ms/step\n",
            "1/1 [==============================] - 0s 26ms/step\n",
            "1/1 [==============================] - 0s 25ms/step\n",
            "1/1 [==============================] - 0s 24ms/step\n",
            "1/1 [==============================] - 0s 27ms/step\n",
            "1/1 [==============================] - 0s 31ms/step\n",
            "1/1 [==============================] - 0s 28ms/step\n",
            "1/1 [==============================] - 0s 27ms/step\n",
            "1/1 [==============================] - 0s 30ms/step\n",
            "1/1 [==============================] - 0s 28ms/step\n",
            "1/1 [==============================] - 0s 26ms/step\n",
            "1/1 [==============================] - 0s 26ms/step\n",
            "1/1 [==============================] - 0s 27ms/step\n",
            "1/1 [==============================] - 0s 27ms/step\n",
            "1/1 [==============================] - 0s 25ms/step\n",
            "1/1 [==============================] - 0s 28ms/step\n",
            "1/1 [==============================] - 0s 27ms/step\n",
            "1/1 [==============================] - 0s 27ms/step\n",
            "1/1 [==============================] - 0s 26ms/step\n",
            "1/1 [==============================] - 0s 28ms/step\n",
            "1/1 [==============================] - 0s 26ms/step\n",
            "1/1 [==============================] - 0s 33ms/step\n",
            "1/1 [==============================] - 0s 32ms/step\n",
            "1/1 [==============================] - 0s 26ms/step\n",
            "1/1 [==============================] - 0s 25ms/step\n",
            "1/1 [==============================] - 0s 24ms/step\n",
            "1/1 [==============================] - 0s 23ms/step\n",
            "1/1 [==============================] - 0s 23ms/step\n",
            "1/1 [==============================] - 0s 27ms/step\n",
            "1/1 [==============================] - 0s 26ms/step\n",
            "1/1 [==============================] - 0s 30ms/step\n",
            "1/1 [==============================] - 0s 29ms/step\n",
            "1/1 [==============================] - 0s 26ms/step\n",
            "1/1 [==============================] - 0s 29ms/step\n",
            "1/1 [==============================] - 0s 24ms/step\n",
            "1/1 [==============================] - 0s 28ms/step\n",
            "1/1 [==============================] - 0s 26ms/step\n",
            "1/1 [==============================] - 0s 26ms/step\n",
            "1/1 [==============================] - 0s 29ms/step\n",
            "1/1 [==============================] - 0s 33ms/step\n",
            "1/1 [==============================] - 0s 26ms/step\n",
            "1/1 [==============================] - 0s 24ms/step\n",
            "1/1 [==============================] - 0s 27ms/step\n",
            "1/1 [==============================] - 0s 26ms/step\n",
            "1/1 [==============================] - 0s 29ms/step\n",
            "1/1 [==============================] - 0s 26ms/step\n",
            "1/1 [==============================] - 0s 26ms/step\n",
            "1/1 [==============================] - 0s 34ms/step\n",
            "1/1 [==============================] - 0s 27ms/step\n",
            "1/1 [==============================] - 0s 28ms/step\n",
            "1/1 [==============================] - 0s 29ms/step\n",
            "1/1 [==============================] - 0s 26ms/step\n",
            "1/1 [==============================] - 0s 30ms/step\n",
            "1/1 [==============================] - 0s 27ms/step\n",
            "1/1 [==============================] - 0s 28ms/step\n",
            "1/1 [==============================] - 0s 24ms/step\n",
            "1/1 [==============================] - 0s 27ms/step\n",
            "1/1 [==============================] - 0s 26ms/step\n",
            "1/1 [==============================] - 0s 29ms/step\n",
            "1/1 [==============================] - 0s 29ms/step\n",
            "1/1 [==============================] - 0s 26ms/step\n",
            "1/1 [==============================] - 0s 26ms/step\n",
            "1/1 [==============================] - 0s 28ms/step\n",
            "1/1 [==============================] - 0s 25ms/step\n",
            "1/1 [==============================] - 0s 24ms/step\n",
            "1/1 [==============================] - 0s 25ms/step\n",
            "1/1 [==============================] - 0s 23ms/step\n",
            "1/1 [==============================] - 0s 26ms/step\n",
            "1/1 [==============================] - 0s 25ms/step\n",
            "1/1 [==============================] - 0s 25ms/step\n",
            "1/1 [==============================] - 0s 26ms/step\n",
            "1/1 [==============================] - 0s 29ms/step\n",
            "1/1 [==============================] - 0s 29ms/step\n",
            "1/1 [==============================] - 0s 24ms/step\n",
            "1/1 [==============================] - 0s 26ms/step\n",
            "1/1 [==============================] - 0s 31ms/step\n",
            "1/1 [==============================] - 0s 29ms/step\n",
            "1/1 [==============================] - 0s 28ms/step\n",
            "1/1 [==============================] - 0s 27ms/step\n",
            "1/1 [==============================] - 0s 25ms/step\n",
            "1/1 [==============================] - 0s 24ms/step\n",
            "1/1 [==============================] - 0s 24ms/step\n",
            "1/1 [==============================] - 0s 41ms/step\n",
            "1/1 [==============================] - 0s 36ms/step\n",
            "1/1 [==============================] - 0s 32ms/step\n",
            "1/1 [==============================] - 0s 43ms/step\n",
            "1/1 [==============================] - 0s 34ms/step\n",
            "1/1 [==============================] - 0s 40ms/step\n",
            "1/1 [==============================] - 0s 30ms/step\n",
            "1/1 [==============================] - 0s 31ms/step\n",
            "1/1 [==============================] - 0s 42ms/step\n",
            "1/1 [==============================] - 0s 31ms/step\n",
            "1/1 [==============================] - 0s 33ms/step\n",
            "1/1 [==============================] - 0s 28ms/step\n",
            "1/1 [==============================] - 0s 36ms/step\n",
            "1/1 [==============================] - 0s 35ms/step\n",
            "1/1 [==============================] - 0s 37ms/step\n",
            "1/1 [==============================] - 0s 33ms/step\n",
            "1/1 [==============================] - 0s 31ms/step\n",
            "1/1 [==============================] - 0s 33ms/step\n",
            "1/1 [==============================] - 0s 32ms/step\n",
            "1/1 [==============================] - 0s 31ms/step\n",
            "1/1 [==============================] - 0s 34ms/step\n",
            "1/1 [==============================] - 0s 42ms/step\n",
            "1/1 [==============================] - 0s 34ms/step\n",
            "1/1 [==============================] - 0s 35ms/step\n",
            "1/1 [==============================] - 0s 36ms/step\n",
            "1/1 [==============================] - 0s 31ms/step\n",
            "1/1 [==============================] - 0s 31ms/step\n",
            "1/1 [==============================] - 0s 33ms/step\n",
            "1/1 [==============================] - 0s 31ms/step\n",
            "1/1 [==============================] - 0s 38ms/step\n",
            "1/1 [==============================] - 0s 38ms/step\n",
            "1/1 [==============================] - 0s 32ms/step\n",
            "1/1 [==============================] - 0s 27ms/step\n",
            "1/1 [==============================] - 0s 25ms/step\n",
            "1/1 [==============================] - 0s 26ms/step\n",
            "1/1 [==============================] - 0s 26ms/step\n",
            "1/1 [==============================] - 0s 25ms/step\n",
            "1/1 [==============================] - 0s 25ms/step\n",
            "1/1 [==============================] - 0s 25ms/step\n",
            "1/1 [==============================] - 0s 30ms/step\n",
            "1/1 [==============================] - 0s 33ms/step\n",
            "1/1 [==============================] - 0s 26ms/step\n",
            "1/1 [==============================] - 0s 26ms/step\n",
            "1/1 [==============================] - 0s 27ms/step\n",
            "1/1 [==============================] - 0s 26ms/step\n",
            "1/1 [==============================] - 0s 27ms/step\n",
            "1/1 [==============================] - 0s 25ms/step\n",
            "1/1 [==============================] - 0s 24ms/step\n",
            "1/1 [==============================] - 0s 27ms/step\n",
            "1/1 [==============================] - 0s 27ms/step\n",
            "1/1 [==============================] - 0s 26ms/step\n",
            "1/1 [==============================] - 0s 28ms/step\n",
            "1/1 [==============================] - 0s 24ms/step\n",
            "1/1 [==============================] - 0s 25ms/step\n",
            "1/1 [==============================] - 0s 29ms/step\n",
            "1/1 [==============================] - 0s 23ms/step\n",
            "1/1 [==============================] - 0s 25ms/step\n",
            "1/1 [==============================] - 0s 29ms/step\n",
            "1/1 [==============================] - 0s 27ms/step\n",
            "1/1 [==============================] - 0s 30ms/step\n",
            "1/1 [==============================] - 0s 26ms/step\n",
            "1/1 [==============================] - 0s 26ms/step\n",
            "1/1 [==============================] - 0s 24ms/step\n",
            "1/1 [==============================] - 0s 25ms/step\n",
            "1/1 [==============================] - 0s 26ms/step\n",
            "1/1 [==============================] - 0s 30ms/step\n",
            "1/1 [==============================] - 0s 29ms/step\n",
            "1/1 [==============================] - 0s 25ms/step\n",
            "1/1 [==============================] - 0s 27ms/step\n",
            "1/1 [==============================] - 0s 26ms/step\n",
            "1/1 [==============================] - 0s 25ms/step\n",
            "1/1 [==============================] - 0s 28ms/step\n",
            "1/1 [==============================] - 0s 24ms/step\n",
            "1/1 [==============================] - 0s 27ms/step\n",
            "1/1 [==============================] - 0s 26ms/step\n",
            "1/1 [==============================] - 0s 29ms/step\n",
            "1/1 [==============================] - 0s 31ms/step\n",
            "1/1 [==============================] - 0s 25ms/step\n",
            "1/1 [==============================] - 0s 25ms/step\n",
            "1/1 [==============================] - 0s 25ms/step\n",
            "1/1 [==============================] - 0s 24ms/step\n",
            "1/1 [==============================] - 0s 29ms/step\n",
            "1/1 [==============================] - 0s 25ms/step\n",
            "1/1 [==============================] - 0s 25ms/step\n",
            "1/1 [==============================] - 0s 26ms/step\n",
            "1/1 [==============================] - 0s 27ms/step\n",
            "1/1 [==============================] - 0s 30ms/step\n",
            "1/1 [==============================] - 0s 25ms/step\n",
            "1/1 [==============================] - 0s 23ms/step\n",
            "1/1 [==============================] - 0s 25ms/step\n",
            "1/1 [==============================] - 0s 26ms/step\n",
            "1/1 [==============================] - 0s 28ms/step\n",
            "1/1 [==============================] - 0s 25ms/step\n",
            "1/1 [==============================] - 0s 28ms/step\n",
            "1/1 [==============================] - 0s 28ms/step\n",
            "1/1 [==============================] - 0s 26ms/step\n",
            "1/1 [==============================] - 0s 26ms/step\n",
            "1/1 [==============================] - 0s 26ms/step\n",
            "1/1 [==============================] - 0s 25ms/step\n",
            "1/1 [==============================] - 0s 26ms/step\n",
            "1/1 [==============================] - 0s 23ms/step\n",
            "1/1 [==============================] - 0s 26ms/step\n",
            "1/1 [==============================] - 0s 27ms/step\n",
            "1/1 [==============================] - 0s 27ms/step\n",
            "1/1 [==============================] - 0s 25ms/step\n",
            "1/1 [==============================] - 0s 25ms/step\n",
            "1/1 [==============================] - 0s 25ms/step\n",
            "1/1 [==============================] - 0s 24ms/step\n",
            "1/1 [==============================] - 0s 23ms/step\n",
            "1/1 [==============================] - 0s 24ms/step\n",
            "1/1 [==============================] - 0s 35ms/step\n",
            "1/1 [==============================] - 0s 27ms/step\n",
            "1/1 [==============================] - 0s 33ms/step\n",
            "1/1 [==============================] - 0s 26ms/step\n",
            "1/1 [==============================] - 0s 27ms/step\n",
            "1/1 [==============================] - 0s 26ms/step\n",
            "1/1 [==============================] - 0s 26ms/step\n",
            "1/1 [==============================] - 0s 25ms/step\n",
            "1/1 [==============================] - 0s 30ms/step\n",
            "1/1 [==============================] - 0s 27ms/step\n",
            "1/1 [==============================] - 0s 29ms/step\n",
            "1/1 [==============================] - 0s 26ms/step\n",
            "1/1 [==============================] - 0s 28ms/step\n",
            "1/1 [==============================] - 0s 25ms/step\n",
            "1/1 [==============================] - 0s 26ms/step\n",
            "1/1 [==============================] - 0s 27ms/step\n",
            "1/1 [==============================] - 0s 26ms/step\n",
            "1/1 [==============================] - 0s 25ms/step\n",
            "1/1 [==============================] - 0s 26ms/step\n",
            "1/1 [==============================] - 0s 24ms/step\n",
            "1/1 [==============================] - 0s 25ms/step\n",
            "1/1 [==============================] - 0s 29ms/step\n",
            "1/1 [==============================] - 0s 26ms/step\n",
            "1/1 [==============================] - 0s 25ms/step\n",
            "1/1 [==============================] - 0s 29ms/step\n",
            "1/1 [==============================] - 0s 27ms/step\n",
            "1/1 [==============================] - 0s 26ms/step\n",
            "1/1 [==============================] - 0s 28ms/step\n",
            "1/1 [==============================] - 0s 27ms/step\n",
            "1/1 [==============================] - 0s 27ms/step\n",
            "Time Taken: 40.45574164390564 seconds\n"
          ]
        }
      ],
      "source": [
        "Model2 = Sequential()\n",
        "Model2.add(Flatten(input_shape=bottleneck_features_train_VGG16.shape[1:]))\n",
        "##Model2.add(Dense(500, activation='relu',kernel_initializer='glorot_normal')) \n",
        "Model2.add(Dense(250, activation='relu',kernel_initializer='glorot_normal')) \n",
        "##Model2.add(Dense(100, activation='relu',kernel_initializer='glorot_normal')) \n",
        "##Model2.add(Dense(50, activation='relu',kernel_initializer='glorot_normal')) \n",
        "##Model2.add(Dropout(0.5))\n",
        "Model2.add(Dense(36, activation='softmax',kernel_initializer='glorot_normal'))\n",
        "Model2.summary()\n",
        "Model2.load_weights('/content/sample_data/weights.best.VGG16.hdf5_transfer_learning')\n",
        "import time\n",
        "# Start timing\n",
        "start_time = time.time()\n",
        "VGG16_predictions = [Model2.predict(np.expand_dims(tensor, axis=0))[0] for tensor in bottleneck_features_test_VGG16]\n",
        "# End timing\n",
        "end_time = time.time()\n",
        "print(\"Time Taken: {} seconds\".format(end_time-start_time))\n"
      ]
    },
    {
      "cell_type": "markdown",
      "source": [
        "# **Report test accuracy**"
      ],
      "metadata": {
        "id": "DHpn4UsqZU_S"
      }
    },
    {
      "cell_type": "code",
      "execution_count": null,
      "metadata": {
        "colab": {
          "base_uri": "https://localhost:8080/"
        },
        "id": "phHmLvqNBKPn",
        "outputId": "fa84e29b-ce64-4627-ac6b-10c63a364b1a"
      },
      "outputs": [
        {
          "output_type": "stream",
          "name": "stdout",
          "text": [
            "              precision    recall  f1-score   support\n",
            "\n",
            "           0       0.94      1.00      0.97        16\n",
            "           1       0.85      1.00      0.92        11\n",
            "           2       1.00      1.00      1.00        12\n",
            "           3       1.00      1.00      1.00        12\n",
            "           4       1.00      1.00      1.00        13\n",
            "           5       1.00      1.00      1.00        17\n",
            "           6       1.00      1.00      1.00        18\n",
            "           7       1.00      1.00      1.00        13\n",
            "           8       1.00      1.00      1.00        16\n",
            "           9       1.00      1.00      1.00        17\n",
            "          10       1.00      1.00      1.00        19\n",
            "          11       1.00      1.00      1.00        12\n",
            "          12       1.00      1.00      1.00        11\n",
            "          13       1.00      1.00      1.00        20\n",
            "          14       1.00      1.00      1.00        19\n",
            "          15       1.00      1.00      1.00        11\n",
            "          16       1.00      1.00      1.00        21\n",
            "          17       1.00      1.00      1.00        10\n",
            "          18       1.00      1.00      1.00        13\n",
            "          19       1.00      1.00      1.00        16\n",
            "          20       1.00      1.00      1.00        14\n",
            "          21       1.00      1.00      1.00        10\n",
            "          22       1.00      1.00      1.00        11\n",
            "          23       1.00      1.00      1.00        15\n",
            "          24       1.00      0.92      0.96        12\n",
            "          25       1.00      1.00      1.00        17\n",
            "          26       1.00      1.00      1.00        20\n",
            "          27       1.00      1.00      1.00        11\n",
            "          28       1.00      1.00      1.00        11\n",
            "          29       1.00      1.00      1.00        11\n",
            "          30       1.00      1.00      1.00        18\n",
            "          31       1.00      1.00      1.00         7\n",
            "          32       1.00      1.00      1.00         8\n",
            "          33       1.00      1.00      1.00         9\n",
            "          34       1.00      1.00      1.00        18\n",
            "          35       1.00      0.86      0.92        14\n",
            "\n",
            "    accuracy                           0.99       503\n",
            "   macro avg       0.99      0.99      0.99       503\n",
            "weighted avg       0.99      0.99      0.99       503\n",
            "\n",
            "[[16  0  0 ...  0  0  0]\n",
            " [ 0 11  0 ...  0  0  0]\n",
            " [ 0  0 12 ...  0  0  0]\n",
            " ...\n",
            " [ 0  0  0 ...  9  0  0]\n",
            " [ 0  0  0 ...  0 18  0]\n",
            " [ 0  2  0 ...  0  0 12]]\n"
          ]
        }
      ],
      "source": [
        "\n",
        "predicted_classes = np.argmax(np.round(VGG16_predictions),axis=1)\n",
        "test_classes = np.argmax(np.round(test_targets),axis=1)\n",
        "from sklearn.metrics import classification_report\n",
        "print(classification_report(test_classes, predicted_classes))\n",
        "from sklearn.metrics import confusion_matrix\n",
        "confusion_mtx = confusion_matrix(test_classes, predicted_classes)\n",
        "print(confusion_mtx)\n"
      ]
    },
    {
      "cell_type": "code",
      "execution_count": null,
      "metadata": {
        "id": "pXU55kbppw99"
      },
      "outputs": [],
      "source": []
    }
  ],
  "metadata": {
    "colab": {
      "provenance": []
    },
    "gpuClass": "standard",
    "kernelspec": {
      "display_name": "Python 3",
      "name": "python3"
    },
    "language_info": {
      "name": "python"
    }
  },
  "nbformat": 4,
  "nbformat_minor": 0
}